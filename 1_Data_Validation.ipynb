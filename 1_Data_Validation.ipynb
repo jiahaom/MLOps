{
  "nbformat": 4,
  "nbformat_minor": 0,
  "metadata": {
    "colab": {
      "provenance": [],
      "toc_visible": true,
      "include_colab_link": true
    },
    "kernelspec": {
      "name": "python3",
      "display_name": "Python 3"
    },
    "language_info": {
      "name": "python"
    }
  },
  "cells": [
    {
      "cell_type": "markdown",
      "metadata": {
        "id": "view-in-github",
        "colab_type": "text"
      },
      "source": [
        "<a href=\"https://colab.research.google.com/github/jiahaom/MLOps/blob/main/1_Data_Validation.ipynb\" target=\"_parent\"><img src=\"https://colab.research.google.com/assets/colab-badge.svg\" alt=\"Open In Colab\"/></a>"
      ]
    },
    {
      "cell_type": "markdown",
      "source": [
        "# 1. Data Validation"
      ],
      "metadata": {
        "id": "fX5qxCr4aeMy"
      }
    },
    {
      "cell_type": "markdown",
      "source": [
        "## 1.1 Data Quality\n",
        "> Data is the First Class Citizen for ML.\n",
        "\n",
        "ℹ️ Data quality is important for a data pipeline in MLops because it affects the performance and accuracy of the machine learning models that are built and deployed. Ensuring high data quality is an important step in the MLops process to ensure that the models are reliable and accurate.\n",
        "\n",
        "❌ Poor quality data can lead to inaccurate or biased models, which can result in poor decision-making and poor performance in production. Additionally, poor data quality can also cause delays and additional costs in the development and deployment of machine learning models. \n",
        "\n",
        "✅ By generating and visualizing data statistics, it is possible to get a better understanding of the data and identify potential problems early on. This can help to improve the performance and accuracy of the machine learning models that are built and deployed."
      ],
      "metadata": {
        "id": "n2YFMBG4WHWE"
      }
    },
    {
      "cell_type": "markdown",
      "source": [
        "## 1.2 TensorFlow Data Validation \n",
        "ℹ️ TensorFlow Data Validation (TFDV) is a library provided by TensorFlow that can be used in MLOps to validate and analyze large datasets before they are used to train machine learning models. \n",
        "\n",
        "✅ By using TFDV, data scientists and engineers can detect and correct data quality issues early on, which can help to improve the performance and accuracy of the models. Additionally, it can also be used to detect data drift, monitor data distribution changes and detect data skew, which can help to ensure that the models continue to perform well in production.\n",
        "The library provides tools for:\n",
        "\n",
        "- Schema Generation: It creates a schema for a dataset based on the data types and statistics of the features.\n",
        "- Schema Comparison: It can compare two schemas and identify differences between them, which can help to detect changes in the data distribution.\n",
        "- Data Validation: It can check if the data conforms to the schema, including checking for missing values, data types, and feature ranges, and can also detect and notify about data outliers.\n",
        "- Data Statistics: It can generate statistics for the data, such as mean, standard deviation, and histograms, which can be used to visualize the data and identify potential problems.\n",
        "- Anomaly Detection: It can detect anomalies in the data by comparing the statistics of the data to the statistics of a previous version of the data.\n",
        "\n",
        "🖥️ To use TFDV in Google Colab, you will need to first install the TensorFlow Data Validation library. We can do this by running the following command in a Google Colab notebook cell:\n",
        "> Hint: TFDV doesn't support Apple silicon currently (Jan 2023)"
      ],
      "metadata": {
        "id": "7kPj0Yp4akA1"
      }
    },
    {
      "cell_type": "code",
      "source": [
        "# !pip install tensorflow_data_validation"
      ],
      "metadata": {
        "id": "xrI1yWyODF_o"
      },
      "execution_count": 2,
      "outputs": []
    },
    {
      "cell_type": "markdown",
      "source": [
        "Once the library is installed, we can start using it to validate and analyze our data."
      ],
      "metadata": {
        "id": "m5MwMaltW5lQ"
      }
    },
    {
      "cell_type": "code",
      "execution_count": 3,
      "metadata": {
        "colab": {
          "base_uri": "https://localhost:8080/"
        },
        "id": "HC6L85ZEC1B0",
        "outputId": "a8af7f83-d55a-4ee2-ae8b-302dabe971a6"
      },
      "outputs": [
        {
          "output_type": "stream",
          "name": "stdout",
          "text": [
            "TFDV Version: 1.12.0\n",
            "Tensorflow Version: 2.11.0\n"
          ]
        }
      ],
      "source": [
        "import tensorflow as tf\n",
        "import tensorflow_data_validation as tfdv\n",
        "from tensorflow_metadata.proto.v0 import schema_pb2\n",
        "\n",
        "print('TFDV Version: {}'.format(tfdv.__version__))\n",
        "print('Tensorflow Version: {}'.format(tf.__version__))"
      ]
    },
    {
      "cell_type": "markdown",
      "source": [
        "## 1.3 Load the Dataset\n"
      ],
      "metadata": {
        "id": "2oZF6n2PT0in"
      }
    },
    {
      "cell_type": "markdown",
      "source": [
        "The dataset we used is about MOOC dropout prediction, which includes followed features:\n",
        "- user_log_num\n",
        "- course_log_num\n",
        "- take_course_num\n",
        "- take_user_num\n",
        "- log_num\n",
        "- server_nagivate\n",
        "- server_access\n",
        "- server_problem\n",
        "- browser_access\n",
        "- browser_problem\n",
        "- browser_page_close\n",
        "- browser_video\n",
        "- server_discussion\n",
        "- server_wiki\n",
        "- chapter_count\n",
        "- sequential_count\n",
        "- video_count\n",
        "- problem_count\n",
        "- discussion_count\n",
        "- taked_course_chapter_amount\n",
        "- taked_course_video_amount\n",
        "- taked_course_discussion_amount"
      ],
      "metadata": {
        "id": "1-h54kzQhzcp"
      }
    },
    {
      "cell_type": "code",
      "source": [
        "import pandas as pd\n",
        "\n",
        "data = pd.read_csv('Mooc.csv',index_col = 'Unnamed: 0')\n",
        "\n",
        "data.head()"
      ],
      "metadata": {
        "id": "qDQpx61OC15O",
        "colab": {
          "base_uri": "https://localhost:8080/",
          "height": 300
        },
        "outputId": "8b340e3a-e9ca-4a8f-d528-9b74e0364c0d"
      },
      "execution_count": 4,
      "outputs": [
        {
          "output_type": "execute_result",
          "data": {
            "text/plain": [
              "   user_log_num  course_log_num  take_course_num  take_user_num  log_num  \\\n",
              "0          1029          878119                6          10322      314   \n",
              "1           839          148500                3           1481      288   \n",
              "2           289          878119                2          10322       99   \n",
              "3           633          148500                1           1481      633   \n",
              "4            23          334927                1           7775       23   \n",
              "\n",
              "   server_nagivate  server_access  server_problem  browser_access  \\\n",
              "0               25             86               8              21   \n",
              "1               14             45               3              34   \n",
              "2               15             64               1               0   \n",
              "3               30            106              32             120   \n",
              "4                5             12               0               0   \n",
              "\n",
              "   browser_problem  ...  server_wiki  chapter_count  sequential_count  \\\n",
              "0               79  ...            0             13                80   \n",
              "1              135  ...            0              9                60   \n",
              "2                5  ...            0             11                41   \n",
              "3              138  ...            0             14               197   \n",
              "4                2  ...            0              1                 9   \n",
              "\n",
              "   video_count  problem_count  discussion_count  taked_course_chapter_amount  \\\n",
              "0           29             87                 0                           13   \n",
              "1            9            138                26                           12   \n",
              "2            4              6                 0                           13   \n",
              "3           82            170                34                           12   \n",
              "4            2              2                 0                           14   \n",
              "\n",
              "   taked_course_video_amount  taked_course_discussion_amount  Success  \n",
              "0                         56                               0        0  \n",
              "1                        113                             129        0  \n",
              "2                         56                               0        0  \n",
              "3                        113                             129        0  \n",
              "4                         57                               0        0  \n",
              "\n",
              "[5 rows x 23 columns]"
            ],
            "text/html": [
              "\n",
              "  <div id=\"df-156ff492-7ade-4aa9-836a-6143425ff4ba\">\n",
              "    <div class=\"colab-df-container\">\n",
              "      <div>\n",
              "<style scoped>\n",
              "    .dataframe tbody tr th:only-of-type {\n",
              "        vertical-align: middle;\n",
              "    }\n",
              "\n",
              "    .dataframe tbody tr th {\n",
              "        vertical-align: top;\n",
              "    }\n",
              "\n",
              "    .dataframe thead th {\n",
              "        text-align: right;\n",
              "    }\n",
              "</style>\n",
              "<table border=\"1\" class=\"dataframe\">\n",
              "  <thead>\n",
              "    <tr style=\"text-align: right;\">\n",
              "      <th></th>\n",
              "      <th>user_log_num</th>\n",
              "      <th>course_log_num</th>\n",
              "      <th>take_course_num</th>\n",
              "      <th>take_user_num</th>\n",
              "      <th>log_num</th>\n",
              "      <th>server_nagivate</th>\n",
              "      <th>server_access</th>\n",
              "      <th>server_problem</th>\n",
              "      <th>browser_access</th>\n",
              "      <th>browser_problem</th>\n",
              "      <th>...</th>\n",
              "      <th>server_wiki</th>\n",
              "      <th>chapter_count</th>\n",
              "      <th>sequential_count</th>\n",
              "      <th>video_count</th>\n",
              "      <th>problem_count</th>\n",
              "      <th>discussion_count</th>\n",
              "      <th>taked_course_chapter_amount</th>\n",
              "      <th>taked_course_video_amount</th>\n",
              "      <th>taked_course_discussion_amount</th>\n",
              "      <th>Success</th>\n",
              "    </tr>\n",
              "  </thead>\n",
              "  <tbody>\n",
              "    <tr>\n",
              "      <th>0</th>\n",
              "      <td>1029</td>\n",
              "      <td>878119</td>\n",
              "      <td>6</td>\n",
              "      <td>10322</td>\n",
              "      <td>314</td>\n",
              "      <td>25</td>\n",
              "      <td>86</td>\n",
              "      <td>8</td>\n",
              "      <td>21</td>\n",
              "      <td>79</td>\n",
              "      <td>...</td>\n",
              "      <td>0</td>\n",
              "      <td>13</td>\n",
              "      <td>80</td>\n",
              "      <td>29</td>\n",
              "      <td>87</td>\n",
              "      <td>0</td>\n",
              "      <td>13</td>\n",
              "      <td>56</td>\n",
              "      <td>0</td>\n",
              "      <td>0</td>\n",
              "    </tr>\n",
              "    <tr>\n",
              "      <th>1</th>\n",
              "      <td>839</td>\n",
              "      <td>148500</td>\n",
              "      <td>3</td>\n",
              "      <td>1481</td>\n",
              "      <td>288</td>\n",
              "      <td>14</td>\n",
              "      <td>45</td>\n",
              "      <td>3</td>\n",
              "      <td>34</td>\n",
              "      <td>135</td>\n",
              "      <td>...</td>\n",
              "      <td>0</td>\n",
              "      <td>9</td>\n",
              "      <td>60</td>\n",
              "      <td>9</td>\n",
              "      <td>138</td>\n",
              "      <td>26</td>\n",
              "      <td>12</td>\n",
              "      <td>113</td>\n",
              "      <td>129</td>\n",
              "      <td>0</td>\n",
              "    </tr>\n",
              "    <tr>\n",
              "      <th>2</th>\n",
              "      <td>289</td>\n",
              "      <td>878119</td>\n",
              "      <td>2</td>\n",
              "      <td>10322</td>\n",
              "      <td>99</td>\n",
              "      <td>15</td>\n",
              "      <td>64</td>\n",
              "      <td>1</td>\n",
              "      <td>0</td>\n",
              "      <td>5</td>\n",
              "      <td>...</td>\n",
              "      <td>0</td>\n",
              "      <td>11</td>\n",
              "      <td>41</td>\n",
              "      <td>4</td>\n",
              "      <td>6</td>\n",
              "      <td>0</td>\n",
              "      <td>13</td>\n",
              "      <td>56</td>\n",
              "      <td>0</td>\n",
              "      <td>0</td>\n",
              "    </tr>\n",
              "    <tr>\n",
              "      <th>3</th>\n",
              "      <td>633</td>\n",
              "      <td>148500</td>\n",
              "      <td>1</td>\n",
              "      <td>1481</td>\n",
              "      <td>633</td>\n",
              "      <td>30</td>\n",
              "      <td>106</td>\n",
              "      <td>32</td>\n",
              "      <td>120</td>\n",
              "      <td>138</td>\n",
              "      <td>...</td>\n",
              "      <td>0</td>\n",
              "      <td>14</td>\n",
              "      <td>197</td>\n",
              "      <td>82</td>\n",
              "      <td>170</td>\n",
              "      <td>34</td>\n",
              "      <td>12</td>\n",
              "      <td>113</td>\n",
              "      <td>129</td>\n",
              "      <td>0</td>\n",
              "    </tr>\n",
              "    <tr>\n",
              "      <th>4</th>\n",
              "      <td>23</td>\n",
              "      <td>334927</td>\n",
              "      <td>1</td>\n",
              "      <td>7775</td>\n",
              "      <td>23</td>\n",
              "      <td>5</td>\n",
              "      <td>12</td>\n",
              "      <td>0</td>\n",
              "      <td>0</td>\n",
              "      <td>2</td>\n",
              "      <td>...</td>\n",
              "      <td>0</td>\n",
              "      <td>1</td>\n",
              "      <td>9</td>\n",
              "      <td>2</td>\n",
              "      <td>2</td>\n",
              "      <td>0</td>\n",
              "      <td>14</td>\n",
              "      <td>57</td>\n",
              "      <td>0</td>\n",
              "      <td>0</td>\n",
              "    </tr>\n",
              "  </tbody>\n",
              "</table>\n",
              "<p>5 rows × 23 columns</p>\n",
              "</div>\n",
              "      <button class=\"colab-df-convert\" onclick=\"convertToInteractive('df-156ff492-7ade-4aa9-836a-6143425ff4ba')\"\n",
              "              title=\"Convert this dataframe to an interactive table.\"\n",
              "              style=\"display:none;\">\n",
              "        \n",
              "  <svg xmlns=\"http://www.w3.org/2000/svg\" height=\"24px\"viewBox=\"0 0 24 24\"\n",
              "       width=\"24px\">\n",
              "    <path d=\"M0 0h24v24H0V0z\" fill=\"none\"/>\n",
              "    <path d=\"M18.56 5.44l.94 2.06.94-2.06 2.06-.94-2.06-.94-.94-2.06-.94 2.06-2.06.94zm-11 1L8.5 8.5l.94-2.06 2.06-.94-2.06-.94L8.5 2.5l-.94 2.06-2.06.94zm10 10l.94 2.06.94-2.06 2.06-.94-2.06-.94-.94-2.06-.94 2.06-2.06.94z\"/><path d=\"M17.41 7.96l-1.37-1.37c-.4-.4-.92-.59-1.43-.59-.52 0-1.04.2-1.43.59L10.3 9.45l-7.72 7.72c-.78.78-.78 2.05 0 2.83L4 21.41c.39.39.9.59 1.41.59.51 0 1.02-.2 1.41-.59l7.78-7.78 2.81-2.81c.8-.78.8-2.07 0-2.86zM5.41 20L4 18.59l7.72-7.72 1.47 1.35L5.41 20z\"/>\n",
              "  </svg>\n",
              "      </button>\n",
              "      \n",
              "  <style>\n",
              "    .colab-df-container {\n",
              "      display:flex;\n",
              "      flex-wrap:wrap;\n",
              "      gap: 12px;\n",
              "    }\n",
              "\n",
              "    .colab-df-convert {\n",
              "      background-color: #E8F0FE;\n",
              "      border: none;\n",
              "      border-radius: 50%;\n",
              "      cursor: pointer;\n",
              "      display: none;\n",
              "      fill: #1967D2;\n",
              "      height: 32px;\n",
              "      padding: 0 0 0 0;\n",
              "      width: 32px;\n",
              "    }\n",
              "\n",
              "    .colab-df-convert:hover {\n",
              "      background-color: #E2EBFA;\n",
              "      box-shadow: 0px 1px 2px rgba(60, 64, 67, 0.3), 0px 1px 3px 1px rgba(60, 64, 67, 0.15);\n",
              "      fill: #174EA6;\n",
              "    }\n",
              "\n",
              "    [theme=dark] .colab-df-convert {\n",
              "      background-color: #3B4455;\n",
              "      fill: #D2E3FC;\n",
              "    }\n",
              "\n",
              "    [theme=dark] .colab-df-convert:hover {\n",
              "      background-color: #434B5C;\n",
              "      box-shadow: 0px 1px 3px 1px rgba(0, 0, 0, 0.15);\n",
              "      filter: drop-shadow(0px 1px 2px rgba(0, 0, 0, 0.3));\n",
              "      fill: #FFFFFF;\n",
              "    }\n",
              "  </style>\n",
              "\n",
              "      <script>\n",
              "        const buttonEl =\n",
              "          document.querySelector('#df-156ff492-7ade-4aa9-836a-6143425ff4ba button.colab-df-convert');\n",
              "        buttonEl.style.display =\n",
              "          google.colab.kernel.accessAllowed ? 'block' : 'none';\n",
              "\n",
              "        async function convertToInteractive(key) {\n",
              "          const element = document.querySelector('#df-156ff492-7ade-4aa9-836a-6143425ff4ba');\n",
              "          const dataTable =\n",
              "            await google.colab.kernel.invokeFunction('convertToInteractive',\n",
              "                                                     [key], {});\n",
              "          if (!dataTable) return;\n",
              "\n",
              "          const docLinkHtml = 'Like what you see? Visit the ' +\n",
              "            '<a target=\"_blank\" href=https://colab.research.google.com/notebooks/data_table.ipynb>data table notebook</a>'\n",
              "            + ' to learn more about interactive tables.';\n",
              "          element.innerHTML = '';\n",
              "          dataTable['output_type'] = 'display_data';\n",
              "          await google.colab.output.renderOutput(dataTable, element);\n",
              "          const docLink = document.createElement('div');\n",
              "          docLink.innerHTML = docLinkHtml;\n",
              "          element.appendChild(docLink);\n",
              "        }\n",
              "      </script>\n",
              "    </div>\n",
              "  </div>\n",
              "  "
            ]
          },
          "metadata": {},
          "execution_count": 4
        }
      ]
    },
    {
      "cell_type": "markdown",
      "source": [
        "## 1.4 Split the Dataset\n",
        "In order to ensure the models are reliable and accurate, we split our dataset into 3 parts: Training (60%), Validation (20%) and Serving (20%)."
      ],
      "metadata": {
        "id": "8xs02319avcm"
      }
    },
    {
      "cell_type": "code",
      "source": [
        "from sklearn.model_selection import train_test_split\n",
        "\n",
        "train_data, val_data = train_test_split(data, test_size=0.2, random_state = 0)\n",
        "train_data, serve_data = train_test_split(train_data, test_size=0.25, random_state = 0)\n",
        "train_data = train_data.reset_index(drop=True)\n",
        "val_data = val_data.reset_index(drop=True)\n",
        "serve_data = serve_data.drop(['Success'], axis=1).reset_index(drop=True)\n",
        "print('Training dataset has {} records\\nValidation dataset has {} records\\nServing dataset has {} records'.format(len(train_data),len(val_data),len(serve_data)))"
      ],
      "metadata": {
        "colab": {
          "base_uri": "https://localhost:8080/"
        },
        "id": "vgG5gx6VvGXT",
        "outputId": "a79fdada-b03e-4a96-d492-f31b73ec56aa"
      },
      "execution_count": 5,
      "outputs": [
        {
          "output_type": "stream",
          "name": "stdout",
          "text": [
            "Training dataset has 57860 records\n",
            "Validation dataset has 19287 records\n",
            "Serving dataset has 19287 records\n"
          ]
        }
      ]
    },
    {
      "cell_type": "markdown",
      "source": [
        "## 1.5 Generate Training Data Statistics\n",
        "\n",
        "There are two ways to generate training data statistics:"
      ],
      "metadata": {
        "id": "m2nnSQUdwPqS"
      }
    },
    {
      "cell_type": "markdown",
      "source": [
        "### 1.5.1 From Pandas.DataFrame\n"
      ],
      "metadata": {
        "id": "ElF8ltCyF75G"
      }
    },
    {
      "cell_type": "code",
      "source": [
        "# feature_allowlist indicates which feature could be calculated for statistics.\n",
        "stats_options = tfdv.StatsOptions(feature_allowlist = list(data.columns))\n",
        "\n",
        "# Review allowed features\n",
        "for feature in stats_options.feature_allowlist:\n",
        "    print(feature)"
      ],
      "metadata": {
        "colab": {
          "base_uri": "https://localhost:8080/"
        },
        "id": "4dbFE2vl2cZH",
        "outputId": "7a6e2532-d7be-40dc-edb9-583f85e27fc0"
      },
      "execution_count": 6,
      "outputs": [
        {
          "output_type": "stream",
          "name": "stdout",
          "text": [
            "user_log_num\n",
            "course_log_num\n",
            "take_course_num\n",
            "take_user_num\n",
            "log_num\n",
            "server_nagivate\n",
            "server_access\n",
            "server_problem\n",
            "browser_access\n",
            "browser_problem\n",
            "browser_page_close\n",
            "browser_video\n",
            "server_discussion\n",
            "server_wiki\n",
            "chapter_count\n",
            "sequential_count\n",
            "video_count\n",
            "problem_count\n",
            "discussion_count\n",
            "taked_course_chapter_amount\n",
            "taked_course_video_amount\n",
            "taked_course_discussion_amount\n",
            "Success\n"
          ]
        }
      ]
    },
    {
      "cell_type": "markdown",
      "source": [
        "### 1.5.2 From CSV file"
      ],
      "metadata": {
        "id": "e9LPcvBoHhZR"
      }
    },
    {
      "cell_type": "code",
      "source": [
        "stats_csv = tfdv.generate_statistics_from_csv(data_location='Mooc.csv', delimiter=',')"
      ],
      "metadata": {
        "id": "PtfLLK-JH1xM",
        "colab": {
          "base_uri": "https://localhost:8080/",
          "height": 141
        },
        "outputId": "e4587bd3-200b-47c0-dbab-803516898671"
      },
      "execution_count": 7,
      "outputs": [
        {
          "output_type": "stream",
          "name": "stderr",
          "text": [
            "WARNING:apache_beam.runners.interactive.interactive_environment:Dependencies required for Interactive Beam PCollection visualization are not available, please use: `pip install apache-beam[interactive]` to install necessary dependencies to enable all data visualization features.\n"
          ]
        },
        {
          "output_type": "display_data",
          "data": {
            "application/javascript": [
              "\n",
              "        if (typeof window.interactive_beam_jquery == 'undefined') {\n",
              "          var jqueryScript = document.createElement('script');\n",
              "          jqueryScript.src = 'https://code.jquery.com/jquery-3.4.1.slim.min.js';\n",
              "          jqueryScript.type = 'text/javascript';\n",
              "          jqueryScript.onload = function() {\n",
              "            var datatableScript = document.createElement('script');\n",
              "            datatableScript.src = 'https://cdn.datatables.net/1.10.20/js/jquery.dataTables.min.js';\n",
              "            datatableScript.type = 'text/javascript';\n",
              "            datatableScript.onload = function() {\n",
              "              window.interactive_beam_jquery = jQuery.noConflict(true);\n",
              "              window.interactive_beam_jquery(document).ready(function($){\n",
              "                \n",
              "              });\n",
              "            }\n",
              "            document.head.appendChild(datatableScript);\n",
              "          };\n",
              "          document.head.appendChild(jqueryScript);\n",
              "        } else {\n",
              "          window.interactive_beam_jquery(document).ready(function($){\n",
              "            \n",
              "          });\n",
              "        }"
            ]
          },
          "metadata": {}
        },
        {
          "output_type": "stream",
          "name": "stderr",
          "text": [
            "WARNING:apache_beam.io.tfrecordio:Couldn't find python-snappy so the implementation of _TFRecordUtil._masked_crc32c is not as fast as it could be.\n",
            "WARNING:tensorflow:From /usr/local/lib/python3.8/dist-packages/tensorflow_data_validation/utils/statistics_io_impl.py:91: tf_record_iterator (from tensorflow.python.lib.io.tf_record) is deprecated and will be removed in a future version.\n",
            "Instructions for updating:\n",
            "Use eager execution and: \n",
            "`tf.data.TFRecordDataset(path)`\n"
          ]
        }
      ]
    },
    {
      "cell_type": "markdown",
      "source": [
        "## 1.6 Visualize Training Data Statistics"
      ],
      "metadata": {
        "id": "XQAHrSJlHI-I"
      }
    },
    {
      "cell_type": "code",
      "source": [
        "train_stats = tfdv.generate_statistics_from_dataframe(train_data)\n",
        "tfdv.visualize_statistics(train_stats)"
      ],
      "metadata": {
        "colab": {
          "base_uri": "https://localhost:8080/",
          "height": 1000
        },
        "id": "bsVR4wuY9nbu",
        "outputId": "a49cef0a-daa1-484c-d8b9-394e993a208e"
      },
      "execution_count": 8,
      "outputs": [
        {
          "output_type": "display_data",
          "data": {
            "text/plain": [
              "<IPython.core.display.HTML object>"
            ],
            "text/html": [
              "<iframe id='facets-iframe' width=\"100%\" height=\"500px\"></iframe>\n",
              "        <script>\n",
              "        facets_iframe = document.getElementById('facets-iframe');\n",
              "        facets_html = '<script src=\"https://cdnjs.cloudflare.com/ajax/libs/webcomponentsjs/1.3.3/webcomponents-lite.js\"><\\/script><link rel=\"import\" href=\"https://raw.githubusercontent.com/PAIR-code/facets/master/facets-dist/facets-jupyter.html\"><facets-overview proto-input=\"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\"></facets-overview>';\n",
              "        facets_iframe.srcdoc = facets_html;\n",
              "         facets_iframe.id = \"\";\n",
              "         setTimeout(() => {\n",
              "           facets_iframe.setAttribute('height', facets_iframe.contentWindow.document.body.offsetHeight + 'px')\n",
              "         }, 1500)\n",
              "         </script>"
            ]
          },
          "metadata": {}
        }
      ]
    },
    {
      "cell_type": "markdown",
      "source": [
        "## 1.7 Generate Training Data Schema \n",
        "\n",
        "ℹ️ A data schema is a blueprint or a set of rules that defines the structure, organization, and format of a dataset. It describes the types of data that are stored in the dataset, the relationships between different data elements, and the constraints on the data values.\n",
        "\n",
        "✅ TFDV provides a method called `generate_schema()` that can automatically create a schema based on the data types and statistics of the features in a dataset. The schema is represented as a Schema object, which can be used to validate and analyze the data. For example, by comparing the statistics and schema of different versions of the data to detect data drift, or by comparing the statistics of different classes to detect data skew.\n",
        "\n",
        "❌ Keep in mind that, schema generation is not a replacement for traditional data cleaning and preprocessing steps, but it can be a useful tool for identifying data quality issues, and for monitoring the data pipeline in MLops."
      ],
      "metadata": {
        "id": "vqbYvdnHCrxi"
      }
    },
    {
      "cell_type": "code",
      "source": [
        "train_schema = tfdv.infer_schema(statistics=train_stats)\n",
        "tfdv.display_schema(train_schema)"
      ],
      "metadata": {
        "colab": {
          "base_uri": "https://localhost:8080/",
          "height": 802
        },
        "id": "uEAEa36S9URa",
        "outputId": "30c8b61d-65bc-4536-a758-20e49cde5d79"
      },
      "execution_count": 9,
      "outputs": [
        {
          "output_type": "display_data",
          "data": {
            "text/plain": [
              "                                 Type  Presence Valency Domain\n",
              "Feature name                                                  \n",
              "'user_log_num'                    INT  required              -\n",
              "'course_log_num'                  INT  required              -\n",
              "'take_course_num'                 INT  required              -\n",
              "'take_user_num'                   INT  required              -\n",
              "'log_num'                         INT  required              -\n",
              "'server_nagivate'                 INT  required              -\n",
              "'server_access'                   INT  required              -\n",
              "'server_problem'                  INT  required              -\n",
              "'browser_access'                  INT  required              -\n",
              "'browser_problem'                 INT  required              -\n",
              "'browser_page_close'              INT  required              -\n",
              "'browser_video'                   INT  required              -\n",
              "'server_discussion'               INT  required              -\n",
              "'server_wiki'                     INT  required              -\n",
              "'chapter_count'                   INT  required              -\n",
              "'sequential_count'                INT  required              -\n",
              "'video_count'                     INT  required              -\n",
              "'problem_count'                   INT  required              -\n",
              "'discussion_count'                INT  required              -\n",
              "'taked_course_chapter_amount'     INT  required              -\n",
              "'taked_course_video_amount'       INT  required              -\n",
              "'taked_course_discussion_amount'  INT  required              -\n",
              "'Success'                         INT  required              -"
            ],
            "text/html": [
              "\n",
              "  <div id=\"df-bb4450cc-a6ef-4cc4-abb8-fe4d5bc3ec23\">\n",
              "    <div class=\"colab-df-container\">\n",
              "      <div>\n",
              "<style scoped>\n",
              "    .dataframe tbody tr th:only-of-type {\n",
              "        vertical-align: middle;\n",
              "    }\n",
              "\n",
              "    .dataframe tbody tr th {\n",
              "        vertical-align: top;\n",
              "    }\n",
              "\n",
              "    .dataframe thead th {\n",
              "        text-align: right;\n",
              "    }\n",
              "</style>\n",
              "<table border=\"1\" class=\"dataframe\">\n",
              "  <thead>\n",
              "    <tr style=\"text-align: right;\">\n",
              "      <th></th>\n",
              "      <th>Type</th>\n",
              "      <th>Presence</th>\n",
              "      <th>Valency</th>\n",
              "      <th>Domain</th>\n",
              "    </tr>\n",
              "    <tr>\n",
              "      <th>Feature name</th>\n",
              "      <th></th>\n",
              "      <th></th>\n",
              "      <th></th>\n",
              "      <th></th>\n",
              "    </tr>\n",
              "  </thead>\n",
              "  <tbody>\n",
              "    <tr>\n",
              "      <th>'user_log_num'</th>\n",
              "      <td>INT</td>\n",
              "      <td>required</td>\n",
              "      <td></td>\n",
              "      <td>-</td>\n",
              "    </tr>\n",
              "    <tr>\n",
              "      <th>'course_log_num'</th>\n",
              "      <td>INT</td>\n",
              "      <td>required</td>\n",
              "      <td></td>\n",
              "      <td>-</td>\n",
              "    </tr>\n",
              "    <tr>\n",
              "      <th>'take_course_num'</th>\n",
              "      <td>INT</td>\n",
              "      <td>required</td>\n",
              "      <td></td>\n",
              "      <td>-</td>\n",
              "    </tr>\n",
              "    <tr>\n",
              "      <th>'take_user_num'</th>\n",
              "      <td>INT</td>\n",
              "      <td>required</td>\n",
              "      <td></td>\n",
              "      <td>-</td>\n",
              "    </tr>\n",
              "    <tr>\n",
              "      <th>'log_num'</th>\n",
              "      <td>INT</td>\n",
              "      <td>required</td>\n",
              "      <td></td>\n",
              "      <td>-</td>\n",
              "    </tr>\n",
              "    <tr>\n",
              "      <th>'server_nagivate'</th>\n",
              "      <td>INT</td>\n",
              "      <td>required</td>\n",
              "      <td></td>\n",
              "      <td>-</td>\n",
              "    </tr>\n",
              "    <tr>\n",
              "      <th>'server_access'</th>\n",
              "      <td>INT</td>\n",
              "      <td>required</td>\n",
              "      <td></td>\n",
              "      <td>-</td>\n",
              "    </tr>\n",
              "    <tr>\n",
              "      <th>'server_problem'</th>\n",
              "      <td>INT</td>\n",
              "      <td>required</td>\n",
              "      <td></td>\n",
              "      <td>-</td>\n",
              "    </tr>\n",
              "    <tr>\n",
              "      <th>'browser_access'</th>\n",
              "      <td>INT</td>\n",
              "      <td>required</td>\n",
              "      <td></td>\n",
              "      <td>-</td>\n",
              "    </tr>\n",
              "    <tr>\n",
              "      <th>'browser_problem'</th>\n",
              "      <td>INT</td>\n",
              "      <td>required</td>\n",
              "      <td></td>\n",
              "      <td>-</td>\n",
              "    </tr>\n",
              "    <tr>\n",
              "      <th>'browser_page_close'</th>\n",
              "      <td>INT</td>\n",
              "      <td>required</td>\n",
              "      <td></td>\n",
              "      <td>-</td>\n",
              "    </tr>\n",
              "    <tr>\n",
              "      <th>'browser_video'</th>\n",
              "      <td>INT</td>\n",
              "      <td>required</td>\n",
              "      <td></td>\n",
              "      <td>-</td>\n",
              "    </tr>\n",
              "    <tr>\n",
              "      <th>'server_discussion'</th>\n",
              "      <td>INT</td>\n",
              "      <td>required</td>\n",
              "      <td></td>\n",
              "      <td>-</td>\n",
              "    </tr>\n",
              "    <tr>\n",
              "      <th>'server_wiki'</th>\n",
              "      <td>INT</td>\n",
              "      <td>required</td>\n",
              "      <td></td>\n",
              "      <td>-</td>\n",
              "    </tr>\n",
              "    <tr>\n",
              "      <th>'chapter_count'</th>\n",
              "      <td>INT</td>\n",
              "      <td>required</td>\n",
              "      <td></td>\n",
              "      <td>-</td>\n",
              "    </tr>\n",
              "    <tr>\n",
              "      <th>'sequential_count'</th>\n",
              "      <td>INT</td>\n",
              "      <td>required</td>\n",
              "      <td></td>\n",
              "      <td>-</td>\n",
              "    </tr>\n",
              "    <tr>\n",
              "      <th>'video_count'</th>\n",
              "      <td>INT</td>\n",
              "      <td>required</td>\n",
              "      <td></td>\n",
              "      <td>-</td>\n",
              "    </tr>\n",
              "    <tr>\n",
              "      <th>'problem_count'</th>\n",
              "      <td>INT</td>\n",
              "      <td>required</td>\n",
              "      <td></td>\n",
              "      <td>-</td>\n",
              "    </tr>\n",
              "    <tr>\n",
              "      <th>'discussion_count'</th>\n",
              "      <td>INT</td>\n",
              "      <td>required</td>\n",
              "      <td></td>\n",
              "      <td>-</td>\n",
              "    </tr>\n",
              "    <tr>\n",
              "      <th>'taked_course_chapter_amount'</th>\n",
              "      <td>INT</td>\n",
              "      <td>required</td>\n",
              "      <td></td>\n",
              "      <td>-</td>\n",
              "    </tr>\n",
              "    <tr>\n",
              "      <th>'taked_course_video_amount'</th>\n",
              "      <td>INT</td>\n",
              "      <td>required</td>\n",
              "      <td></td>\n",
              "      <td>-</td>\n",
              "    </tr>\n",
              "    <tr>\n",
              "      <th>'taked_course_discussion_amount'</th>\n",
              "      <td>INT</td>\n",
              "      <td>required</td>\n",
              "      <td></td>\n",
              "      <td>-</td>\n",
              "    </tr>\n",
              "    <tr>\n",
              "      <th>'Success'</th>\n",
              "      <td>INT</td>\n",
              "      <td>required</td>\n",
              "      <td></td>\n",
              "      <td>-</td>\n",
              "    </tr>\n",
              "  </tbody>\n",
              "</table>\n",
              "</div>\n",
              "      <button class=\"colab-df-convert\" onclick=\"convertToInteractive('df-bb4450cc-a6ef-4cc4-abb8-fe4d5bc3ec23')\"\n",
              "              title=\"Convert this dataframe to an interactive table.\"\n",
              "              style=\"display:none;\">\n",
              "        \n",
              "  <svg xmlns=\"http://www.w3.org/2000/svg\" height=\"24px\"viewBox=\"0 0 24 24\"\n",
              "       width=\"24px\">\n",
              "    <path d=\"M0 0h24v24H0V0z\" fill=\"none\"/>\n",
              "    <path d=\"M18.56 5.44l.94 2.06.94-2.06 2.06-.94-2.06-.94-.94-2.06-.94 2.06-2.06.94zm-11 1L8.5 8.5l.94-2.06 2.06-.94-2.06-.94L8.5 2.5l-.94 2.06-2.06.94zm10 10l.94 2.06.94-2.06 2.06-.94-2.06-.94-.94-2.06-.94 2.06-2.06.94z\"/><path d=\"M17.41 7.96l-1.37-1.37c-.4-.4-.92-.59-1.43-.59-.52 0-1.04.2-1.43.59L10.3 9.45l-7.72 7.72c-.78.78-.78 2.05 0 2.83L4 21.41c.39.39.9.59 1.41.59.51 0 1.02-.2 1.41-.59l7.78-7.78 2.81-2.81c.8-.78.8-2.07 0-2.86zM5.41 20L4 18.59l7.72-7.72 1.47 1.35L5.41 20z\"/>\n",
              "  </svg>\n",
              "      </button>\n",
              "      \n",
              "  <style>\n",
              "    .colab-df-container {\n",
              "      display:flex;\n",
              "      flex-wrap:wrap;\n",
              "      gap: 12px;\n",
              "    }\n",
              "\n",
              "    .colab-df-convert {\n",
              "      background-color: #E8F0FE;\n",
              "      border: none;\n",
              "      border-radius: 50%;\n",
              "      cursor: pointer;\n",
              "      display: none;\n",
              "      fill: #1967D2;\n",
              "      height: 32px;\n",
              "      padding: 0 0 0 0;\n",
              "      width: 32px;\n",
              "    }\n",
              "\n",
              "    .colab-df-convert:hover {\n",
              "      background-color: #E2EBFA;\n",
              "      box-shadow: 0px 1px 2px rgba(60, 64, 67, 0.3), 0px 1px 3px 1px rgba(60, 64, 67, 0.15);\n",
              "      fill: #174EA6;\n",
              "    }\n",
              "\n",
              "    [theme=dark] .colab-df-convert {\n",
              "      background-color: #3B4455;\n",
              "      fill: #D2E3FC;\n",
              "    }\n",
              "\n",
              "    [theme=dark] .colab-df-convert:hover {\n",
              "      background-color: #434B5C;\n",
              "      box-shadow: 0px 1px 3px 1px rgba(0, 0, 0, 0.15);\n",
              "      filter: drop-shadow(0px 1px 2px rgba(0, 0, 0, 0.3));\n",
              "      fill: #FFFFFF;\n",
              "    }\n",
              "  </style>\n",
              "\n",
              "      <script>\n",
              "        const buttonEl =\n",
              "          document.querySelector('#df-bb4450cc-a6ef-4cc4-abb8-fe4d5bc3ec23 button.colab-df-convert');\n",
              "        buttonEl.style.display =\n",
              "          google.colab.kernel.accessAllowed ? 'block' : 'none';\n",
              "\n",
              "        async function convertToInteractive(key) {\n",
              "          const element = document.querySelector('#df-bb4450cc-a6ef-4cc4-abb8-fe4d5bc3ec23');\n",
              "          const dataTable =\n",
              "            await google.colab.kernel.invokeFunction('convertToInteractive',\n",
              "                                                     [key], {});\n",
              "          if (!dataTable) return;\n",
              "\n",
              "          const docLinkHtml = 'Like what you see? Visit the ' +\n",
              "            '<a target=\"_blank\" href=https://colab.research.google.com/notebooks/data_table.ipynb>data table notebook</a>'\n",
              "            + ' to learn more about interactive tables.';\n",
              "          element.innerHTML = '';\n",
              "          dataTable['output_type'] = 'display_data';\n",
              "          await google.colab.output.renderOutput(dataTable, element);\n",
              "          const docLink = document.createElement('div');\n",
              "          docLink.innerHTML = docLinkHtml;\n",
              "          element.appendChild(docLink);\n",
              "        }\n",
              "      </script>\n",
              "    </div>\n",
              "  </div>\n",
              "  "
            ]
          },
          "metadata": {}
        }
      ]
    },
    {
      "cell_type": "markdown",
      "source": [
        "## 1.8 Recognize and Fix DataData Problems"
      ],
      "metadata": {
        "id": "G-hBxr3m-AOl"
      }
    },
    {
      "cell_type": "markdown",
      "source": [
        "### 1.8.1 Compare Datasets\n",
        "\n",
        "ℹ️ Schema skew refers to a situation where the schema of a dataset changes over time, leading to inconsistencies or inaccuracies in the data. This can happen for various reasons, such as changes in data sources, data processing pipelines, or data storage systems.\n",
        "\n",
        "❌ Schema skew can cause a variety of problems in data processing and analysis, such as:\n",
        "\n",
        "1. Inconsistencies in the data that can lead to incorrect or incomplete results.\n",
        "1. Difficulty in understanding the data, as the schema is not consistent across the dataset.\n",
        "1. Difficulty in integrating and merging data from different sources, as the schema is not consistent across the dataset.\n",
        "1. Difficulty in implementing data governance and data quality control, as the schema is not consistent across the dataset.\n",
        "\n",
        "✅  It's important to keep monitoring the data pipeline, validate the data against the schema, and update the schema accordingly. This can be done by using tools such as TensorFlow Data Validation (TFDV) which can detect and notify about schema skew by comparing the statistics and schema of different versions of the data."
      ],
      "metadata": {
        "id": "UalJNo1nGxkj"
      }
    },
    {
      "cell_type": "code",
      "source": [
        "print(f\"First feature of Train: {train_stats.datasets[0].features[0].path.step[0]}\")\n",
        "print(f\"Last feature of Train: {train_stats.datasets[0].features[-1].path.step[0]}\")\n",
        "print(f\"Number of features used: {len(train_stats.datasets[0].features)}\")\n",
        "print(f\"Number of examples used: {train_stats.datasets[0].num_examples}\\n\")\n",
        "\n",
        "\n",
        "\n",
        "val_stats = tfdv.generate_statistics_from_dataframe(val_data, stats_options)\n",
        "print(f\"First feature of Val: {val_stats.datasets[0].features[0].path.step[0]}\")\n",
        "print(f\"Last feature of Val: {val_stats.datasets[0].features[-1].path.step[0]}\")\n",
        "print(f\"Number of features used: {len(val_stats.datasets[0].features)}\")\n",
        "print(f\"Number of examples used: {val_stats.datasets[0].num_examples}\")\n",
        "\n",
        "test_stats = tfdv.generate_statistics_from_dataframe(serve_data, stats_options)"
      ],
      "metadata": {
        "colab": {
          "base_uri": "https://localhost:8080/"
        },
        "id": "fVL7_KWaIX9X",
        "outputId": "68548524-30eb-4786-cfe8-9e7bb85c5711"
      },
      "execution_count": 10,
      "outputs": [
        {
          "output_type": "stream",
          "name": "stdout",
          "text": [
            "First feature of Train: user_log_num\n",
            "Last feature of Train: Success\n",
            "Number of features used: 23\n",
            "Number of examples used: 57860\n",
            "\n",
            "First feature of Val: user_log_num\n",
            "Last feature of Val: Success\n",
            "Number of features used: 23\n",
            "Number of examples used: 19287\n"
          ]
        }
      ]
    },
    {
      "cell_type": "code",
      "source": [
        "# Generate evaluation dataset statistics\n",
        "val_info = tfdv.generate_statistics_from_dataframe(val_data)\n",
        "\n",
        "# Compare training with evaluation\n",
        "tfdv.visualize_statistics(\n",
        "    rhs_statistics=train_stats,rhs_name='TRAIN',\n",
        "    lhs_statistics=val_stats, lhs_name='VAL') "
      ],
      "metadata": {
        "id": "nlW_0czM-Pgf",
        "outputId": "90856832-2916-4e43-9e15-0cb5cd6d2d36",
        "colab": {
          "base_uri": "https://localhost:8080/",
          "height": 1000
        }
      },
      "execution_count": 11,
      "outputs": [
        {
          "output_type": "display_data",
          "data": {
            "text/plain": [
              "<IPython.core.display.HTML object>"
            ],
            "text/html": [
              "<iframe id='facets-iframe' width=\"100%\" height=\"500px\"></iframe>\n",
              "        <script>\n",
              "        facets_iframe = document.getElementById('facets-iframe');\n",
              "        facets_html = '<script src=\"https://cdnjs.cloudflare.com/ajax/libs/webcomponentsjs/1.3.3/webcomponents-lite.js\"><\\/script><link rel=\"import\" href=\"https://raw.githubusercontent.com/PAIR-code/facets/master/facets-dist/facets-jupyter.html\"><facets-overview proto-input=\"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\"></facets-overview>';\n",
              "        facets_iframe.srcdoc = facets_html;\n",
              "         facets_iframe.id = \"\";\n",
              "         setTimeout(() => {\n",
              "           facets_iframe.setAttribute('height', facets_iframe.contentWindow.document.body.offsetHeight + 'px')\n",
              "         }, 1500)\n",
              "         </script>"
            ]
          },
          "metadata": {}
        }
      ]
    },
    {
      "cell_type": "markdown",
      "source": [
        "### 1.8.2 Validation anomalies"
      ],
      "metadata": {
        "id": "ZJmuz7oiIKJF"
      }
    },
    {
      "cell_type": "code",
      "source": [
        "# Anomalies Detection and Visualization\n",
        "outlier = tfdv.validate_statistics(statistics=val_stats, schema=train_schema)\n",
        "tfdv.display_anomalies(outlier)"
      ],
      "metadata": {
        "colab": {
          "base_uri": "https://localhost:8080/",
          "height": 57
        },
        "id": "hslThSD0lEIH",
        "outputId": "0cee3b7e-b7f5-448f-aa6e-e61e1debbe1e"
      },
      "execution_count": 12,
      "outputs": [
        {
          "output_type": "display_data",
          "data": {
            "text/plain": [
              "<IPython.core.display.HTML object>"
            ],
            "text/html": [
              "<h4 style=\"color:green;\">No anomalies found.</h4>"
            ]
          },
          "metadata": {}
        }
      ]
    },
    {
      "cell_type": "markdown",
      "source": [
        "We'd like to see `No anomalies found.` after anomalies detection. Otherwise, we need to fix validation anomalies in the schema. For example:\n",
        "\n",
        "  > - `Feature name: Skills`\n",
        "  > - `Anomaly short description: Unexpected string values`\n",
        "  > - `Unexpected string values: Examples contain values missing from the schema: Accounting (<1%).` \n",
        "\n",
        "which indicates validation data has records with `Accounting` for the features `Skills` that were not included in the schema generated from the training data. \n",
        "\n",
        "We can fix this by adding the new values that exist in the validation dataset to the domain of these features.\n",
        "\n",
        "```Python\n",
        "skills_domain = tfdv.get_domain(train_schema, 'Skills') \n",
        "skills_domain.value.append(\"Accounting\")\n",
        "\n",
        "calculate_and_display_anomalies(val_stats, schema=train_schema)\n",
        "```"
      ],
      "metadata": {
        "id": "RdnloHKsKRkA"
      }
    },
    {
      "cell_type": "markdown",
      "source": [
        "### 1.8.3 Serving anomalies\n",
        "Likewise, we'd like to see `No anomalies found.` after anomalies detection.\n"
      ],
      "metadata": {
        "id": "1ebN_q8crV12"
      }
    },
    {
      "cell_type": "code",
      "source": [
        "options = tfdv.StatsOptions(schema=train_schema, \n",
        "                            infer_type_from_schema=True, \n",
        "                            feature_allowlist=list(data.columns))\n",
        "\n",
        "serve_stats = tfdv.generate_statistics_from_dataframe(serve_data, stats_options=options)\n",
        "outlier = tfdv.validate_statistics(statistics=serve_stats, schema=train_schema)\n",
        "tfdv.display_anomalies(outlier)"
      ],
      "metadata": {
        "colab": {
          "base_uri": "https://localhost:8080/",
          "height": 112
        },
        "id": "swQmoZahKHZR",
        "outputId": "d8359a36-db21-4b51-ff93-d4ffd66a1f3e"
      },
      "execution_count": 13,
      "outputs": [
        {
          "output_type": "display_data",
          "data": {
            "text/plain": [
              "             Anomaly short description      Anomaly long description\n",
              "Feature name                                                        \n",
              "'Success'               Column dropped  Column is completely missing"
            ],
            "text/html": [
              "\n",
              "  <div id=\"df-8a985856-f19f-472c-9cef-c930edfd78e2\">\n",
              "    <div class=\"colab-df-container\">\n",
              "      <div>\n",
              "<style scoped>\n",
              "    .dataframe tbody tr th:only-of-type {\n",
              "        vertical-align: middle;\n",
              "    }\n",
              "\n",
              "    .dataframe tbody tr th {\n",
              "        vertical-align: top;\n",
              "    }\n",
              "\n",
              "    .dataframe thead th {\n",
              "        text-align: right;\n",
              "    }\n",
              "</style>\n",
              "<table border=\"1\" class=\"dataframe\">\n",
              "  <thead>\n",
              "    <tr style=\"text-align: right;\">\n",
              "      <th></th>\n",
              "      <th>Anomaly short description</th>\n",
              "      <th>Anomaly long description</th>\n",
              "    </tr>\n",
              "    <tr>\n",
              "      <th>Feature name</th>\n",
              "      <th></th>\n",
              "      <th></th>\n",
              "    </tr>\n",
              "  </thead>\n",
              "  <tbody>\n",
              "    <tr>\n",
              "      <th>'Success'</th>\n",
              "      <td>Column dropped</td>\n",
              "      <td>Column is completely missing</td>\n",
              "    </tr>\n",
              "  </tbody>\n",
              "</table>\n",
              "</div>\n",
              "      <button class=\"colab-df-convert\" onclick=\"convertToInteractive('df-8a985856-f19f-472c-9cef-c930edfd78e2')\"\n",
              "              title=\"Convert this dataframe to an interactive table.\"\n",
              "              style=\"display:none;\">\n",
              "        \n",
              "  <svg xmlns=\"http://www.w3.org/2000/svg\" height=\"24px\"viewBox=\"0 0 24 24\"\n",
              "       width=\"24px\">\n",
              "    <path d=\"M0 0h24v24H0V0z\" fill=\"none\"/>\n",
              "    <path d=\"M18.56 5.44l.94 2.06.94-2.06 2.06-.94-2.06-.94-.94-2.06-.94 2.06-2.06.94zm-11 1L8.5 8.5l.94-2.06 2.06-.94-2.06-.94L8.5 2.5l-.94 2.06-2.06.94zm10 10l.94 2.06.94-2.06 2.06-.94-2.06-.94-.94-2.06-.94 2.06-2.06.94z\"/><path d=\"M17.41 7.96l-1.37-1.37c-.4-.4-.92-.59-1.43-.59-.52 0-1.04.2-1.43.59L10.3 9.45l-7.72 7.72c-.78.78-.78 2.05 0 2.83L4 21.41c.39.39.9.59 1.41.59.51 0 1.02-.2 1.41-.59l7.78-7.78 2.81-2.81c.8-.78.8-2.07 0-2.86zM5.41 20L4 18.59l7.72-7.72 1.47 1.35L5.41 20z\"/>\n",
              "  </svg>\n",
              "      </button>\n",
              "      \n",
              "  <style>\n",
              "    .colab-df-container {\n",
              "      display:flex;\n",
              "      flex-wrap:wrap;\n",
              "      gap: 12px;\n",
              "    }\n",
              "\n",
              "    .colab-df-convert {\n",
              "      background-color: #E8F0FE;\n",
              "      border: none;\n",
              "      border-radius: 50%;\n",
              "      cursor: pointer;\n",
              "      display: none;\n",
              "      fill: #1967D2;\n",
              "      height: 32px;\n",
              "      padding: 0 0 0 0;\n",
              "      width: 32px;\n",
              "    }\n",
              "\n",
              "    .colab-df-convert:hover {\n",
              "      background-color: #E2EBFA;\n",
              "      box-shadow: 0px 1px 2px rgba(60, 64, 67, 0.3), 0px 1px 3px 1px rgba(60, 64, 67, 0.15);\n",
              "      fill: #174EA6;\n",
              "    }\n",
              "\n",
              "    [theme=dark] .colab-df-convert {\n",
              "      background-color: #3B4455;\n",
              "      fill: #D2E3FC;\n",
              "    }\n",
              "\n",
              "    [theme=dark] .colab-df-convert:hover {\n",
              "      background-color: #434B5C;\n",
              "      box-shadow: 0px 1px 3px 1px rgba(0, 0, 0, 0.15);\n",
              "      filter: drop-shadow(0px 1px 2px rgba(0, 0, 0, 0.3));\n",
              "      fill: #FFFFFF;\n",
              "    }\n",
              "  </style>\n",
              "\n",
              "      <script>\n",
              "        const buttonEl =\n",
              "          document.querySelector('#df-8a985856-f19f-472c-9cef-c930edfd78e2 button.colab-df-convert');\n",
              "        buttonEl.style.display =\n",
              "          google.colab.kernel.accessAllowed ? 'block' : 'none';\n",
              "\n",
              "        async function convertToInteractive(key) {\n",
              "          const element = document.querySelector('#df-8a985856-f19f-472c-9cef-c930edfd78e2');\n",
              "          const dataTable =\n",
              "            await google.colab.kernel.invokeFunction('convertToInteractive',\n",
              "                                                     [key], {});\n",
              "          if (!dataTable) return;\n",
              "\n",
              "          const docLinkHtml = 'Like what you see? Visit the ' +\n",
              "            '<a target=\"_blank\" href=https://colab.research.google.com/notebooks/data_table.ipynb>data table notebook</a>'\n",
              "            + ' to learn more about interactive tables.';\n",
              "          element.innerHTML = '';\n",
              "          dataTable['output_type'] = 'display_data';\n",
              "          await google.colab.output.renderOutput(dataTable, element);\n",
              "          const docLink = document.createElement('div');\n",
              "          docLink.innerHTML = docLinkHtml;\n",
              "          element.appendChild(docLink);\n",
              "        }\n",
              "      </script>\n",
              "    </div>\n",
              "  </div>\n",
              "  "
            ]
          },
          "metadata": {}
        }
      ]
    },
    {
      "cell_type": "markdown",
      "source": [
        "As Anomaly short description shows, we dropped 'Success'/labels column from serving dataset. Hence, we can let TFDV to ignore the anomaly."
      ],
      "metadata": {
        "id": "7rV47va6vpoi"
      }
    },
    {
      "cell_type": "code",
      "source": [
        "# All features are by default in both TRAINING and SERVING environments.\n",
        "train_schema.default_environment.append('TRAINING')\n",
        "train_schema.default_environment.append('SERVING')\n",
        "\n",
        "tfdv.get_feature(train_schema, 'Success').not_in_environment.append('SERVING')\n",
        "\n",
        "serving_anomalies_with_env = tfdv.validate_statistics(serve_stats, train_schema, environment='SERVING')\n",
        "\n",
        "tfdv.display_anomalies(serving_anomalies_with_env)"
      ],
      "metadata": {
        "colab": {
          "base_uri": "https://localhost:8080/",
          "height": 57
        },
        "id": "GNnp6YLSw0EI",
        "outputId": "54b5861a-8ae3-437d-8681-6223f5c2b11f"
      },
      "execution_count": 14,
      "outputs": [
        {
          "output_type": "display_data",
          "data": {
            "text/plain": [
              "<IPython.core.display.HTML object>"
            ],
            "text/html": [
              "<h4 style=\"color:green;\">No anomalies found.</h4>"
            ]
          },
          "metadata": {}
        }
      ]
    },
    {
      "cell_type": "markdown",
      "source": [
        "There is a chance to see followed example:\n",
        "\n",
        "  > - `Feature name: Skills`\n",
        "  > - `Anomaly short description: Unexpected string values`\n",
        "  > - `Unexpected string values: Examples contain values missing from the schema: Accounting (<1%).` \n",
        "\n",
        "This is because we have a restrict detection constraints. Usually we can solve the error by relaxing the rule.\n",
        "\n",
        "```Python\n",
        "# relax to match 90% of the domain\n",
        "skills = tfdv.get_feature(schema=train_schema, 'Skills')\n",
        "skills.distribution_constraints.min_domain_mass = 0.9 \n",
        "\n",
        "calculate_and_display_anomalies(serving_stats, schema=train_schema)\n",
        "```"
      ],
      "metadata": {
        "id": "2ahZWK1jxd4i"
      }
    },
    {
      "cell_type": "markdown",
      "source": [
        "### 1.8.4 Data Drift and Skew\n",
        "\n",
        "1. Data Drift\n",
        "\n",
        "  ℹ️ Data drift occurs when the distribution of the data used to train a machine learning model differs from the distribution of the data that the model encounters in production. \n",
        "\n",
        "  ❌ This can lead to a decrease in model performance and accuracy. \n",
        "\n",
        "  🤔 Data drift can be caused by changes in the data generating process or by the accumulation of stale data.\n",
        "\n",
        "1. Data Skew\n",
        "\n",
        "  ℹ️ Data skew occurs when the data used to train a machine learning model is not evenly distributed among the different classes or categories. \n",
        "  \n",
        "  ❌ This can lead to a bias in the model towards the more frequent classes, resulting in poor performance on less frequent classes. \n",
        "  \n",
        "  🤔 Data skew can be caused by imbalanced data collection or by data preprocessing steps that do not properly balance the data."
      ],
      "metadata": {
        "id": "2S6t10028zEc"
      }
    },
    {
      "cell_type": "code",
      "source": [
        "# Calculate skew for the course_log_num feature\n",
        "math_score = tfdv.get_feature(train_schema, 'course_log_num')\n",
        "math_score.skew_comparator.infinity_norm.threshold = 0.01 # domain knowledge helps to determine this threshold\n",
        "\n",
        "# Calculate drift for the taked_course_video_amount feature\n",
        "reading_score = tfdv.get_feature(train_schema, 'taked_course_video_amount')\n",
        "reading_score.drift_comparator.infinity_norm.threshold = 0.01 # domain knowledge helps to determine this threshold\n",
        "\n",
        "# Calculate anomalies\n",
        "skew_drift_anomalies = tfdv.validate_statistics(train_stats, train_schema,\n",
        "                                               previous_statistics=val_stats,\n",
        "                                                serving_statistics=serve_stats)\n",
        "\n",
        "# Display anomalies\n",
        "tfdv.display_anomalies(skew_drift_anomalies)"
      ],
      "metadata": {
        "colab": {
          "base_uri": "https://localhost:8080/",
          "height": 57
        },
        "id": "_gvSwjOA80aC",
        "outputId": "514587ae-368c-4b22-8407-95d869490ad8"
      },
      "execution_count": 15,
      "outputs": [
        {
          "output_type": "display_data",
          "data": {
            "text/plain": [
              "<IPython.core.display.HTML object>"
            ],
            "text/html": [
              "<h4 style=\"color:green;\">No anomalies found.</h4>"
            ]
          },
          "metadata": {}
        }
      ]
    },
    {
      "cell_type": "markdown",
      "source": [
        "✅ Ideally, we could see `No anomalies found.` as aboved. \n",
        "\n",
        "❌ Otherwise, we could know how the Linfty distance between training and serving is, and decide whether accept a new  threshold or not. If the anomaly truly indicates a skew and drift, then further investigation is necessary as this could have a direct impact on model performance."
      ],
      "metadata": {
        "id": "9arj7AJg06YO"
      }
    },
    {
      "cell_type": "markdown",
      "source": [
        "### 1.8.5 Data Slices"
      ],
      "metadata": {
        "id": "cHYwDzqR1tw4"
      }
    },
    {
      "cell_type": "markdown",
      "source": [
        "ℹ️ Data slicing is the process of dividing a dataset into subsets based on specific features or attributes. By slicing the data, we can analyze the statistics and schema of different subsets of the data and compare them to identify any potential biases.\n",
        "\n",
        "✅ For example, if we are concerned about bias in a dataset based on `take_course_num`, we could slice the data by `take_course_num` and compare the statistics and schema for each number's subsets. If there are significant differences in the statistics or schema for the subsets, it may indicate that the data is biased.\n",
        "\n",
        "❌ Data slicing is not a replacement for traditional methods of bias detection and mitigation, but it can be a useful tool to help identify potential biases in the data. When using data slicing, it's important to keep in mind that bias can be introduced in many ways and it should be used in conjunction with other methods such as fairness metrics, human review, and domain expertise."
      ],
      "metadata": {
        "id": "4Qxqzv1QgRB1"
      }
    },
    {
      "cell_type": "code",
      "source": [
        "from tensorflow_data_validation.utils import slicing_util\n",
        "# Slice function for the `take_course_num` feature\n",
        "slice_fn = slicing_util.get_feature_value_slicer(features={'take_course_num': None})"
      ],
      "metadata": {
        "id": "o9FdX5lSYHrD"
      },
      "execution_count": 18,
      "outputs": []
    },
    {
      "cell_type": "code",
      "source": [
        "slice_options = tfdv.StatsOptions(schema=train_schema,\n",
        "                                  slice_functions=[slice_fn],\n",
        "                                  infer_type_from_schema=True,\n",
        "                                  feature_allowlist=list(data.columns))\n",
        "# `tfdv.generate_statistics_from_csv` only work with CSV\n",
        "data.to_csv('temp.csv')\n",
        "\n",
        "# Slice stats\n",
        "sliced_stats = tfdv.generate_statistics_from_csv('temp.csv', stats_options=slice_options)\n"
      ],
      "metadata": {
        "id": "eA7gYMF0SGap"
      },
      "execution_count": 20,
      "outputs": []
    },
    {
      "cell_type": "code",
      "source": [
        "# Split the dataset\n",
        "from tensorflow_metadata.proto.v0.statistics_pb2 import DatasetFeatureStatisticsList\n",
        "\n",
        "slice_datasets = []\n",
        "for dataset in sliced_stats.datasets:\n",
        "  proto_list = DatasetFeatureStatisticsList()\n",
        "  proto_list.datasets.extend([dataset])\n",
        "  slice_datasets.append(proto_list)"
      ],
      "metadata": {
        "id": "9oJr5wvTSh1-"
      },
      "execution_count": 24,
      "outputs": []
    },
    {
      "cell_type": "code",
      "source": [
        "print(f'Statistics generated for:\\n')\n",
        "for i,j in enumerate(slice_datasets):\n",
        "  print (i, j.datasets[0].name)"
      ],
      "metadata": {
        "colab": {
          "base_uri": "https://localhost:8080/"
        },
        "id": "btZ-TzpqUCzh",
        "outputId": "da704edc-a74f-4663-d6b0-60ec4da400a9"
      },
      "execution_count": 45,
      "outputs": [
        {
          "output_type": "stream",
          "name": "stdout",
          "text": [
            "Statistics generated for:\n",
            "\n",
            "0 All Examples\n",
            "1 take_course_num_6\n",
            "2 take_course_num_3\n",
            "3 take_course_num_2\n",
            "4 take_course_num_1\n",
            "5 take_course_num_4\n",
            "6 take_course_num_7\n",
            "7 take_course_num_14\n",
            "8 take_course_num_5\n",
            "9 take_course_num_8\n",
            "10 take_course_num_12\n",
            "11 take_course_num_9\n",
            "12 take_course_num_11\n",
            "13 take_course_num_10\n",
            "14 take_course_num_15\n",
            "15 take_course_num_25\n",
            "16 take_course_num_13\n",
            "17 take_course_num_21\n",
            "18 take_course_num_20\n",
            "19 take_course_num_17\n",
            "20 take_course_num_16\n",
            "21 take_course_num_18\n",
            "22 take_course_num_19\n",
            "23 take_course_num_27\n"
          ]
        }
      ]
    },
    {
      "cell_type": "markdown",
      "source": [
        "✅ Afterwards, we can compare the statistics for `take_course_num_27 (index=23)` with `all examples (index=0)` easily:\n"
      ],
      "metadata": {
        "id": "5t9yn2h6ay1U"
      }
    },
    {
      "cell_type": "code",
      "source": [
        "tfdv.visualize_statistics(\n",
        "    rhs_statistics=slice_datasets[0],rhs_name='ALL_EXAMPLES',\n",
        "    lhs_statistics=slice_datasets[23], lhs_name='SLICED_DATA') "
      ],
      "metadata": {
        "colab": {
          "base_uri": "https://localhost:8080/",
          "height": 1000
        },
        "id": "VltoGv58W26f",
        "outputId": "f0123509-2b14-47e4-a663-01ff1a9591cc"
      },
      "execution_count": 51,
      "outputs": [
        {
          "output_type": "display_data",
          "data": {
            "text/plain": [
              "<IPython.core.display.HTML object>"
            ],
            "text/html": [
              "<iframe id='facets-iframe' width=\"100%\" height=\"500px\"></iframe>\n",
              "        <script>\n",
              "        facets_iframe = document.getElementById('facets-iframe');\n",
              "        facets_html = '<script src=\"https://cdnjs.cloudflare.com/ajax/libs/webcomponentsjs/1.3.3/webcomponents-lite.js\"><\\/script><link rel=\"import\" href=\"https://raw.githubusercontent.com/PAIR-code/facets/master/facets-dist/facets-jupyter.html\"><facets-overview proto-input=\"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\"></facets-overview>';\n",
              "        facets_iframe.srcdoc = facets_html;\n",
              "         facets_iframe.id = \"\";\n",
              "         setTimeout(() => {\n",
              "           facets_iframe.setAttribute('height', facets_iframe.contentWindow.document.body.offsetHeight + 'px')\n",
              "         }, 1500)\n",
              "         </script>"
            ]
          },
          "metadata": {}
        }
      ]
    },
    {
      "cell_type": "markdown",
      "source": [
        "✅ Finally, we can use several tools from TFDV that enable us to recognized and fix some data problems."
      ],
      "metadata": {
        "id": "VyGchE7ObwrZ"
      }
    }
  ]
}