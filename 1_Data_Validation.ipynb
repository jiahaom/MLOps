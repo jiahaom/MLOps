{
  "nbformat": 4,
  "nbformat_minor": 0,
  "metadata": {
    "colab": {
      "provenance": [],
      "toc_visible": true
    },
    "kernelspec": {
      "name": "python3",
      "display_name": "Python 3"
    },
    "language_info": {
      "name": "python"
    }
  },
  "cells": [
    {
      "cell_type": "markdown",
      "source": [
        "[![Open In Collab](https://colab.research.google.com/assets/colab-badge.svg)](https://colab.research.google.com/github/jiahaom/MLOps/blob/main/1_Data_Validation.ipynb)\n"
      ],
      "metadata": {
        "id": "HGdx9vQB3V-B"
      }
    },
    {
      "cell_type": "markdown",
      "source": [
        "# 1. Data Validation"
      ],
      "metadata": {
        "id": "fX5qxCr4aeMy"
      }
    },
    {
      "cell_type": "markdown",
      "source": [
        "## 1.1 Data Quality\n",
        "> Data is the First Class Citizen for ML.\n",
        "\n",
        "ℹ️ Data quality is important for a data pipeline in MLops because it affects the performance and accuracy of the machine learning models that are built and deployed. Ensuring high data quality is an important step in the MLops process to ensure that the models are reliable and accurate.\n",
        "\n",
        "❌ Poor quality data can lead to inaccurate or biased models, which can result in poor decision-making and poor performance in production. Additionally, poor data quality can also cause delays and additional costs in the development and deployment of machine learning models. \n",
        "\n",
        "✅ By generating and visualizing data statistics, it is possible to get a better understanding of the data and identify potential problems early on. This can help to improve the performance and accuracy of the machine learning models that are built and deployed."
      ],
      "metadata": {
        "id": "n2YFMBG4WHWE"
      }
    },
    {
      "cell_type": "markdown",
      "source": [
        "## 1.2 TensorFlow Data Validation \n",
        "ℹ️ TensorFlow Data Validation (TFDV) is a library provided by TensorFlow that can be used in MLOps to validate and analyze large datasets before they are used to train machine learning models. \n",
        "\n",
        "✅ By using TFDV, data scientists and engineers can detect and correct data quality issues early on, which can help to improve the performance and accuracy of the models. Additionally, it can also be used to detect data drift, monitor data distribution changes and detect data skew, which can help to ensure that the models continue to perform well in production.\n",
        "The library provides tools for:\n",
        "\n",
        "- Schema Generation: It creates a schema for a dataset based on the data types and statistics of the features.\n",
        "- Schema Comparison: It can compare two schemas and identify differences between them, which can help to detect changes in the data distribution.\n",
        "- Data Validation: It can check if the data conforms to the schema, including checking for missing values, data types, and feature ranges, and can also detect and notify about data outliers.\n",
        "- Data Statistics: It can generate statistics for the data, such as mean, standard deviation, and histograms, which can be used to visualize the data and identify potential problems.\n",
        "- Anomaly Detection: It can detect anomalies in the data by comparing the statistics of the data to the statistics of a previous version of the data.\n",
        "\n",
        "🖥️ To use TFDV in Google Colab, you will need to first install the TensorFlow Data Validation library. We can do this by running the following command in a Google Colab notebook cell:\n",
        "> Hint: TFDV doesn't support Apple silicon currently (Jan 2023)"
      ],
      "metadata": {
        "id": "7kPj0Yp4akA1"
      }
    },
    {
      "cell_type": "code",
      "source": [
        "!pip install tensorflow_data_validation"
      ],
      "metadata": {
        "id": "xrI1yWyODF_o"
      },
      "execution_count": null,
      "outputs": []
    },
    {
      "cell_type": "markdown",
      "source": [
        "Once the library is installed, we can start using it to validate and analyze our data."
      ],
      "metadata": {
        "id": "m5MwMaltW5lQ"
      }
    },
    {
      "cell_type": "code",
      "execution_count": null,
      "metadata": {
        "colab": {
          "base_uri": "https://localhost:8080/"
        },
        "id": "HC6L85ZEC1B0",
        "outputId": "c5e55e28-a1d8-4804-bbac-b4381ac0b83f"
      },
      "outputs": [
        {
          "output_type": "stream",
          "name": "stdout",
          "text": [
            "TFDV Version: 1.12.0\n",
            "Tensorflow Version: 2.11.0\n"
          ]
        }
      ],
      "source": [
        "import tensorflow as tf\n",
        "import tensorflow_data_validation as tfdv\n",
        "from tensorflow_metadata.proto.v0 import schema_pb2\n",
        "\n",
        "print('TFDV Version: {}'.format(tfdv.__version__))\n",
        "print('Tensorflow Version: {}'.format(tf.__version__))"
      ]
    },
    {
      "cell_type": "markdown",
      "source": [
        "## 1.3 Load the Dataset\n"
      ],
      "metadata": {
        "id": "2oZF6n2PT0in"
      }
    },
    {
      "cell_type": "markdown",
      "source": [
        "The dataset we used is about MOOC dropout prediction, which includes followed features:\n",
        "- user_log_num\n",
        "- course_log_num\n",
        "- take_course_num\n",
        "- take_user_num\n",
        "- log_num\n",
        "- server_nagivate\n",
        "- server_access\n",
        "- server_problem\n",
        "- browser_access\n",
        "- browser_problem\n",
        "- browser_page_close\n",
        "- browser_video\n",
        "- server_discussion\n",
        "- server_wiki\n",
        "- chapter_count\n",
        "- sequential_count\n",
        "- video_count\n",
        "- problem_count\n",
        "- discussion_count\n",
        "- taked_course_chapter_amount\n",
        "- taked_course_video_amount\n",
        "- taked_course_discussion_amount"
      ],
      "metadata": {
        "id": "1-h54kzQhzcp"
      }
    },
    {
      "cell_type": "code",
      "source": [
        "import pandas as pd\n",
        "\n",
        "data = pd.read_csv('Mooc.csv',index_col = 'Unnamed: 0')\n",
        "data.head()"
      ],
      "metadata": {
        "id": "qDQpx61OC15O",
        "colab": {
          "base_uri": "https://localhost:8080/",
          "height": 297
        },
        "outputId": "5eed153b-4635-4939-da53-205baf98a7c9"
      },
      "execution_count": null,
      "outputs": [
        {
          "output_type": "execute_result",
          "data": {
            "text/plain": [
              "   user_log_num  course_log_num  take_course_num  take_user_num  log_num  \\\n",
              "0          1029          878119                6          10322      314   \n",
              "1           839          148500                3           1481      288   \n",
              "2           289          878119                2          10322       99   \n",
              "3           633          148500                1           1481      633   \n",
              "4            23          334927                1           7775       23   \n",
              "\n",
              "   server_nagivate  server_access  server_problem  browser_access  \\\n",
              "0               25             86               8              21   \n",
              "1               14             45               3              34   \n",
              "2               15             64               1               0   \n",
              "3               30            106              32             120   \n",
              "4                5             12               0               0   \n",
              "\n",
              "   browser_problem  ...  server_wiki  chapter_count  sequential_count  \\\n",
              "0               79  ...            0             13                80   \n",
              "1              135  ...            0              9                60   \n",
              "2                5  ...            0             11                41   \n",
              "3              138  ...            0             14               197   \n",
              "4                2  ...            0              1                 9   \n",
              "\n",
              "   video_count  problem_count  discussion_count  taked_course_chapter_amount  \\\n",
              "0           29             87                 0                           13   \n",
              "1            9            138                26                           12   \n",
              "2            4              6                 0                           13   \n",
              "3           82            170                34                           12   \n",
              "4            2              2                 0                           14   \n",
              "\n",
              "   taked_course_video_amount  taked_course_discussion_amount  Success  \n",
              "0                         56                               0        0  \n",
              "1                        113                             129        0  \n",
              "2                         56                               0        0  \n",
              "3                        113                             129        0  \n",
              "4                         57                               0        0  \n",
              "\n",
              "[5 rows x 23 columns]"
            ],
            "text/html": [
              "\n",
              "  <div id=\"df-f303fb32-bc15-43e8-89b7-c6ffd376a2e5\">\n",
              "    <div class=\"colab-df-container\">\n",
              "      <div>\n",
              "<style scoped>\n",
              "    .dataframe tbody tr th:only-of-type {\n",
              "        vertical-align: middle;\n",
              "    }\n",
              "\n",
              "    .dataframe tbody tr th {\n",
              "        vertical-align: top;\n",
              "    }\n",
              "\n",
              "    .dataframe thead th {\n",
              "        text-align: right;\n",
              "    }\n",
              "</style>\n",
              "<table border=\"1\" class=\"dataframe\">\n",
              "  <thead>\n",
              "    <tr style=\"text-align: right;\">\n",
              "      <th></th>\n",
              "      <th>user_log_num</th>\n",
              "      <th>course_log_num</th>\n",
              "      <th>take_course_num</th>\n",
              "      <th>take_user_num</th>\n",
              "      <th>log_num</th>\n",
              "      <th>server_nagivate</th>\n",
              "      <th>server_access</th>\n",
              "      <th>server_problem</th>\n",
              "      <th>browser_access</th>\n",
              "      <th>browser_problem</th>\n",
              "      <th>...</th>\n",
              "      <th>server_wiki</th>\n",
              "      <th>chapter_count</th>\n",
              "      <th>sequential_count</th>\n",
              "      <th>video_count</th>\n",
              "      <th>problem_count</th>\n",
              "      <th>discussion_count</th>\n",
              "      <th>taked_course_chapter_amount</th>\n",
              "      <th>taked_course_video_amount</th>\n",
              "      <th>taked_course_discussion_amount</th>\n",
              "      <th>Success</th>\n",
              "    </tr>\n",
              "  </thead>\n",
              "  <tbody>\n",
              "    <tr>\n",
              "      <th>0</th>\n",
              "      <td>1029</td>\n",
              "      <td>878119</td>\n",
              "      <td>6</td>\n",
              "      <td>10322</td>\n",
              "      <td>314</td>\n",
              "      <td>25</td>\n",
              "      <td>86</td>\n",
              "      <td>8</td>\n",
              "      <td>21</td>\n",
              "      <td>79</td>\n",
              "      <td>...</td>\n",
              "      <td>0</td>\n",
              "      <td>13</td>\n",
              "      <td>80</td>\n",
              "      <td>29</td>\n",
              "      <td>87</td>\n",
              "      <td>0</td>\n",
              "      <td>13</td>\n",
              "      <td>56</td>\n",
              "      <td>0</td>\n",
              "      <td>0</td>\n",
              "    </tr>\n",
              "    <tr>\n",
              "      <th>1</th>\n",
              "      <td>839</td>\n",
              "      <td>148500</td>\n",
              "      <td>3</td>\n",
              "      <td>1481</td>\n",
              "      <td>288</td>\n",
              "      <td>14</td>\n",
              "      <td>45</td>\n",
              "      <td>3</td>\n",
              "      <td>34</td>\n",
              "      <td>135</td>\n",
              "      <td>...</td>\n",
              "      <td>0</td>\n",
              "      <td>9</td>\n",
              "      <td>60</td>\n",
              "      <td>9</td>\n",
              "      <td>138</td>\n",
              "      <td>26</td>\n",
              "      <td>12</td>\n",
              "      <td>113</td>\n",
              "      <td>129</td>\n",
              "      <td>0</td>\n",
              "    </tr>\n",
              "    <tr>\n",
              "      <th>2</th>\n",
              "      <td>289</td>\n",
              "      <td>878119</td>\n",
              "      <td>2</td>\n",
              "      <td>10322</td>\n",
              "      <td>99</td>\n",
              "      <td>15</td>\n",
              "      <td>64</td>\n",
              "      <td>1</td>\n",
              "      <td>0</td>\n",
              "      <td>5</td>\n",
              "      <td>...</td>\n",
              "      <td>0</td>\n",
              "      <td>11</td>\n",
              "      <td>41</td>\n",
              "      <td>4</td>\n",
              "      <td>6</td>\n",
              "      <td>0</td>\n",
              "      <td>13</td>\n",
              "      <td>56</td>\n",
              "      <td>0</td>\n",
              "      <td>0</td>\n",
              "    </tr>\n",
              "    <tr>\n",
              "      <th>3</th>\n",
              "      <td>633</td>\n",
              "      <td>148500</td>\n",
              "      <td>1</td>\n",
              "      <td>1481</td>\n",
              "      <td>633</td>\n",
              "      <td>30</td>\n",
              "      <td>106</td>\n",
              "      <td>32</td>\n",
              "      <td>120</td>\n",
              "      <td>138</td>\n",
              "      <td>...</td>\n",
              "      <td>0</td>\n",
              "      <td>14</td>\n",
              "      <td>197</td>\n",
              "      <td>82</td>\n",
              "      <td>170</td>\n",
              "      <td>34</td>\n",
              "      <td>12</td>\n",
              "      <td>113</td>\n",
              "      <td>129</td>\n",
              "      <td>0</td>\n",
              "    </tr>\n",
              "    <tr>\n",
              "      <th>4</th>\n",
              "      <td>23</td>\n",
              "      <td>334927</td>\n",
              "      <td>1</td>\n",
              "      <td>7775</td>\n",
              "      <td>23</td>\n",
              "      <td>5</td>\n",
              "      <td>12</td>\n",
              "      <td>0</td>\n",
              "      <td>0</td>\n",
              "      <td>2</td>\n",
              "      <td>...</td>\n",
              "      <td>0</td>\n",
              "      <td>1</td>\n",
              "      <td>9</td>\n",
              "      <td>2</td>\n",
              "      <td>2</td>\n",
              "      <td>0</td>\n",
              "      <td>14</td>\n",
              "      <td>57</td>\n",
              "      <td>0</td>\n",
              "      <td>0</td>\n",
              "    </tr>\n",
              "  </tbody>\n",
              "</table>\n",
              "<p>5 rows × 23 columns</p>\n",
              "</div>\n",
              "      <button class=\"colab-df-convert\" onclick=\"convertToInteractive('df-f303fb32-bc15-43e8-89b7-c6ffd376a2e5')\"\n",
              "              title=\"Convert this dataframe to an interactive table.\"\n",
              "              style=\"display:none;\">\n",
              "        \n",
              "  <svg xmlns=\"http://www.w3.org/2000/svg\" height=\"24px\"viewBox=\"0 0 24 24\"\n",
              "       width=\"24px\">\n",
              "    <path d=\"M0 0h24v24H0V0z\" fill=\"none\"/>\n",
              "    <path d=\"M18.56 5.44l.94 2.06.94-2.06 2.06-.94-2.06-.94-.94-2.06-.94 2.06-2.06.94zm-11 1L8.5 8.5l.94-2.06 2.06-.94-2.06-.94L8.5 2.5l-.94 2.06-2.06.94zm10 10l.94 2.06.94-2.06 2.06-.94-2.06-.94-.94-2.06-.94 2.06-2.06.94z\"/><path d=\"M17.41 7.96l-1.37-1.37c-.4-.4-.92-.59-1.43-.59-.52 0-1.04.2-1.43.59L10.3 9.45l-7.72 7.72c-.78.78-.78 2.05 0 2.83L4 21.41c.39.39.9.59 1.41.59.51 0 1.02-.2 1.41-.59l7.78-7.78 2.81-2.81c.8-.78.8-2.07 0-2.86zM5.41 20L4 18.59l7.72-7.72 1.47 1.35L5.41 20z\"/>\n",
              "  </svg>\n",
              "      </button>\n",
              "      \n",
              "  <style>\n",
              "    .colab-df-container {\n",
              "      display:flex;\n",
              "      flex-wrap:wrap;\n",
              "      gap: 12px;\n",
              "    }\n",
              "\n",
              "    .colab-df-convert {\n",
              "      background-color: #E8F0FE;\n",
              "      border: none;\n",
              "      border-radius: 50%;\n",
              "      cursor: pointer;\n",
              "      display: none;\n",
              "      fill: #1967D2;\n",
              "      height: 32px;\n",
              "      padding: 0 0 0 0;\n",
              "      width: 32px;\n",
              "    }\n",
              "\n",
              "    .colab-df-convert:hover {\n",
              "      background-color: #E2EBFA;\n",
              "      box-shadow: 0px 1px 2px rgba(60, 64, 67, 0.3), 0px 1px 3px 1px rgba(60, 64, 67, 0.15);\n",
              "      fill: #174EA6;\n",
              "    }\n",
              "\n",
              "    [theme=dark] .colab-df-convert {\n",
              "      background-color: #3B4455;\n",
              "      fill: #D2E3FC;\n",
              "    }\n",
              "\n",
              "    [theme=dark] .colab-df-convert:hover {\n",
              "      background-color: #434B5C;\n",
              "      box-shadow: 0px 1px 3px 1px rgba(0, 0, 0, 0.15);\n",
              "      filter: drop-shadow(0px 1px 2px rgba(0, 0, 0, 0.3));\n",
              "      fill: #FFFFFF;\n",
              "    }\n",
              "  </style>\n",
              "\n",
              "      <script>\n",
              "        const buttonEl =\n",
              "          document.querySelector('#df-f303fb32-bc15-43e8-89b7-c6ffd376a2e5 button.colab-df-convert');\n",
              "        buttonEl.style.display =\n",
              "          google.colab.kernel.accessAllowed ? 'block' : 'none';\n",
              "\n",
              "        async function convertToInteractive(key) {\n",
              "          const element = document.querySelector('#df-f303fb32-bc15-43e8-89b7-c6ffd376a2e5');\n",
              "          const dataTable =\n",
              "            await google.colab.kernel.invokeFunction('convertToInteractive',\n",
              "                                                     [key], {});\n",
              "          if (!dataTable) return;\n",
              "\n",
              "          const docLinkHtml = 'Like what you see? Visit the ' +\n",
              "            '<a target=\"_blank\" href=https://colab.research.google.com/notebooks/data_table.ipynb>data table notebook</a>'\n",
              "            + ' to learn more about interactive tables.';\n",
              "          element.innerHTML = '';\n",
              "          dataTable['output_type'] = 'display_data';\n",
              "          await google.colab.output.renderOutput(dataTable, element);\n",
              "          const docLink = document.createElement('div');\n",
              "          docLink.innerHTML = docLinkHtml;\n",
              "          element.appendChild(docLink);\n",
              "        }\n",
              "      </script>\n",
              "    </div>\n",
              "  </div>\n",
              "  "
            ]
          },
          "metadata": {},
          "execution_count": 2
        }
      ]
    },
    {
      "cell_type": "markdown",
      "source": [
        "## 1.4 Split the Dataset\n",
        "In order to ensure the models are reliable and accurate, we split our dataset into 3 parts: Training (60%), Validation (20%) and Serving (20%)."
      ],
      "metadata": {
        "id": "8xs02319avcm"
      }
    },
    {
      "cell_type": "code",
      "source": [
        "from sklearn.model_selection import train_test_split\n",
        "\n",
        "train_data, val_data = train_test_split(data, test_size=0.2, random_state = 0)\n",
        "train_data, serve_data = train_test_split(train_data, test_size=0.25, random_state = 0)\n",
        "train_data = train_data.reset_index(drop=True)\n",
        "val_data = val_data.reset_index(drop=True)\n",
        "serve_data = serve_data.drop(['Success'], axis=1).reset_index(drop=True)\n",
        "print('Training dataset has {} records\\nValidation dataset has {} records\\nServing dataset has {} records'.format(len(train_data),len(val_data),len(serve_data)))"
      ],
      "metadata": {
        "colab": {
          "base_uri": "https://localhost:8080/"
        },
        "id": "vgG5gx6VvGXT",
        "outputId": "6341414d-3fd3-4038-db26-dd59e23d5bb3"
      },
      "execution_count": null,
      "outputs": [
        {
          "output_type": "stream",
          "name": "stdout",
          "text": [
            "Training dataset has 57860 records\n",
            "Validation dataset has 19287 records\n",
            "Serving dataset has 19287 records\n"
          ]
        }
      ]
    },
    {
      "cell_type": "markdown",
      "source": [
        "## 1.5 Generate Training Data Statistics\n",
        "\n",
        "There are two ways to generate training data statistics:"
      ],
      "metadata": {
        "id": "m2nnSQUdwPqS"
      }
    },
    {
      "cell_type": "markdown",
      "source": [
        "### 1.5.1 From Pandas.DataFrame\n"
      ],
      "metadata": {
        "id": "ElF8ltCyF75G"
      }
    },
    {
      "cell_type": "code",
      "source": [
        "# feature_allowlist indicates which feature could be calculated for statistics.\n",
        "stats_options = tfdv.StatsOptions(feature_allowlist = list (data.columns))\n",
        "\n",
        "# Review allowed features\n",
        "for feature in stats_options.feature_allowlist:\n",
        "    print(feature)"
      ],
      "metadata": {
        "colab": {
          "base_uri": "https://localhost:8080/"
        },
        "id": "4dbFE2vl2cZH",
        "outputId": "51edc4b6-e91d-4a2f-c45f-b7ceeced178c"
      },
      "execution_count": null,
      "outputs": [
        {
          "output_type": "stream",
          "name": "stdout",
          "text": [
            "user_log_num\n",
            "course_log_num\n",
            "take_course_num\n",
            "take_user_num\n",
            "log_num\n",
            "server_nagivate\n",
            "server_access\n",
            "server_problem\n",
            "browser_access\n",
            "browser_problem\n",
            "browser_page_close\n",
            "browser_video\n",
            "server_discussion\n",
            "server_wiki\n",
            "chapter_count\n",
            "sequential_count\n",
            "video_count\n",
            "problem_count\n",
            "discussion_count\n",
            "taked_course_chapter_amount\n",
            "taked_course_video_amount\n",
            "taked_course_discussion_amount\n",
            "Success\n"
          ]
        }
      ]
    },
    {
      "cell_type": "markdown",
      "source": [
        "### 1.5.2 From CSV file"
      ],
      "metadata": {
        "id": "e9LPcvBoHhZR"
      }
    },
    {
      "cell_type": "code",
      "source": [
        "stats_csv = tfdv.generate_statistics_from_csv(data_location='Mooc.csv', delimiter=',')"
      ],
      "metadata": {
        "id": "PtfLLK-JH1xM",
        "colab": {
          "base_uri": "https://localhost:8080/",
          "height": 139
        },
        "outputId": "d48e542f-ce87-4a80-f238-711722631366"
      },
      "execution_count": null,
      "outputs": [
        {
          "output_type": "stream",
          "name": "stderr",
          "text": [
            "WARNING:apache_beam.runners.interactive.interactive_environment:Dependencies required for Interactive Beam PCollection visualization are not available, please use: `pip install apache-beam[interactive]` to install necessary dependencies to enable all data visualization features.\n"
          ]
        },
        {
          "output_type": "display_data",
          "data": {
            "application/javascript": [
              "\n",
              "        if (typeof window.interactive_beam_jquery == 'undefined') {\n",
              "          var jqueryScript = document.createElement('script');\n",
              "          jqueryScript.src = 'https://code.jquery.com/jquery-3.4.1.slim.min.js';\n",
              "          jqueryScript.type = 'text/javascript';\n",
              "          jqueryScript.onload = function() {\n",
              "            var datatableScript = document.createElement('script');\n",
              "            datatableScript.src = 'https://cdn.datatables.net/1.10.20/js/jquery.dataTables.min.js';\n",
              "            datatableScript.type = 'text/javascript';\n",
              "            datatableScript.onload = function() {\n",
              "              window.interactive_beam_jquery = jQuery.noConflict(true);\n",
              "              window.interactive_beam_jquery(document).ready(function($){\n",
              "                \n",
              "              });\n",
              "            }\n",
              "            document.head.appendChild(datatableScript);\n",
              "          };\n",
              "          document.head.appendChild(jqueryScript);\n",
              "        } else {\n",
              "          window.interactive_beam_jquery(document).ready(function($){\n",
              "            \n",
              "          });\n",
              "        }"
            ]
          },
          "metadata": {}
        },
        {
          "output_type": "stream",
          "name": "stderr",
          "text": [
            "WARNING:apache_beam.io.tfrecordio:Couldn't find python-snappy so the implementation of _TFRecordUtil._masked_crc32c is not as fast as it could be.\n",
            "WARNING:tensorflow:From /usr/local/lib/python3.8/dist-packages/tensorflow_data_validation/utils/statistics_io_impl.py:91: tf_record_iterator (from tensorflow.python.lib.io.tf_record) is deprecated and will be removed in a future version.\n",
            "Instructions for updating:\n",
            "Use eager execution and: \n",
            "`tf.data.TFRecordDataset(path)`\n"
          ]
        }
      ]
    },
    {
      "cell_type": "markdown",
      "source": [
        "## 1.6 Visualize Training Data Statistics"
      ],
      "metadata": {
        "id": "XQAHrSJlHI-I"
      }
    },
    {
      "cell_type": "code",
      "source": [
        "tfdv.visualize_statistics(train_stats)\n",
        "# tfdv.visualize_statistics(stats_csv)"
      ],
      "metadata": {
        "colab": {
          "base_uri": "https://localhost:8080/",
          "height": 1000
        },
        "id": "bsVR4wuY9nbu",
        "outputId": "2b79c661-2ade-46e9-d23f-abfaefb8a3f1"
      },
      "execution_count": null,
      "outputs": [
        {
          "output_type": "display_data",
          "data": {
            "text/plain": [
              "<IPython.core.display.HTML object>"
            ],
            "text/html": [
              "<iframe id='facets-iframe' width=\"100%\" height=\"500px\"></iframe>\n",
              "        <script>\n",
              "        facets_iframe = document.getElementById('facets-iframe');\n",
              "        facets_html = '<script src=\"https://cdnjs.cloudflare.com/ajax/libs/webcomponentsjs/1.3.3/webcomponents-lite.js\"><\\/script><link rel=\"import\" href=\"https://raw.githubusercontent.com/PAIR-code/facets/master/facets-dist/facets-jupyter.html\"><facets-overview proto-input=\"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\"></facets-overview>';\n",
              "        facets_iframe.srcdoc = facets_html;\n",
              "         facets_iframe.id = \"\";\n",
              "         setTimeout(() => {\n",
              "           facets_iframe.setAttribute('height', facets_iframe.contentWindow.document.body.offsetHeight + 'px')\n",
              "         }, 1500)\n",
              "         </script>"
            ]
          },
          "metadata": {}
        }
      ]
    },
    {
      "cell_type": "markdown",
      "source": [
        "## 1.7 Generate Training Data Schema \n",
        "\n",
        "ℹ️ A data schema is a blueprint or a set of rules that defines the structure, organization, and format of a dataset. It describes the types of data that are stored in the dataset, the relationships between different data elements, and the constraints on the data values.\n",
        "\n",
        "✅ TFDV provides a method called `generate_schema()` that can automatically create a schema based on the data types and statistics of the features in a dataset. The schema is represented as a Schema object, which can be used to validate and analyze the data. For example, by comparing the statistics and schema of different versions of the data to detect data drift, or by comparing the statistics of different classes to detect data skew.\n",
        "\n",
        "❌ Keep in mind that, schema generation is not a replacement for traditional data cleaning and preprocessing steps, but it can be a useful tool for identifying data quality issues, and for monitoring the data pipeline in MLops."
      ],
      "metadata": {
        "id": "vqbYvdnHCrxi"
      }
    },
    {
      "cell_type": "code",
      "source": [
        "train_schema = tfdv.infer_schema(statistics=train_stats)\n",
        "tfdv.display_schema(train_schema)"
      ],
      "metadata": {
        "colab": {
          "base_uri": "https://localhost:8080/",
          "height": 793
        },
        "id": "uEAEa36S9URa",
        "outputId": "d6e6aaec-e634-41fd-d236-dbeb76ce4b58"
      },
      "execution_count": null,
      "outputs": [
        {
          "output_type": "display_data",
          "data": {
            "text/plain": [
              "                                 Type  Presence Valency Domain\n",
              "Feature name                                                  \n",
              "'user_log_num'                    INT  required              -\n",
              "'course_log_num'                  INT  required              -\n",
              "'take_course_num'                 INT  required              -\n",
              "'take_user_num'                   INT  required              -\n",
              "'log_num'                         INT  required              -\n",
              "'server_nagivate'                 INT  required              -\n",
              "'server_access'                   INT  required              -\n",
              "'server_problem'                  INT  required              -\n",
              "'browser_access'                  INT  required              -\n",
              "'browser_problem'                 INT  required              -\n",
              "'browser_page_close'              INT  required              -\n",
              "'browser_video'                   INT  required              -\n",
              "'server_discussion'               INT  required              -\n",
              "'server_wiki'                     INT  required              -\n",
              "'chapter_count'                   INT  required              -\n",
              "'sequential_count'                INT  required              -\n",
              "'video_count'                     INT  required              -\n",
              "'problem_count'                   INT  required              -\n",
              "'discussion_count'                INT  required              -\n",
              "'taked_course_chapter_amount'     INT  required              -\n",
              "'taked_course_video_amount'       INT  required              -\n",
              "'taked_course_discussion_amount'  INT  required              -\n",
              "'Success'                         INT  required              -"
            ],
            "text/html": [
              "\n",
              "  <div id=\"df-10a3a23b-590b-4ecb-a4be-6a7aee591f08\">\n",
              "    <div class=\"colab-df-container\">\n",
              "      <div>\n",
              "<style scoped>\n",
              "    .dataframe tbody tr th:only-of-type {\n",
              "        vertical-align: middle;\n",
              "    }\n",
              "\n",
              "    .dataframe tbody tr th {\n",
              "        vertical-align: top;\n",
              "    }\n",
              "\n",
              "    .dataframe thead th {\n",
              "        text-align: right;\n",
              "    }\n",
              "</style>\n",
              "<table border=\"1\" class=\"dataframe\">\n",
              "  <thead>\n",
              "    <tr style=\"text-align: right;\">\n",
              "      <th></th>\n",
              "      <th>Type</th>\n",
              "      <th>Presence</th>\n",
              "      <th>Valency</th>\n",
              "      <th>Domain</th>\n",
              "    </tr>\n",
              "    <tr>\n",
              "      <th>Feature name</th>\n",
              "      <th></th>\n",
              "      <th></th>\n",
              "      <th></th>\n",
              "      <th></th>\n",
              "    </tr>\n",
              "  </thead>\n",
              "  <tbody>\n",
              "    <tr>\n",
              "      <th>'user_log_num'</th>\n",
              "      <td>INT</td>\n",
              "      <td>required</td>\n",
              "      <td></td>\n",
              "      <td>-</td>\n",
              "    </tr>\n",
              "    <tr>\n",
              "      <th>'course_log_num'</th>\n",
              "      <td>INT</td>\n",
              "      <td>required</td>\n",
              "      <td></td>\n",
              "      <td>-</td>\n",
              "    </tr>\n",
              "    <tr>\n",
              "      <th>'take_course_num'</th>\n",
              "      <td>INT</td>\n",
              "      <td>required</td>\n",
              "      <td></td>\n",
              "      <td>-</td>\n",
              "    </tr>\n",
              "    <tr>\n",
              "      <th>'take_user_num'</th>\n",
              "      <td>INT</td>\n",
              "      <td>required</td>\n",
              "      <td></td>\n",
              "      <td>-</td>\n",
              "    </tr>\n",
              "    <tr>\n",
              "      <th>'log_num'</th>\n",
              "      <td>INT</td>\n",
              "      <td>required</td>\n",
              "      <td></td>\n",
              "      <td>-</td>\n",
              "    </tr>\n",
              "    <tr>\n",
              "      <th>'server_nagivate'</th>\n",
              "      <td>INT</td>\n",
              "      <td>required</td>\n",
              "      <td></td>\n",
              "      <td>-</td>\n",
              "    </tr>\n",
              "    <tr>\n",
              "      <th>'server_access'</th>\n",
              "      <td>INT</td>\n",
              "      <td>required</td>\n",
              "      <td></td>\n",
              "      <td>-</td>\n",
              "    </tr>\n",
              "    <tr>\n",
              "      <th>'server_problem'</th>\n",
              "      <td>INT</td>\n",
              "      <td>required</td>\n",
              "      <td></td>\n",
              "      <td>-</td>\n",
              "    </tr>\n",
              "    <tr>\n",
              "      <th>'browser_access'</th>\n",
              "      <td>INT</td>\n",
              "      <td>required</td>\n",
              "      <td></td>\n",
              "      <td>-</td>\n",
              "    </tr>\n",
              "    <tr>\n",
              "      <th>'browser_problem'</th>\n",
              "      <td>INT</td>\n",
              "      <td>required</td>\n",
              "      <td></td>\n",
              "      <td>-</td>\n",
              "    </tr>\n",
              "    <tr>\n",
              "      <th>'browser_page_close'</th>\n",
              "      <td>INT</td>\n",
              "      <td>required</td>\n",
              "      <td></td>\n",
              "      <td>-</td>\n",
              "    </tr>\n",
              "    <tr>\n",
              "      <th>'browser_video'</th>\n",
              "      <td>INT</td>\n",
              "      <td>required</td>\n",
              "      <td></td>\n",
              "      <td>-</td>\n",
              "    </tr>\n",
              "    <tr>\n",
              "      <th>'server_discussion'</th>\n",
              "      <td>INT</td>\n",
              "      <td>required</td>\n",
              "      <td></td>\n",
              "      <td>-</td>\n",
              "    </tr>\n",
              "    <tr>\n",
              "      <th>'server_wiki'</th>\n",
              "      <td>INT</td>\n",
              "      <td>required</td>\n",
              "      <td></td>\n",
              "      <td>-</td>\n",
              "    </tr>\n",
              "    <tr>\n",
              "      <th>'chapter_count'</th>\n",
              "      <td>INT</td>\n",
              "      <td>required</td>\n",
              "      <td></td>\n",
              "      <td>-</td>\n",
              "    </tr>\n",
              "    <tr>\n",
              "      <th>'sequential_count'</th>\n",
              "      <td>INT</td>\n",
              "      <td>required</td>\n",
              "      <td></td>\n",
              "      <td>-</td>\n",
              "    </tr>\n",
              "    <tr>\n",
              "      <th>'video_count'</th>\n",
              "      <td>INT</td>\n",
              "      <td>required</td>\n",
              "      <td></td>\n",
              "      <td>-</td>\n",
              "    </tr>\n",
              "    <tr>\n",
              "      <th>'problem_count'</th>\n",
              "      <td>INT</td>\n",
              "      <td>required</td>\n",
              "      <td></td>\n",
              "      <td>-</td>\n",
              "    </tr>\n",
              "    <tr>\n",
              "      <th>'discussion_count'</th>\n",
              "      <td>INT</td>\n",
              "      <td>required</td>\n",
              "      <td></td>\n",
              "      <td>-</td>\n",
              "    </tr>\n",
              "    <tr>\n",
              "      <th>'taked_course_chapter_amount'</th>\n",
              "      <td>INT</td>\n",
              "      <td>required</td>\n",
              "      <td></td>\n",
              "      <td>-</td>\n",
              "    </tr>\n",
              "    <tr>\n",
              "      <th>'taked_course_video_amount'</th>\n",
              "      <td>INT</td>\n",
              "      <td>required</td>\n",
              "      <td></td>\n",
              "      <td>-</td>\n",
              "    </tr>\n",
              "    <tr>\n",
              "      <th>'taked_course_discussion_amount'</th>\n",
              "      <td>INT</td>\n",
              "      <td>required</td>\n",
              "      <td></td>\n",
              "      <td>-</td>\n",
              "    </tr>\n",
              "    <tr>\n",
              "      <th>'Success'</th>\n",
              "      <td>INT</td>\n",
              "      <td>required</td>\n",
              "      <td></td>\n",
              "      <td>-</td>\n",
              "    </tr>\n",
              "  </tbody>\n",
              "</table>\n",
              "</div>\n",
              "      <button class=\"colab-df-convert\" onclick=\"convertToInteractive('df-10a3a23b-590b-4ecb-a4be-6a7aee591f08')\"\n",
              "              title=\"Convert this dataframe to an interactive table.\"\n",
              "              style=\"display:none;\">\n",
              "        \n",
              "  <svg xmlns=\"http://www.w3.org/2000/svg\" height=\"24px\"viewBox=\"0 0 24 24\"\n",
              "       width=\"24px\">\n",
              "    <path d=\"M0 0h24v24H0V0z\" fill=\"none\"/>\n",
              "    <path d=\"M18.56 5.44l.94 2.06.94-2.06 2.06-.94-2.06-.94-.94-2.06-.94 2.06-2.06.94zm-11 1L8.5 8.5l.94-2.06 2.06-.94-2.06-.94L8.5 2.5l-.94 2.06-2.06.94zm10 10l.94 2.06.94-2.06 2.06-.94-2.06-.94-.94-2.06-.94 2.06-2.06.94z\"/><path d=\"M17.41 7.96l-1.37-1.37c-.4-.4-.92-.59-1.43-.59-.52 0-1.04.2-1.43.59L10.3 9.45l-7.72 7.72c-.78.78-.78 2.05 0 2.83L4 21.41c.39.39.9.59 1.41.59.51 0 1.02-.2 1.41-.59l7.78-7.78 2.81-2.81c.8-.78.8-2.07 0-2.86zM5.41 20L4 18.59l7.72-7.72 1.47 1.35L5.41 20z\"/>\n",
              "  </svg>\n",
              "      </button>\n",
              "      \n",
              "  <style>\n",
              "    .colab-df-container {\n",
              "      display:flex;\n",
              "      flex-wrap:wrap;\n",
              "      gap: 12px;\n",
              "    }\n",
              "\n",
              "    .colab-df-convert {\n",
              "      background-color: #E8F0FE;\n",
              "      border: none;\n",
              "      border-radius: 50%;\n",
              "      cursor: pointer;\n",
              "      display: none;\n",
              "      fill: #1967D2;\n",
              "      height: 32px;\n",
              "      padding: 0 0 0 0;\n",
              "      width: 32px;\n",
              "    }\n",
              "\n",
              "    .colab-df-convert:hover {\n",
              "      background-color: #E2EBFA;\n",
              "      box-shadow: 0px 1px 2px rgba(60, 64, 67, 0.3), 0px 1px 3px 1px rgba(60, 64, 67, 0.15);\n",
              "      fill: #174EA6;\n",
              "    }\n",
              "\n",
              "    [theme=dark] .colab-df-convert {\n",
              "      background-color: #3B4455;\n",
              "      fill: #D2E3FC;\n",
              "    }\n",
              "\n",
              "    [theme=dark] .colab-df-convert:hover {\n",
              "      background-color: #434B5C;\n",
              "      box-shadow: 0px 1px 3px 1px rgba(0, 0, 0, 0.15);\n",
              "      filter: drop-shadow(0px 1px 2px rgba(0, 0, 0, 0.3));\n",
              "      fill: #FFFFFF;\n",
              "    }\n",
              "  </style>\n",
              "\n",
              "      <script>\n",
              "        const buttonEl =\n",
              "          document.querySelector('#df-10a3a23b-590b-4ecb-a4be-6a7aee591f08 button.colab-df-convert');\n",
              "        buttonEl.style.display =\n",
              "          google.colab.kernel.accessAllowed ? 'block' : 'none';\n",
              "\n",
              "        async function convertToInteractive(key) {\n",
              "          const element = document.querySelector('#df-10a3a23b-590b-4ecb-a4be-6a7aee591f08');\n",
              "          const dataTable =\n",
              "            await google.colab.kernel.invokeFunction('convertToInteractive',\n",
              "                                                     [key], {});\n",
              "          if (!dataTable) return;\n",
              "\n",
              "          const docLinkHtml = 'Like what you see? Visit the ' +\n",
              "            '<a target=\"_blank\" href=https://colab.research.google.com/notebooks/data_table.ipynb>data table notebook</a>'\n",
              "            + ' to learn more about interactive tables.';\n",
              "          element.innerHTML = '';\n",
              "          dataTable['output_type'] = 'display_data';\n",
              "          await google.colab.output.renderOutput(dataTable, element);\n",
              "          const docLink = document.createElement('div');\n",
              "          docLink.innerHTML = docLinkHtml;\n",
              "          element.appendChild(docLink);\n",
              "        }\n",
              "      </script>\n",
              "    </div>\n",
              "  </div>\n",
              "  "
            ]
          },
          "metadata": {}
        }
      ]
    },
    {
      "cell_type": "markdown",
      "source": [
        "## 1.8 Recognize and Fix DataData Problems"
      ],
      "metadata": {
        "id": "G-hBxr3m-AOl"
      }
    },
    {
      "cell_type": "markdown",
      "source": [
        "### 1.8.1 Compare Datasets\n",
        "\n",
        "ℹ️ Schema skew refers to a situation where the schema of a dataset changes over time, leading to inconsistencies or inaccuracies in the data. This can happen for various reasons, such as changes in data sources, data processing pipelines, or data storage systems.\n",
        "\n",
        "❌ Schema skew can cause a variety of problems in data processing and analysis, such as:\n",
        "\n",
        "1. Inconsistencies in the data that can lead to incorrect or incomplete results.\n",
        "1. Difficulty in understanding the data, as the schema is not consistent across the dataset.\n",
        "1. Difficulty in integrating and merging data from different sources, as the schema is not consistent across the dataset.\n",
        "1. Difficulty in implementing data governance and data quality control, as the schema is not consistent across the dataset.\n",
        "\n",
        "✅  It's important to keep monitoring the data pipeline, validate the data against the schema, and update the schema accordingly. This can be done by using tools such as TensorFlow Data Validation (TFDV) which can detect and notify about schema skew by comparing the statistics and schema of different versions of the data."
      ],
      "metadata": {
        "id": "UalJNo1nGxkj"
      }
    },
    {
      "cell_type": "code",
      "source": [
        "train_stats = tfdv.generate_statistics_from_dataframe(train_data)\n",
        "print(f\"First feature of Train: {train_stats.datasets[0].features[0].path.step[0]}\")\n",
        "print(f\"Last feature of Train: {train_stats.datasets[0].features[-1].path.step[0]}\")\n",
        "print(f\"Number of features used: {len(train_stats.datasets[0].features)}\")\n",
        "print(f\"Number of examples used: {train_stats.datasets[0].num_examples}\\n\")\n",
        "\n",
        "\n",
        "\n",
        "val_stats = tfdv.generate_statistics_from_dataframe(val_data, stats_options)\n",
        "print(f\"First feature of Val: {val_stats.datasets[0].features[0].path.step[0]}\")\n",
        "print(f\"Last feature of Val: {val_stats.datasets[0].features[-1].path.step[0]}\")\n",
        "print(f\"Number of features used: {len(val_stats.datasets[0].features)}\")\n",
        "print(f\"Number of examples used: {val_stats.datasets[0].num_examples}\")\n",
        "\n",
        "test_stats = tfdv.generate_statistics_from_dataframe(serve_data, stats_options)"
      ],
      "metadata": {
        "colab": {
          "base_uri": "https://localhost:8080/"
        },
        "id": "fVL7_KWaIX9X",
        "outputId": "335ad3eb-fd6a-434a-ab55-2e4781e554c1"
      },
      "execution_count": null,
      "outputs": [
        {
          "output_type": "stream",
          "name": "stdout",
          "text": [
            "First feature of Train: user_log_num\n",
            "Last feature of Train: Success\n",
            "Number of features used: 23\n",
            "Number of examples used: 57860\n",
            "\n",
            "First feature of Val: user_log_num\n",
            "Last feature of Val: Success\n",
            "Number of features used: 23\n",
            "Number of examples used: 19287\n"
          ]
        }
      ]
    },
    {
      "cell_type": "code",
      "source": [
        "# Generate evaluation dataset statistics\n",
        "val_info = tfdv.generate_statistics_from_dataframe(val_data)\n",
        "\n",
        "# Compare training with evaluation\n",
        "tfdv.visualize_statistics(\n",
        "    rhs_statistics=train_stats,rhs_name='TRAIN',\n",
        "    lhs_statistics=val_stats, lhs_name='VAL') "
      ],
      "metadata": {
        "id": "nlW_0czM-Pgf",
        "outputId": "27895278-77f2-49db-b463-f8e6d81bccb2",
        "colab": {
          "base_uri": "https://localhost:8080/",
          "height": 1000
        }
      },
      "execution_count": null,
      "outputs": [
        {
          "output_type": "display_data",
          "data": {
            "text/plain": [
              "<IPython.core.display.HTML object>"
            ],
            "text/html": [
              "<iframe id='facets-iframe' width=\"100%\" height=\"500px\"></iframe>\n",
              "        <script>\n",
              "        facets_iframe = document.getElementById('facets-iframe');\n",
              "        facets_html = '<script src=\"https://cdnjs.cloudflare.com/ajax/libs/webcomponentsjs/1.3.3/webcomponents-lite.js\"><\\/script><link rel=\"import\" href=\"https://raw.githubusercontent.com/PAIR-code/facets/master/facets-dist/facets-jupyter.html\"><facets-overview proto-input=\"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\"></facets-overview>';\n",
              "        facets_iframe.srcdoc = facets_html;\n",
              "         facets_iframe.id = \"\";\n",
              "         setTimeout(() => {\n",
              "           facets_iframe.setAttribute('height', facets_iframe.contentWindow.document.body.offsetHeight + 'px')\n",
              "         }, 1500)\n",
              "         </script>"
            ]
          },
          "metadata": {}
        }
      ]
    },
    {
      "cell_type": "markdown",
      "source": [
        "### 1.8.2 Validation anomalies"
      ],
      "metadata": {
        "id": "ZJmuz7oiIKJF"
      }
    },
    {
      "cell_type": "code",
      "source": [
        "# Anomalies Detection and Visualization\n",
        "outlier = tfdv.validate_statistics(statistics=val_stats, schema=train_schema)\n",
        "tfdv.display_anomalies(outlier)"
      ],
      "metadata": {
        "colab": {
          "base_uri": "https://localhost:8080/",
          "height": 57
        },
        "id": "hslThSD0lEIH",
        "outputId": "d9bc62fa-a879-4454-f51e-8daea5cd118f"
      },
      "execution_count": null,
      "outputs": [
        {
          "output_type": "display_data",
          "data": {
            "text/plain": [
              "<IPython.core.display.HTML object>"
            ],
            "text/html": [
              "<h4 style=\"color:green;\">No anomalies found.</h4>"
            ]
          },
          "metadata": {}
        }
      ]
    },
    {
      "cell_type": "markdown",
      "source": [
        "We'd like to see `No anomalies found.` after anomalies detection. Otherwise, we need to fix validation anomalies in the schema. For example:\n",
        "\n",
        "  > - `Feature name: Skills`\n",
        "  > - `Anomaly short description: Unexpected string values`\n",
        "  > - `Unexpected string values: Examples contain values missing from the schema: Accounting (<1%).` \n",
        "\n",
        "which indicates validation data has records with `Accounting` for the features `Skills` that were not included in the schema generated from the training data. \n",
        "\n",
        "We can fix this by adding the new values that exist in the validation dataset to the domain of these features.\n",
        "\n",
        "```Python\n",
        "skills_domain = tfdv.get_domain(train_schema, 'Skills') \n",
        "skills_domain.value.append(\"Accounting\")\n",
        "\n",
        "calculate_and_display_anomalies(val_stats, schema=train_schema)\n",
        "```"
      ],
      "metadata": {
        "id": "RdnloHKsKRkA"
      }
    },
    {
      "cell_type": "markdown",
      "source": [
        "### 1.8.3 Serving anomalies\n",
        "Likewise, we'd like to see `No anomalies found.` after anomalies detection.\n"
      ],
      "metadata": {
        "id": "1ebN_q8crV12"
      }
    },
    {
      "cell_type": "code",
      "source": [
        "options = tfdv.StatsOptions(schema=train_schema, \n",
        "                            infer_type_from_schema=True, \n",
        "                            feature_allowlist=approved_cols)\n",
        "\n",
        "serve_stats = tfdv.generate_statistics_from_dataframe(serve_data, stats_options=options)\n",
        "outlier = tfdv.validate_statistics(statistics=serve_stats, schema=train_schema)\n",
        "tfdv.display_anomalies(outlier)"
      ],
      "metadata": {
        "colab": {
          "base_uri": "https://localhost:8080/",
          "height": 111
        },
        "id": "swQmoZahKHZR",
        "outputId": "81cce876-0229-4eb7-871c-fd3cbce225d3"
      },
      "execution_count": null,
      "outputs": [
        {
          "output_type": "display_data",
          "data": {
            "text/plain": [
              "             Anomaly short description      Anomaly long description\n",
              "Feature name                                                        \n",
              "'Success'               Column dropped  Column is completely missing"
            ],
            "text/html": [
              "\n",
              "  <div id=\"df-322aecb4-6ef9-4d62-8829-60cd9cd71ad6\">\n",
              "    <div class=\"colab-df-container\">\n",
              "      <div>\n",
              "<style scoped>\n",
              "    .dataframe tbody tr th:only-of-type {\n",
              "        vertical-align: middle;\n",
              "    }\n",
              "\n",
              "    .dataframe tbody tr th {\n",
              "        vertical-align: top;\n",
              "    }\n",
              "\n",
              "    .dataframe thead th {\n",
              "        text-align: right;\n",
              "    }\n",
              "</style>\n",
              "<table border=\"1\" class=\"dataframe\">\n",
              "  <thead>\n",
              "    <tr style=\"text-align: right;\">\n",
              "      <th></th>\n",
              "      <th>Anomaly short description</th>\n",
              "      <th>Anomaly long description</th>\n",
              "    </tr>\n",
              "    <tr>\n",
              "      <th>Feature name</th>\n",
              "      <th></th>\n",
              "      <th></th>\n",
              "    </tr>\n",
              "  </thead>\n",
              "  <tbody>\n",
              "    <tr>\n",
              "      <th>'Success'</th>\n",
              "      <td>Column dropped</td>\n",
              "      <td>Column is completely missing</td>\n",
              "    </tr>\n",
              "  </tbody>\n",
              "</table>\n",
              "</div>\n",
              "      <button class=\"colab-df-convert\" onclick=\"convertToInteractive('df-322aecb4-6ef9-4d62-8829-60cd9cd71ad6')\"\n",
              "              title=\"Convert this dataframe to an interactive table.\"\n",
              "              style=\"display:none;\">\n",
              "        \n",
              "  <svg xmlns=\"http://www.w3.org/2000/svg\" height=\"24px\"viewBox=\"0 0 24 24\"\n",
              "       width=\"24px\">\n",
              "    <path d=\"M0 0h24v24H0V0z\" fill=\"none\"/>\n",
              "    <path d=\"M18.56 5.44l.94 2.06.94-2.06 2.06-.94-2.06-.94-.94-2.06-.94 2.06-2.06.94zm-11 1L8.5 8.5l.94-2.06 2.06-.94-2.06-.94L8.5 2.5l-.94 2.06-2.06.94zm10 10l.94 2.06.94-2.06 2.06-.94-2.06-.94-.94-2.06-.94 2.06-2.06.94z\"/><path d=\"M17.41 7.96l-1.37-1.37c-.4-.4-.92-.59-1.43-.59-.52 0-1.04.2-1.43.59L10.3 9.45l-7.72 7.72c-.78.78-.78 2.05 0 2.83L4 21.41c.39.39.9.59 1.41.59.51 0 1.02-.2 1.41-.59l7.78-7.78 2.81-2.81c.8-.78.8-2.07 0-2.86zM5.41 20L4 18.59l7.72-7.72 1.47 1.35L5.41 20z\"/>\n",
              "  </svg>\n",
              "      </button>\n",
              "      \n",
              "  <style>\n",
              "    .colab-df-container {\n",
              "      display:flex;\n",
              "      flex-wrap:wrap;\n",
              "      gap: 12px;\n",
              "    }\n",
              "\n",
              "    .colab-df-convert {\n",
              "      background-color: #E8F0FE;\n",
              "      border: none;\n",
              "      border-radius: 50%;\n",
              "      cursor: pointer;\n",
              "      display: none;\n",
              "      fill: #1967D2;\n",
              "      height: 32px;\n",
              "      padding: 0 0 0 0;\n",
              "      width: 32px;\n",
              "    }\n",
              "\n",
              "    .colab-df-convert:hover {\n",
              "      background-color: #E2EBFA;\n",
              "      box-shadow: 0px 1px 2px rgba(60, 64, 67, 0.3), 0px 1px 3px 1px rgba(60, 64, 67, 0.15);\n",
              "      fill: #174EA6;\n",
              "    }\n",
              "\n",
              "    [theme=dark] .colab-df-convert {\n",
              "      background-color: #3B4455;\n",
              "      fill: #D2E3FC;\n",
              "    }\n",
              "\n",
              "    [theme=dark] .colab-df-convert:hover {\n",
              "      background-color: #434B5C;\n",
              "      box-shadow: 0px 1px 3px 1px rgba(0, 0, 0, 0.15);\n",
              "      filter: drop-shadow(0px 1px 2px rgba(0, 0, 0, 0.3));\n",
              "      fill: #FFFFFF;\n",
              "    }\n",
              "  </style>\n",
              "\n",
              "      <script>\n",
              "        const buttonEl =\n",
              "          document.querySelector('#df-322aecb4-6ef9-4d62-8829-60cd9cd71ad6 button.colab-df-convert');\n",
              "        buttonEl.style.display =\n",
              "          google.colab.kernel.accessAllowed ? 'block' : 'none';\n",
              "\n",
              "        async function convertToInteractive(key) {\n",
              "          const element = document.querySelector('#df-322aecb4-6ef9-4d62-8829-60cd9cd71ad6');\n",
              "          const dataTable =\n",
              "            await google.colab.kernel.invokeFunction('convertToInteractive',\n",
              "                                                     [key], {});\n",
              "          if (!dataTable) return;\n",
              "\n",
              "          const docLinkHtml = 'Like what you see? Visit the ' +\n",
              "            '<a target=\"_blank\" href=https://colab.research.google.com/notebooks/data_table.ipynb>data table notebook</a>'\n",
              "            + ' to learn more about interactive tables.';\n",
              "          element.innerHTML = '';\n",
              "          dataTable['output_type'] = 'display_data';\n",
              "          await google.colab.output.renderOutput(dataTable, element);\n",
              "          const docLink = document.createElement('div');\n",
              "          docLink.innerHTML = docLinkHtml;\n",
              "          element.appendChild(docLink);\n",
              "        }\n",
              "      </script>\n",
              "    </div>\n",
              "  </div>\n",
              "  "
            ]
          },
          "metadata": {}
        }
      ]
    },
    {
      "cell_type": "markdown",
      "source": [
        "As Anomaly short description shows, we dropped 'Success'/labels column from serving dataset. Hence, we can let TFDV to ignore the anomaly."
      ],
      "metadata": {
        "id": "7rV47va6vpoi"
      }
    },
    {
      "cell_type": "code",
      "source": [
        "# All features are by default in both TRAINING and SERVING environments.\n",
        "train_schema.default_environment.append('TRAINING')\n",
        "train_schema.default_environment.append('SERVING')\n",
        "\n",
        "tfdv.get_feature(train_schema, 'Success').not_in_environment.append('SERVING')\n",
        "\n",
        "serving_anomalies_with_env = tfdv.validate_statistics(serve_stats, train_schema, environment='SERVING')\n",
        "\n",
        "tfdv.display_anomalies(serving_anomalies_with_env)"
      ],
      "metadata": {
        "colab": {
          "base_uri": "https://localhost:8080/",
          "height": 57
        },
        "id": "GNnp6YLSw0EI",
        "outputId": "0914d6a6-d585-4788-8d1f-6e138c026c45"
      },
      "execution_count": null,
      "outputs": [
        {
          "output_type": "display_data",
          "data": {
            "text/plain": [
              "<IPython.core.display.HTML object>"
            ],
            "text/html": [
              "<h4 style=\"color:green;\">No anomalies found.</h4>"
            ]
          },
          "metadata": {}
        }
      ]
    },
    {
      "cell_type": "markdown",
      "source": [
        "There is a chance to see followed example:\n",
        "\n",
        "  > - `Feature name: Skills`\n",
        "  > - `Anomaly short description: Unexpected string values`\n",
        "  > - `Unexpected string values: Examples contain values missing from the schema: Accounting (<1%).` \n",
        "\n",
        "This is because we have a restrict detection constraints. Usually we can solve the error by relaxing the rule.\n",
        "\n",
        "```Python\n",
        "# relax to match 90% of the domain\n",
        "skills = tfdv.get_feature(schema=train_schema, 'Skills')\n",
        "skills.distribution_constraints.min_domain_mass = 0.9 \n",
        "\n",
        "calculate_and_display_anomalies(serving_stats, schema=train_schema)\n",
        "```"
      ],
      "metadata": {
        "id": "2ahZWK1jxd4i"
      }
    },
    {
      "cell_type": "markdown",
      "source": [
        "### 1.8.4 Data Drift and Skew\n",
        "\n",
        "1. Data Drift\n",
        "\n",
        "  ℹ️ Data drift occurs when the distribution of the data used to train a machine learning model differs from the distribution of the data that the model encounters in production. \n",
        "\n",
        "  ❌ This can lead to a decrease in model performance and accuracy. \n",
        "\n",
        "  🤔 Data drift can be caused by changes in the data generating process or by the accumulation of stale data.\n",
        "\n",
        "1. Data Skew\n",
        "\n",
        "  ℹ️ Data skew occurs when the data used to train a machine learning model is not evenly distributed among the different classes or categories. \n",
        "  \n",
        "  ❌ This can lead to a bias in the model towards the more frequent classes, resulting in poor performance on less frequent classes. \n",
        "  \n",
        "  🤔 Data skew can be caused by imbalanced data collection or by data preprocessing steps that do not properly balance the data."
      ],
      "metadata": {
        "id": "2S6t10028zEc"
      }
    },
    {
      "cell_type": "code",
      "source": [
        "# Calculate skew for the course_log_num feature\n",
        "math_score = tfdv.get_feature(train_schema, 'course_log_num')\n",
        "math_score.skew_comparator.infinity_norm.threshold = 0.01 # domain knowledge helps to determine this threshold\n",
        "\n",
        "# Calculate drift for the taked_course_video_amount feature\n",
        "reading_score = tfdv.get_feature(train_schema, 'taked_course_video_amount')\n",
        "reading_score.drift_comparator.infinity_norm.threshold = 0.01 # domain knowledge helps to determine this threshold\n",
        "\n",
        "# Calculate anomalies\n",
        "skew_drift_anomalies = tfdv.validate_statistics(train_stats, train_schema,\n",
        "                                               previous_statistics=val_stats,\n",
        "                                                serving_statistics=serve_stats)\n",
        "\n",
        "# Display anomalies\n",
        "tfdv.display_anomalies(skew_drift_anomalies)"
      ],
      "metadata": {
        "colab": {
          "base_uri": "https://localhost:8080/",
          "height": 57
        },
        "id": "_gvSwjOA80aC",
        "outputId": "ffaaff22-1a12-448b-de3b-40a9ea7c5c3c"
      },
      "execution_count": null,
      "outputs": [
        {
          "output_type": "display_data",
          "data": {
            "text/plain": [
              "<IPython.core.display.HTML object>"
            ],
            "text/html": [
              "<h4 style=\"color:green;\">No anomalies found.</h4>"
            ]
          },
          "metadata": {}
        }
      ]
    },
    {
      "cell_type": "markdown",
      "source": [
        "✅ Ideally, we could see `No anomalies found.` as aboved. \n",
        "\n",
        "❌ Otherwise, we could know how the Linfty distance between training and serving is, and decide whether accept a new  threshold or not. If the anomaly truly indicates a skew and drift, then further investigation is necessary as this could have a direct impact on model performance."
      ],
      "metadata": {
        "id": "9arj7AJg06YO"
      }
    },
    {
      "cell_type": "markdown",
      "source": [
        "### 1.8.5 Data Slices"
      ],
      "metadata": {
        "id": "cHYwDzqR1tw4"
      }
    },
    {
      "cell_type": "code",
      "source": [],
      "metadata": {
        "id": "3KwcHFPl05rn"
      },
      "execution_count": null,
      "outputs": []
    },
    {
      "cell_type": "code",
      "source": [
        "def split_datasets(dataset_list):\n",
        "    '''\n",
        "    split datasets.\n",
        "\n",
        "            Parameters:\n",
        "                    dataset_list: List of datasets to split\n",
        "\n",
        "            Returns:\n",
        "                    datasets: sliced data\n",
        "    '''\n",
        "    datasets = []\n",
        "    for dataset in dataset_list.datasets:\n",
        "        proto_list = DatasetFeatureStatisticsList()\n",
        "        proto_list.datasets.extend([dataset])\n",
        "        datasets.append(proto_list)\n",
        "    return datasets\n",
        "\n",
        "\n",
        "def display_stats_at_index(index, datasets):\n",
        "    '''\n",
        "    display statistics at the specified data index\n",
        "\n",
        "            Parameters:\n",
        "                    index : index to show the anomalies\n",
        "                    datasets: split data\n",
        "\n",
        "            Returns:\n",
        "                    display of generated sliced data statistics at the specified index\n",
        "    '''\n",
        "    if index < len(datasets):\n",
        "        print(datasets[index].datasets[0].name)\n",
        "        tfdv.visualize_statistics(datasets[index])"
      ],
      "metadata": {
        "id": "l4vEmBF59XSh"
      },
      "execution_count": null,
      "outputs": []
    },
    {
      "cell_type": "code",
      "source": [
        "def sliced_stats_for_slice_fn(slice_fn, approved_cols, dataframe, schema):\n",
        "    '''\n",
        "    generate statistics for the sliced data.\n",
        "\n",
        "            Parameters:\n",
        "                    slice_fn : slicing definition\n",
        "                    approved_cols: list of features to pass to the statistics options\n",
        "                    dataframe: pandas dataframe to slice\n",
        "                    schema: the schema\n",
        "\n",
        "            Returns:\n",
        "                    slice_info_datasets: statistics for the sliced dataset\n",
        "    '''\n",
        "    # Set the StatsOptions\n",
        "    slice_stats_options = tfdv.StatsOptions(schema=schema,\n",
        "                                            slice_functions=[slice_fn],\n",
        "                                            infer_type_from_schema=True,\n",
        "                                            feature_allowlist=approved_cols)\n",
        "    \n",
        "    # Convert Dataframe to CSV since `slice_functions` works only with `tfdv.generate_statistics_from_csv`\n",
        "    CSV_PATH = 'slice_sample.csv'\n",
        "    dataframe.to_csv(CSV_PATH)\n",
        "    \n",
        "    # Calculate statistics for the sliced dataset\n",
        "    sliced_stats = tfdv.generate_statistics_from_csv(CSV_PATH, stats_options=slice_stats_options)\n",
        "    \n",
        "    # Split the dataset using the previously defined split_datasets function\n",
        "    slice_info_datasets = split_datasets(sliced_stats)\n",
        "    \n",
        "    return slice_info_datasets"
      ],
      "metadata": {
        "id": "Bn6ckRA1N880"
      },
      "execution_count": null,
      "outputs": []
    },
    {
      "cell_type": "code",
      "source": [
        "\n",
        "slice_options = tfdv.StatsOptions(slice_functions=[slice_fn])\n",
        "\n",
        "slice_stats = tfdv.generate_statistics_from_csv(\n",
        "\n",
        "data_location='slice_sample.csv', stats_options=slice_options)"
      ],
      "metadata": {
        "id": "1QwbjAn-LyT8"
      },
      "execution_count": null,
      "outputs": []
    },
    {
      "cell_type": "code",
      "source": [
        "from tensorflow_metadata.proto.v0 import statistics_pb2 \n",
        "\n",
        "\n",
        "def display_slice_keys(stats):\n",
        "  print(list(map(lambda x: x.name, slice_stats.datasets))) \n",
        "  \n",
        "def get_sliced_stats(stats, slice_key):\n",
        "  for sliced_stats in stats.datasets:\n",
        "    if sliced_stats.name == slice_key:\n",
        "\n",
        "      result = statistics_pb2.DatasetFeatureStatisticsList() \n",
        "      result.datasets.add().CopyFrom(sliced_stats) \n",
        "      return result\n",
        "\n",
        "    print('Invalid Slice key')\n",
        "\n",
        "def compare_slices(stats, slice_key1, slice_key2):\n",
        "\n",
        "  lhs_stats = get_sliced_stats(stats, slice_key1) \n",
        "  rhs_stats = get_sliced_stats(stats, slice_key2) \n",
        "  tfdv.visualize_statistics(lhs_stats, rhs_stats)"
      ],
      "metadata": {
        "id": "LesbtaUpMTkx"
      },
      "execution_count": null,
      "outputs": []
    },
    {
      "cell_type": "code",
      "source": [
        "\n",
        "tfdv.visualize_statistics(get_sliced_stats(slice_stats, 'chapter_count_0'))\n",
        "\n",
        "compare_slices(slice_stats, 'chapter_count_0', 'All Examples')"
      ],
      "metadata": {
        "colab": {
          "base_uri": "https://localhost:8080/",
          "height": 1000
        },
        "id": "mrBDBE2qMA8j",
        "outputId": "40fdf2ac-c9ac-46ae-8a22-df1047a259dd"
      },
      "execution_count": null,
      "outputs": [
        {
          "output_type": "stream",
          "name": "stdout",
          "text": [
            "Invalid Slice key\n"
          ]
        },
        {
          "output_type": "display_data",
          "data": {
            "text/plain": [
              "<IPython.core.display.HTML object>"
            ],
            "text/html": [
              "<iframe id='facets-iframe' width=\"100%\" height=\"500px\"></iframe>\n",
              "        <script>\n",
              "        facets_iframe = document.getElementById('facets-iframe');\n",
              "        facets_html = '<script src=\"https://cdnjs.cloudflare.com/ajax/libs/webcomponentsjs/1.3.3/webcomponents-lite.js\"><\\/script><link rel=\"import\" href=\"https://raw.githubusercontent.com/PAIR-code/facets/master/facets-dist/facets-jupyter.html\"><facets-overview proto-input=\"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\"></facets-overview>';\n",
              "        facets_iframe.srcdoc = facets_html;\n",
              "         facets_iframe.id = \"\";\n",
              "         setTimeout(() => {\n",
              "           facets_iframe.setAttribute('height', facets_iframe.contentWindow.document.body.offsetHeight + 'px')\n",
              "         }, 1500)\n",
              "         </script>"
            ]
          },
          "metadata": {}
        },
        {
          "output_type": "stream",
          "name": "stdout",
          "text": [
            "Invalid Slice key\n"
          ]
        },
        {
          "output_type": "display_data",
          "data": {
            "text/plain": [
              "<IPython.core.display.HTML object>"
            ],
            "text/html": [
              "<iframe id='facets-iframe' width=\"100%\" height=\"500px\"></iframe>\n",
              "        <script>\n",
              "        facets_iframe = document.getElementById('facets-iframe');\n",
              "        facets_html = '<script src=\"https://cdnjs.cloudflare.com/ajax/libs/webcomponentsjs/1.3.3/webcomponents-lite.js\"><\\/script><link rel=\"import\" href=\"https://raw.githubusercontent.com/PAIR-code/facets/master/facets-dist/facets-jupyter.html\"><facets-overview proto-input=\"CuaiAQoPY2hhcHRlcl9jb3VudF8wEKuCAhqiBxqbBwq4AgirggIYASABLQAAgD8ypAIaGwkAAAAAAADwPxEAAAAAAADwPyFmZmZmZtWpQBobCQAAAAAAAPA/EQAAAAAAAPA/IWZmZmZm1alAGhsJAAAAAAAA8D8RAAAAAAAA8D8hZmZmZmbVqUAaGwkAAAAAAADwPxEAAAAAAADwPyFmZmZmZtWpQBobCQAAAAAAAPA/EQAAAAAAAPA/IWZmZmZm1alAGhsJAAAAAAAA8D8RAAAAAAAA8D8hZmZmZmbVqUAaGwkAAAAAAADwPxEAAAAAAADwPyFmZmZmZtWpQBobCQAAAAAAAPA/EQAAAAAAAPA/IWZmZmZm1alAGhsJAAAAAAAA8D8RAAAAAAAA8D8hZmZmZmbVqUAaGwkAAAAAAADwPxEAAAAAAADwPyFmZmZmZtWpQCABQKuCAhFZP5uB0RvcQBn95AE38kHQQCABMQAAAAAA+NtAOQAAAABgQOxAQpkCGhIRZmZmZuaZtkAhifRA5eysqUAaGwlmZmZm5pm2QBFmZmZm5pnGQCFfn/0Dp3+qQBobCWZmZmbmmcZAEczMzMxs89BAIUif9Ekfh6lAGhsJzMzMzGzz0EARZmZmZuaZ1kAhWnbjwek/qkAaGwlmZmZm5pnWQBEAAAAAYEDcQCGFZfgZcoeqQBobCQAAAABgQNxAEczMzMxs8+BAIXR7e3t73alAGhsJzMzMzGzz4EARmZmZmanG40Ah6l9tUoiMqUAaGwmZmZmZqcbjQBFmZmZm5pnmQCEPYxDty7qpQBobCWZmZmbmmeZAETMzMzMjbelAIQ5i8MDQtqlAGhsJMzMzMyNt6UARAAAAAGBA7EAhd1AHdVD/qEBCmwIaEhEAAAAAAMO2QCEAAAAAAN6pQBobCQAAAAAAw7ZAEQAAAACAY8ZAIQAAAAAA0KlAGhsJAAAAAIBjxkARAAAAAADm0EAhAAAAAADQqUAaGwkAAAAAAObQQBEAAAAAgHfWQCEAAAAAAOCpQBobCQAAAACAd9ZAEQAAAAAA+NtAIQAAAAAA0KlAGhsJAAAAAAD420ARAAAAAMDO4EAhAAAAAADQqUAaGwkAAAAAwM7gQBEAAAAAYKjjQCEAAAAAANapQBobCQAAAABgqONAEQAAAABgf+ZAIQAAAAAA2qlAGhsJAAAAAGB/5kARAAAAAIBU6UAhAAAAAADSqUAaGwkAAAAAgFTpQBEAAAAAYEDsQCEAAAAAANapQCABQgIKABrHBxq0Bwq4AgirggIYASABLQAAgD8ypAIaGwkAAAAAAADwPxEAAAAAAADwPyFmZmZmZtWpQBobCQAAAAAAAPA/EQAAAAAAAPA/IWZmZmZm1alAGhsJAAAAAAAA8D8RAAAAAAAA8D8hZmZmZmbVqUAaGwkAAAAAAADwPxEAAAAAAADwPyFmZmZmZtWpQBobCQAAAAAAAPA/EQAAAAAAAPA/IWZmZmZm1alAGhsJAAAAAAAA8D8RAAAAAAAA8D8hZmZmZmbVqUAaGwkAAAAAAADwPxEAAAAAAADwPyFmZmZmZtWpQBobCQAAAAAAAPA/EQAAAAAAAPA/IWZmZmZm1alAGhsJAAAAAAAA8D8RAAAAAAAA8D8hZmZmZmbVqUAaGwkAAAAAAADwPxEAAAAAAADwPyFmZmZmZtWpQCABQKuCAhHjlZ33MGFaQBmd07ajsbFzQCkAAAAAAADwPzEAAAAAAAAwQDkAAAAAgNDCQEKiAhobCQAAAAAAAPA/EZqZmZmZIY5AIYJQB3VQtd9AGhsJmpmZmZkhjkARmpmZmZkdnkAhZ4qFxqQNfEAaGwmamZmZmR2eQBE0MzMzM5WmQCE+Bp79ilNWQBobCTQzMzMzlaZAEZqZmZmZG65AIbOTUymp6ztAGhsJmpmZmZkbrkARAAAAAADRskAhIjsR5wYcFUAaGwkAAAAAANGyQBE0MzMzM5S2QCEoOxHnBhwVQBobCTQzMzMzlLZAEWdmZmZmV7pAISI7EecGHBVAGhsJZ2ZmZmZXukARmpmZmZkavkAhIjsR5wYcFUAaGwmamZmZmRq+QBFnZmZm5u7AQCEoOxHnBhwVQBobCWdmZmbm7sBAEQAAAACA0MJAIR07EecGHBVAQqQCGhsJAAAAAAAA8D8RAAAAAAAAAEAhAAAAAAAotEAaGwkAAAAAAAAAQBEAAAAAAAAQQCEAAAAAAIycQBobCQAAAAAAABBAEQAAAAAAABxAIQAAAAAAaKtAGhsJAAAAAAAAHEARAAAAAAAAJkAhAAAAAABqqkAaGwkAAAAAAAAmQBEAAAAAAAAwQCEAAAAAALalQBobCQAAAAAAADBAEQAAAAAAADtAIQAAAAAA7qlAGhsJAAAAAAAAO0ARAAAAAAAASEAhAAAAAADMqEAaGwkAAAAAAABIQBEAAAAAAEBaQCEAAAAAAN6pQBobCQAAAAAAQFpAEQAAAAAA0HBAIQAAAAAAzKlAGhsJAAAAAADQcEARAAAAAIDQwkAhAAAAAADUqUAgAUIOCgx1c2VyX2xvZ19udW0ayQcatAcKuAIIq4ICGAEgAS0AAIA/MqQCGhsJAAAAAAAA8D8RAAAAAAAA8D8hZmZmZmbVqUAaGwkAAAAAAADwPxEAAAAAAADwPyFmZmZmZtWpQBobCQAAAAAAAPA/EQAAAAAAAPA/IWZmZmZm1alAGhsJAAAAAAAA8D8RAAAAAAAA8D8hZmZmZmbVqUAaGwkAAAAAAADwPxEAAAAAAADwPyFmZmZmZtWpQBobCQAAAAAAAPA/EQAAAAAAAPA/IWZmZmZm1alAGhsJAAAAAAAA8D8RAAAAAAAA8D8hZmZmZmbVqUAaGwkAAAAAAADwPxEAAAAAAADwPyFmZmZmZtWpQBobCQAAAAAAAPA/EQAAAAAAAPA/IWZmZmZm1alAGhsJAAAAAAAA8D8RAAAAAAAA8D8hZmZmZmbVqUAgAUCrggIRJ9LoFSbdFUEZpZwQFHlLEEEpAAAAAAC41EAxAAAAAFjuD0E5AAAAANyuK0FCogIaGwkAAAAAALjUQBEzMzMz4876QCGyE7mbgSG5QBobCTMzMzPjzvpAETMzMzPjNwhBIT2CSElM7LRAGhsJMzMzM+M3CEERZmZmZiqEEUEhbKyuOdCds0AaGwlmZmZmKoQRQREzMzMzY+wWQSGB8o7NNKWrQBobCTMzMzNj7BZBEQAAAACcVBxBITwj+7OgwKpAGhsJAAAAAJxUHEERZmZmZmreIEEhi73vlDFmlEAaGwlmZmZmat4gQRHNzMzMhpIjQSF9WMHLupEzQBobCc3MzMyGkiNBETMzMzOjRiZBIYRLyTiZ5LBAGhsJMzMzM6NGJkERmZmZmb/6KEEhxsYp+TXPKUAaGwmZmZmZv/ooQREAAAAA3K4rQSEtQ3pZsFusQEKkAhobCQAAAAAAuNRAEQAAAABgweZAIQAAAAAAaKxAGhsJAAAAAGDB5kARAAAAABD6+kAhAAAAAAAGrUAaGwkAAAAAEPr6QBEAAAAA2P0CQSEAAAAAAB6mQBobCQAAAADY/QJBEQAAAAAYPA5BIQAAAAAA4KlAGhsJAAAAABg8DkERAAAAAFjuD0EhAAAAAADUqUAaGwkAAAAAWO4PQREAAAAA9CsVQSEAAAAAAJirQBobCQAAAAD0KxVBEQAAAAAw8xtBIQAAAAAA3KpAGhsJAAAAADDzG0ERAAAAADrrI0EhAAAAAAALtkAaGwkAAAAAOusjQREAAAAATswqQSEAAAAAAEyfQBobCQAAAABOzCpBEQAAAADcritBIQAAAAAAzJlAIAFCEAoOY291cnNlX2xvZ19udW0aygcatAcKuAIIq4ICGAEgAS0AAIA/MqQCGhsJAAAAAAAA8D8RAAAAAAAA8D8hZmZmZmbVqUAaGwkAAAAAAADwPxEAAAAAAADwPyFmZmZmZtWpQBobCQAAAAAAAPA/EQAAAAAAAPA/IWZmZmZm1alAGhsJAAAAAAAA8D8RAAAAAAAA8D8hZmZmZmbVqUAaGwkAAAAAAADwPxEAAAAAAADwPyFmZmZmZtWpQBobCQAAAAAAAPA/EQAAAAAAAPA/IWZmZmZm1alAGhsJAAAAAAAA8D8RAAAAAAAA8D8hZmZmZmbVqUAaGwkAAAAAAADwPxEAAAAAAADwPyFmZmZmZtWpQBobCQAAAAAAAPA/EQAAAAAAAPA/IWZmZmZm1alAGhsJAAAAAAAA8D8RAAAAAAAA8D8hZmZmZmbVqUAgAUCrggIRLiY0EPl/AkAZerBIB86jAUApAAAAAAAA8D8xAAAAAAAA8D85AAAAAAAAO0BCogIaGwkAAAAAAADwPxHNzMzMzMwMQCHczMzMsKzaQBobCc3MzMzMzAxAEc3MzMzMzBhAIZaZmZnJPrBAGhsJzczMzMzMGEARmpmZmZmZIUAhxPUoXI/siUAaGwmamZmZmZkhQBHNzMzMzMwmQCHhehSuR1F5QBobCc3MzMzMzCZAEQAAAAAAACxAIZmZmZmZ+WhAGhsJAAAAAAAALEARmpmZmZmZMEAhaWZmZmbmWUAaGwmamZmZmZkwQBEzMzMzMzMzQCHCzMzMzCw5QBobCTMzMzMzMzNAEc3MzMzMzDVAIWpmZmZmJiRAGhsJzczMzMzMNUARZ2ZmZmZmOEAhamZmZmYmJEAaGwlnZmZmZmY4QBEAAAAAAAA7QCFiZmZmZiYkQEKkAhobCQAAAAAAAPA/EQAAAAAAAPA/IZqZmZmZH6pAGhsJAAAAAAAA8D8RAAAAAAAA8D8hmpmZmZkfqkAaGwkAAAAAAADwPxEAAAAAAADwPyGamZmZmR+qQBobCQAAAAAAAPA/EQAAAAAAAPA/IZqZmZmZH6pAGhsJAAAAAAAA8D8RAAAAAAAA8D8hmpmZmZkfqkAaGwkAAAAAAADwPxEAAAAAAAAAQCEAAAAAADmrQBobCQAAAAAAAABAEQAAAAAAAABAIQAAAAAAOatAGhsJAAAAAAAAAEARAAAAAAAACEAhAAAAAAAurEAaGwkAAAAAAAAIQBEAAAAAAAAUQCEAAAAAAAqrQBobCQAAAAAAABRAEQAAAAAAADtAIQAAAAAADqJAIAFCEQoPdGFrZV9jb3Vyc2VfbnVtGsgHGrQHCrgCCKuCAhgBIAEtAACAPzKkAhobCQAAAAAAAPA/EQAAAAAAAPA/IWZmZmZm1alAGhsJAAAAAAAA8D8RAAAAAAAA8D8hZmZmZmbVqUAaGwkAAAAAAADwPxEAAAAAAADwPyFmZmZmZtWpQBobCQAAAAAAAPA/EQAAAAAAAPA/IWZmZmZm1alAGhsJAAAAAAAA8D8RAAAAAAAA8D8hZmZmZmbVqUAaGwkAAAAAAADwPxEAAAAAAADwPyFmZmZmZtWpQBobCQAAAAAAAPA/EQAAAAAAAPA/IWZmZmZm1alAGhsJAAAAAAAA8D8RAAAAAAAA8D8hZmZmZmbVqUAaGwkAAAAAAADwPxEAAAAAAADwPyFmZmZmZtWpQBobCQAAAAAAAPA/EQAAAAAAAPA/IWZmZmZm1alAIAFAq4ICERCmok18a7VAGTImCngTrq1AKQAAAAAAKIRAMQAAAAAA07BAOQAAAAAAcsdAQqICGhsJAAAAAAAohEARmpmZmZnTm0AhedO+Xoc1t0AaGwmamZmZmdObQBGamZmZmcmmQCGT8RgiOpu2QBobCZqZmZmZyaZAEWdmZmZmqa9AIV1OyjAFiqxAGhsJZ2ZmZmapr0ARmpmZmZlEtEAhpqn0vOGpr0AaGwmamZmZmUS0QBEAAAAAgLS4QCG8tvV4oBeVQBobCQAAAACAtLhAEWdmZmZmJL1AIZMtFV5v5zNAGhsJZ2ZmZmYkvUARZ2ZmZibKwEAh1xu2IB6zsEAaGwlnZmZmJsrAQBGamZmZGQLDQCFCl3P2NNOZQBobCZqZmZkZAsNAEc3MzMwMOsVAITAEt5H9RJ9AGhsJzczMzAw6xUARAAAAAAByx0Ahannst1DtsEBCpAIaGwkAAAAAACiEQBEAAAAAAGCTQCEAAAAAAB6rQBobCQAAAAAAYJNAEQAAAAAANJ5AIQAAAAAADKtAGhsJAAAAAAA0nkARAAAAAAC6oUAhAAAAAAAYrEAaGwkAAAAAALqhQBEAAAAAAGCnQCEAAAAAAHqlQBobCQAAAAAAYKdAEQAAAAAA07BAIQAAAAAAwqpAGhsJAAAAAADTsEARAAAAAAACt0AhAAAAAADUr0AaGwkAAAAAAAK3QBEAAAAAgA/AQCEAAAAAAMSwQBobCQAAAACAD8BAEQAAAAAAU8JAIQAAAAAAzJlAGhsJAAAAAABTwkARAAAAAAByx0AhAAAAAADLqEAaGwkAAAAAAHLHQBEAAAAAAHLHQCEAAAAAAMuoQCABQg8KDXRha2VfdXNlcl9udW0awgcatAcKuAIIq4ICGAEgAS0AAIA/MqQCGhsJAAAAAAAA8D8RAAAAAAAA8D8hZmZmZmbVqUAaGwkAAAAAAADwPxEAAAAAAADwPyFmZmZmZtWpQBobCQAAAAAAAPA/EQAAAAAAAPA/IWZmZmZm1alAGhsJAAAAAAAA8D8RAAAAAAAA8D8hZmZmZmbVqUAaGwkAAAAAAADwPxEAAAAAAADwPyFmZmZmZtWpQBobCQAAAAAAAPA/EQAAAAAAAPA/IWZmZmZm1alAGhsJAAAAAAAA8D8RAAAAAAAA8D8hZmZmZmbVqUAaGwkAAAAAAADwPxEAAAAAAADwPyFmZmZmZtWpQBobCQAAAAAAAPA/EQAAAAAAAPA/IWZmZmZm1alAGhsJAAAAAAAA8D8RAAAAAAAA8D8hZmZmZmbVqUAgAUCrggIRbKWYcY3mKkAZbSOz1ptIPUApAAAAAAAA8D8xAAAAAAAAGEA5AAAAAACElkBCogIaGwkAAAAAAADwPxEAAAAAACBiQCFl27ZtWwPgQBobCQAAAAAAIGJAEQAAAAAAEHJAIUmSJEmS4GtAGhsJAAAAAAAQckARAAAAAAAQe0Ah+aVtkWIhM0AaGwkAAAAAABB7QBEAAAAAAAiCQCFN6uWsxyMRQBobCQAAAAAACIJAEQAAAAAAiIZAIU3q5azHIxFAGhsJAAAAAACIhkARAAAAAAAIi0AhTerlrMcjEUAaGwkAAAAAAAiLQBEAAAAAAIiPQCFN6uWsxyMRQBobCQAAAAAAiI9AEQAAAAAABJJAIU3q5azHIxFAGhsJAAAAAAAEkkARAAAAAABElEAhTerlrMcjEUAaGwkAAAAAAESUQBEAAAAAAISWQCFN6uWsxyMRQEKkAhobCQAAAAAAAPA/EQAAAAAAAPA/IQAAAAAAlrBAGhsJAAAAAAAA8D8RAAAAAAAA8D8hAAAAAACWsEAaGwkAAAAAAADwPxEAAAAAAAAAQCEAAAAAABaoQBobCQAAAAAAAABAEQAAAAAAABBAIQAAAAAA0qBAGhsJAAAAAAAAEEARAAAAAAAAGEAhAAAAAACArUAaGwkAAAAAAAAYQBEAAAAAAAAgQCEAAAAAAJKmQBobCQAAAAAAACBAEQAAAAAAACZAIQAAAAAA3KhAGhsJAAAAAAAAJkARAAAAAAAAMEAhAAAAAAAmqEAaGwkAAAAAAAAwQBEAAAAAAAA+QCEAAAAAAN6oQBobCQAAAAAAAD5AEQAAAAAAhJZAIQAAAAAAJKlAIAFCCQoHbG9nX251bRqxBxqbBwq4AgirggIYASABLQAAgD8ypAIaGwkAAAAAAADwPxEAAAAAAADwPyFmZmZmZtWpQBobCQAAAAAAAPA/EQAAAAAAAPA/IWZmZmZm1alAGhsJAAAAAAAA8D8RAAAAAAAA8D8hZmZmZmbVqUAaGwkAAAAAAADwPxEAAAAAAADwPyFmZmZmZtWpQBobCQAAAAAAAPA/EQAAAAAAAPA/IWZmZmZm1alAGhsJAAAAAAAA8D8RAAAAAAAA8D8hZmZmZmbVqUAaGwkAAAAAAADwPxEAAAAAAADwPyFmZmZmZtWpQBobCQAAAAAAAPA/EQAAAAAAAPA/IWZmZmZm1alAGhsJAAAAAAAA8D8RAAAAAAAA8D8hZmZmZmbVqUAaGwkAAAAAAADwPxEAAAAAAADwPyFmZmZmZtWpQCABQKuCAhF5JEtCJxMKQBm+cCGhci4RQCATMQAAAAAAAABAOQAAAAAAIGBAQpkCGhIRzczMzMzMKUAhc8zMzPxO30AaGwnNzMzMzMwpQBHNzMzMzMw5QCFnZmZmZniJQBobCc3MzMzMzDlAEZqZmZmZWUNAITQzMzMzw2BAGhsJmpmZmZlZQ0ARzczMzMzMSUAhvv4E7E/AOkAaGwnNzMzMzMxJQBEAAAAAACBQQCHD70D8DsQUQBobCQAAAAAAIFBAEZqZmZmZWVNAIcbvQPwOxBRAGhsJmpmZmZlZU0ARMzMzMzOTVkAhwO9A/A7EFEAaGwkzMzMzM5NWQBHNzMzMzMxZQCHG70D8DsQUQBobCc3MzMzMzFlAEWdmZmZmBl1AIcbvQPwOxBRAGhsJZ2ZmZmYGXUARAAAAAAAgYEAhwO9A/A7EFEBCmwIaEhEAAAAAAADwPyGrqqqqqgCuQBobCQAAAAAAAPA/EQAAAAAAAPA/Iauqqqqq2q1AGhsJAAAAAAAA8D8RAAAAAAAA8D8hq6qqqqrarUAaGwkAAAAAAADwPxEAAAAAAAAAQCGrqqqqqgioQBobCQAAAAAAAABAEQAAAAAAAABAIauqqqqqCKhAGhsJAAAAAAAAAEARAAAAAAAAAEAhq6qqqqoIqEAaGwkAAAAAAAAAQBEAAAAAAAAIQCEAAAAAALKuQBobCQAAAAAAAAhAEQAAAAAAABBAIQAAAAAAgKJAGhsJAAAAAAAAEEARAAAAAAAAHEAhAAAAAADqqkAaGwkAAAAAAAAcQBEAAAAAACBgQCEAAAAAAGqkQCABQhEKD3NlcnZlcl9uYWdpdmF0ZRroBhrUBgq4AgirggIYASABLQAAgD8ypAIaGwkAAAAAAADwPxEAAAAAAADwPyFmZmZmZtWpQBobCQAAAAAAAPA/EQAAAAAAAPA/IWZmZmZm1alAGhsJAAAAAAAA8D8RAAAAAAAA8D8hZmZmZmbVqUAaGwkAAAAAAADwPxEAAAAAAADwPyFmZmZmZtWpQBobCQAAAAAAAPA/EQAAAAAAAPA/IWZmZmZm1alAGhsJAAAAAAAA8D8RAAAAAAAA8D8hZmZmZmbVqUAaGwkAAAAAAADwPxEAAAAAAADwPyFmZmZmZtWpQBobCQAAAAAAAPA/EQAAAAAAAPA/IWZmZmZm1alAGhsJAAAAAAAA8D8RAAAAAAAA8D8hZmZmZmbVqUAaGwkAAAAAAADwPxEAAAAAAADwPyFmZmZmZtWpQCABQKuCAhHSowjsuBYLQBmfiEzi/c8bQCC2bTEAAAAAAAAAQDkAAAAAADBxQEKZAhoSEQAAAAAAgDtAIRYAAABA3d9AGhsJAAAAAACAO0ARAAAAAACAS0AhAAAAAACOdUAaGwkAAAAAAIBLQBEAAAAAAKBUQCHYkkNcZTJQQBobCQAAAAAAoFRAEQAAAAAAgFtAIYH5QHZhMRBAGhsJAAAAAACAW0ARAAAAAAAwYUAhgflAdmExEEAaGwkAAAAAADBhQBEAAAAAAKBkQCGB+UB2YTEQQBobCQAAAAAAoGRAEQAAAAAAEGhAIYH5QHZhMRBAGhsJAAAAAAAQaEARAAAAAACAa0AhgflAdmExEEAaGwkAAAAAAIBrQBEAAAAAAPBuQCGB+UB2YTEQQBobCQAAAAAA8G5AEQAAAAAAMHFAIYH5QHZhMRBAQtMBGgkhAAAAAABbq0AaCSEAAAAAAFurQBoJIQAAAAAAW6tAGgkhAAAAAABbq0AaEhEAAAAAAAAAQCEAAAAAAIqpQBobCQAAAAAAAABAEQAAAAAAAABAIQAAAAAAiqlAGhsJAAAAAAAAAEARAAAAAAAACEAhAAAAAAB6qkAaGwkAAAAAAAAIQBEAAAAAAAAUQCEAAAAAAGSuQBobCQAAAAAAABRAEQAAAAAAACBAIQAAAAAACKFAGhsJAAAAAAAAIEARAAAAAAAwcUAhAAAAAADwp0AgAUIPCg1zZXJ2ZXJfYWNjZXNzGoYGGvEFCrgCCKuCAhgBIAEtAACAPzKkAhobCQAAAAAAAPA/EQAAAAAAAPA/IWZmZmZm1alAGhsJAAAAAAAA8D8RAAAAAAAA8D8hZmZmZmbVqUAaGwkAAAAAAADwPxEAAAAAAADwPyFmZmZmZtWpQBobCQAAAAAAAPA/EQAAAAAAAPA/IWZmZmZm1alAGhsJAAAAAAAA8D8RAAAAAAAA8D8hZmZmZmbVqUAaGwkAAAAAAADwPxEAAAAAAADwPyFmZmZmZtWpQBobCQAAAAAAAPA/EQAAAAAAAPA/IWZmZmZm1alAGhsJAAAAAAAA8D8RAAAAAAAA8D8hZmZmZmbVqUAaGwkAAAAAAADwPxEAAAAAAADwPyFmZmZmZtWpQBobCQAAAAAAAPA/EQAAAAAAAPA/IWZmZmZm1alAIAFAq4ICEeA4Z0EAHco/GRKL9OP/0/g/INntATkAAAAAAIBbQEKZAhoSEQAAAAAAACZAIS9VVVU1HeBAGhsJAAAAAAAAJkARAAAAAAAANkAheOSRRx55QkAaGwkAAAAAAAA2QBEAAAAAAIBAQCFkjDHGGGMMQBobCQAAAAAAgEBAEQAAAAAAAEZAIWSMMcYYYwxAGhsJAAAAAAAARkARAAAAAACAS0AhZIwxxhhjDEAaGwkAAAAAAIBLQBEAAAAAAIBQQCFkjDHGGGMMQBobCQAAAAAAgFBAEQAAAAAAQFNAIWSMMcYYYwxAGhsJAAAAAABAU0ARAAAAAAAAVkAhZIwxxhhjDEAaGwkAAAAAAABWQBEAAAAAAMBYQCFkjDHGGGMMQBobCQAAAAAAwFhAEQAAAAAAgFtAIWSMMcYYYwxAQnkaCSFyHMdxHGmqQBoJIXIcx3EcaapAGgkhchzHcRxpqkAaCSFyHMdxHGmqQBoJIXIcx3EcaapAGgkhchzHcRxpqkAaCSFyHMdxHGmqQBoJIXIcx3EcaapAGgkhchzHcRxpqkAaEhEAAAAAAIBbQCEAAAAAAKSkQCABQhAKDnNlcnZlcl9wcm9ibGVtGpkGGoQGCrgCCKuCAhgBIAEtAACAPzKkAhobCQAAAAAAAPA/EQAAAAAAAPA/IWZmZmZm1alAGhsJAAAAAAAA8D8RAAAAAAAA8D8hZmZmZmbVqUAaGwkAAAAAAADwPxEAAAAAAADwPyFmZmZmZtWpQBobCQAAAAAAAPA/EQAAAAAAAPA/IWZmZmZm1alAGhsJAAAAAAAA8D8RAAAAAAAA8D8hZmZmZmbVqUAaGwkAAAAAAADwPxEAAAAAAADwPyFmZmZmZtWpQBobCQAAAAAAAPA/EQAAAAAAAPA/IWZmZmZm1alAGhsJAAAAAAAA8D8RAAAAAAAA8D8hZmZmZmbVqUAaGwkAAAAAAADwPxEAAAAAAADwPyFmZmZmZtWpQBobCQAAAAAAAPA/EQAAAAAAAPA/IWZmZmZm1alAIAFAq4ICERatgba+UvA/GdUXRGzOqRJAILbTATkAAAAAAEBnQEKZAhoSEZqZmZmZmTJAIcaZmZlZBOBAGhsJmpmZmZmZMkARmpmZmZmZQkAhzMzMzMxsZ0AaGwmamZmZmZlCQBFnZmZmZuZLQCHIayivobxGQBobCWdmZmZm5ktAEZqZmZmZmVJAIWoe2ayX5hFAGhsJmpmZmZmZUkARAAAAAABAV0AhaB7ZrJfmEUAaGwkAAAAAAEBXQBFnZmZmZuZbQCFsHtmsl+YRQBobCWdmZmZm5ltAEWdmZmZmRmBAIWwe2ayX5hFAGhsJZ2ZmZmZGYEARmpmZmZmZYkAhaB7ZrJfmEUAaGwmamZmZmZliQBHNzMzMzOxkQCFoHtmsl+YRQBobCc3MzMzM7GRAEQAAAAAAQGdAIWge2ayX5hFAQosBGgkhAAAAAIBtqkAaCSEAAAAAgG2qQBoJIQAAAACAbapAGgkhAAAAAIBtqkAaCSEAAAAAgG2qQBoJIQAAAACAbapAGgkhAAAAAIBtqkAaCSEAAAAAgG2qQBoSEQAAAAAAAAhAIQAAAAAAKKpAGhsJAAAAAAAACEARAAAAAABAZ0AhAAAAAADCpEAgAUIQCg5icm93c2VyX2FjY2VzcxqaBhqEBgq4AgirggIYASABLQAAgD8ypAIaGwkAAAAAAADwPxEAAAAAAADwPyFmZmZmZtWpQBobCQAAAAAAAPA/EQAAAAAAAPA/IWZmZmZm1alAGhsJAAAAAAAA8D8RAAAAAAAA8D8hZmZmZmbVqUAaGwkAAAAAAADwPxEAAAAAAADwPyFmZmZmZtWpQBobCQAAAAAAAPA/EQAAAAAAAPA/IWZmZmZm1alAGhsJAAAAAAAA8D8RAAAAAAAA8D8hZmZmZmbVqUAaGwkAAAAAAADwPxEAAAAAAADwPyFmZmZmZtWpQBobCQAAAAAAAPA/EQAAAAAAAPA/IWZmZmZm1alAGhsJAAAAAAAA8D8RAAAAAAAA8D8hZmZmZmbVqUAaGwkAAAAAAADwPxEAAAAAAADwPyFmZmZmZtWpQCABQKuCAhHCDC1Ppz/2PxkPTNxT8aogQCCQ4QE5AAAAAABAfEBCmQIaEhGamZmZmZlGQCHI////pxLgQBobCZqZmZmZmUZAEZqZmZmZmVZAIUXiVSRetVlAGhsJmpmZmZmZVkARNDMzMzPzYEAh2vTWeWbSMUAaGwk0MzMzM/NgQBGamZmZmZlmQCEsAQrVEqAQQBobCZqZmZmZmWZAEQAAAAAAQGxAISwBCtUSoBBAGhsJAAAAAABAbEARNDMzMzPzcEAhMgEK1RKgEEAaGwk0MzMzM/NwQBFnZmZmZsZzQCEsAQrVEqAQQBobCWdmZmZmxnNAEZqZmZmZmXZAISwBCtUSoBBAGhsJmpmZmZmZdkARzczMzMxseUAhLAEK1RKgEEAaGwnNzMzMzGx5QBEAAAAAAEB8QCEsAQrVEqAQQEKLARoJIQAAAAAAJKxAGgkhAAAAAAAkrEAaCSEAAAAAACSsQBoJIQAAAAAAJKxAGgkhAAAAAAAkrEAaCSEAAAAAACSsQBoJIQAAAAAAJKxAGgkhAAAAAAAkrEAaEhEAAAAAAAAAQCEAAAAAACiOQBobCQAAAAAAAABAEQAAAAAAQHxAIQAAAAAArKlAIAFCEQoPYnJvd3Nlcl9wcm9ibGVtGu4GGtUGCrgCCKuCAhgBIAEtAACAPzKkAhobCQAAAAAAAPA/EQAAAAAAAPA/IWZmZmZm1alAGhsJAAAAAAAA8D8RAAAAAAAA8D8hZmZmZmbVqUAaGwkAAAAAAADwPxEAAAAAAADwPyFmZmZmZtWpQBobCQAAAAAAAPA/EQAAAAAAAPA/IWZmZmZm1alAGhsJAAAAAAAA8D8RAAAAAAAA8D8hZmZmZmbVqUAaGwkAAAAAAADwPxEAAAAAAADwPyFmZmZmZtWpQBobCQAAAAAAAPA/EQAAAAAAAPA/IWZmZmZm1alAGhsJAAAAAAAA8D8RAAAAAAAA8D8hZmZmZmbVqUAaGwkAAAAAAADwPxEAAAAAAADwPyFmZmZmZtWpQBobCQAAAAAAAPA/EQAAAAAAAPA/IWZmZmZm1alAIAFAq4ICEcYbdzUScPw/Gcl7e397ERFAIICBATEAAAAAAADwPzkAAAAAAMBgQEKZAhoSEc3MzMzMzCpAIQWZmZkZrd9AGhsJzczMzMzMKkARzczMzMzMOkAhEhERERGRfUAaGwnNzMzMzMw6QBGamZmZmRlEQCG8u7u7uwtZQBobCZqZmZmZGURAEc3MzMzMzEpAIUA6bzGkszxAGhsJzczMzMzMSkARAAAAAADAUEAh5JRxRU4ZE0AaGwkAAAAAAMBQQBGamZmZmRlUQCHnlHFFThkTQBobCZqZmZmZGVRAETMzMzMzc1dAIeGUcUVOGRNAGhsJMzMzMzNzV0ARzczMzMzMWkAh55RxRU4ZE0AaGwnNzMzMzMxaQBFnZmZmZiZeQCHnlHFFThkTQBobCWdmZmZmJl5AEQAAAAAAwGBAIeGUcUVOGRNAQtMBGgkhAAAAAAAgsEAaCSEAAAAAACCwQBoJIQAAAAAAILBAGgkhAAAAAAAgsEAaEhEAAAAAAADwPyEAAAAAACSjQBobCQAAAAAAAPA/EQAAAAAAAPA/IQAAAAAAJKNAGhsJAAAAAAAA8D8RAAAAAAAA8D8hAAAAAAAko0AaGwkAAAAAAADwPxEAAAAAAAAAQCEAAAAAAHamQBobCQAAAAAAAABAEQAAAAAAABRAIQAAAAAABK1AGhsJAAAAAAAAFEARAAAAAADAYEAhAAAAAABwpEAgAUIUChJicm93c2VyX3BhZ2VfY2xvc2UazgYaugYKuAIIq4ICGAEgAS0AAIA/MqQCGhsJAAAAAAAA8D8RAAAAAAAA8D8hZmZmZmbVqUAaGwkAAAAAAADwPxEAAAAAAADwPyFmZmZmZtWpQBobCQAAAAAAAPA/EQAAAAAAAPA/IWZmZmZm1alAGhsJAAAAAAAA8D8RAAAAAAAA8D8hZmZmZmbVqUAaGwkAAAAAAADwPxEAAAAAAADwPyFmZmZmZtWpQBobCQAAAAAAAPA/EQAAAAAAAPA/IWZmZmZm1alAGhsJAAAAAAAA8D8RAAAAAAAA8D8hZmZmZmbVqUAaGwkAAAAAAADwPxEAAAAAAADwPyFmZmZmZtWpQBobCQAAAAAAAPA/EQAAAAAAAPA/IWZmZmZm1alAGhsJAAAAAAAA8D8RAAAAAAAA8D8hZmZmZmbVqUAgAUCrggIR3U2lyMmQ9j8ZpznnzrClDUAg3ZABOQAAAAAAoGBAQpkCGhIRmpmZmZmZKkAhxv///+/d30AaGwmamZmZmZkqQBGamZmZmZk6QCHe3d3d3WF0QBobCZqZmZmZmTpAETQzMzMz80NAIRIRERERcVBAGhsJNDMzMzPzQ0ARmpmZmZmZSkAh8mLJL5b8LUAaGwmamZmZmZlKQBEAAAAAAKBQQCE/yFDZYeoSQBobCQAAAAAAoFBAETQzMzMz81NAIUTIUNlh6hJAGhsJNDMzMzPzU0ARZ2ZmZmZGV0AhP8hQ2WHqEkAaGwlnZmZmZkZXQBGamZmZmZlaQCE/yFDZYeoSQBobCZqZmZmZmVpAEc3MzMzM7F1AIT/IUNlh6hJAGhsJzczMzMzsXUARAAAAAACgYEAhP8hQ2WHqEkBCwQEaCSEAAAAAAPKsQBoJIQAAAAAA8qxAGgkhAAAAAADyrEAaCSEAAAAAAPKsQBoJIQAAAAAA8qxAGhIRAAAAAAAA8D8hAAAAAABgqkAaGwkAAAAAAADwPxEAAAAAAADwPyEAAAAAAGCqQBobCQAAAAAAAPA/EQAAAAAAAABAIQAAAAAAJqZAGhsJAAAAAAAAAEARAAAAAAAAEEAhAAAAAADcokAaGwkAAAAAAAAQQBEAAAAAAKBgQCEAAAAAANqjQCABQg8KDWJyb3dzZXJfdmlkZW8anAYahAYKuAIIq4ICGAEgAS0AAIA/MqQCGhsJAAAAAAAA8D8RAAAAAAAA8D8hZmZmZmbVqUAaGwkAAAAAAADwPxEAAAAAAADwPyFmZmZmZtWpQBobCQAAAAAAAPA/EQAAAAAAAPA/IWZmZmZm1alAGhsJAAAAAAAA8D8RAAAAAAAA8D8hZmZmZmbVqUAaGwkAAAAAAADwPxEAAAAAAADwPyFmZmZmZtWpQBobCQAAAAAAAPA/EQAAAAAAAPA/IWZmZmZm1alAGhsJAAAAAAAA8D8RAAAAAAAA8D8hZmZmZmbVqUAaGwkAAAAAAADwPxEAAAAAAADwPyFmZmZmZtWpQBobCQAAAAAAAPA/EQAAAAAAAPA/IWZmZmZm1alAGhsJAAAAAAAA8D8RAAAAAAAA8D8hZmZmZmbVqUAgAUCrggIRsHnOdio56D8ZXqQCV7juEEAg0dwBOQAAAAAAEHVAQpkCGhIRmpmZmZnZQEAh3zIzM0sa4EAaGwmamZmZmdlAQBGamZmZmdlQQCEPEREREeFMQBobCZqZmZmZ2VBAEWdmZmZmRllAIUVERERE5A5AGhsJZ2ZmZmZGWUARmpmZmZnZYEAhRURERETkDkAaGwmamZmZmdlgQBEAAAAAABBlQCFBREREROQOQBobCQAAAAAAEGVAEWdmZmZmRmlAIUhERERE5A5AGhsJZ2ZmZmZGaUARzszMzMx8bUAhSERERETkDkAaGwnOzMzMzHxtQBGamZmZmdlwQCFBREREROQOQBobCZqZmZmZ2XBAEc3MzMzM9HJAIUFERERE5A5AGhsJzczMzMz0ckARAAAAAAAQdUAhQURERETkDkBCiwEaCSEAAAAAQJSrQBoJIQAAAABAlKtAGgkhAAAAAECUq0AaCSEAAAAAQJSrQBoJIQAAAABAlKtAGgkhAAAAAECUq0AaCSEAAAAAQJSrQBoJIQAAAABAlKtAGhIRAAAAAAAA8D8hAAAAAAB8nEAaGwkAAAAAAADwPxEAAAAAABB1QCEAAAAAAHanQCABQhMKEXNlcnZlcl9kaXNjdXNzaW9uGpYGGoQGCrgCCKuCAhgBIAEtAACAPzKkAhobCQAAAAAAAPA/EQAAAAAAAPA/IWZmZmZm1alAGhsJAAAAAAAA8D8RAAAAAAAA8D8hZmZmZmbVqUAaGwkAAAAAAADwPxEAAAAAAADwPyFmZmZmZtWpQBobCQAAAAAAAPA/EQAAAAAAAPA/IWZmZmZm1alAGhsJAAAAAAAA8D8RAAAAAAAA8D8hZmZmZmbVqUAaGwkAAAAAAADwPxEAAAAAAADwPyFmZmZmZtWpQBobCQAAAAAAAPA/EQAAAAAAAPA/IWZmZmZm1alAGhsJAAAAAAAA8D8RAAAAAAAA8D8hZmZmZmbVqUAaGwkAAAAAAADwPxEAAAAAAADwPyFmZmZmZtWpQBobCQAAAAAAAPA/EQAAAAAAAPA/IWZmZmZm1alAIAFAq4ICEUmb8kWfac8/GY3Mn0ViPfY/IN/jATkAAAAAAABLQEKZAhoSEZqZmZmZmRVAIdnMzMyMDOBAGhsJmpmZmZmZFUARmpmZmZmZJUAhmpmZmZn5XUAaGwmamZmZmZklQBE0MzMzMzMwQCGy+Iqv+Ao/QBobCTQzMzMzMzBAEZqZmZmZmTVAIQ/INRHINTBAGhsJmpmZmZmZNUARAAAAAAAAO0Ah9vb29vb2FEAaGwkAAAAAAAA7QBE0MzMzMzNAQCH99vb29vYUQBobCTQzMzMzM0BAEWdmZmZm5kJAIfb29vb29hRAGhsJZ2ZmZmbmQkARmpmZmZmZRUAh9vb29vb2FEAaGwmamZmZmZlFQBHNzMzMzExIQCH29vb29vYUQBobCc3MzMzMTEhAEQAAAAAAAEtAIfb29vb29hRAQosBGgkhAAAAAMB3rEAaCSEAAAAAwHesQBoJIQAAAADAd6xAGgkhAAAAAMB3rEAaCSEAAAAAwHesQBoJIQAAAADAd6xAGgkhAAAAAMB3rEAaCSEAAAAAwHesQBoSEQAAAAAAAPA/IQAAAAAA2qRAGhsJAAAAAAAA8D8RAAAAAAAAS0AhAAAAAAB8k0AgAUINCgtzZXJ2ZXJfd2lraRrSAxq+Awq4AgirggIYASABLQAAgD8ypAIaGwkAAAAAAADwPxEAAAAAAADwPyFmZmZmZtWpQBobCQAAAAAAAPA/EQAAAAAAAPA/IWZmZmZm1alAGhsJAAAAAAAA8D8RAAAAAAAA8D8hZmZmZmbVqUAaGwkAAAAAAADwPxEAAAAAAADwPyFmZmZmZtWpQBobCQAAAAAAAPA/EQAAAAAAAPA/IWZmZmZm1alAGhsJAAAAAAAA8D8RAAAAAAAA8D8hZmZmZmbVqUAaGwkAAAAAAADwPxEAAAAAAADwPyFmZmZmZtWpQBobCQAAAAAAAPA/EQAAAAAAAPA/IWZmZmZm1alAGhsJAAAAAAAA8D8RAAAAAAAA8D8hZmZmZmbVqUAaGwkAAAAAAADwPxEAAAAAAADwPyFmZmZmZtWpQCABQKuCAiCrggJCCxoJIaj///9fJeBAQnAaCSFmZmZmZtWpQBoJIWZmZmZm1alAGgkhZmZmZmbVqUAaCSFmZmZmZtWpQBoJIWZmZmZm1alAGgkhZmZmZmbVqUAaCSFmZmZmZtWpQBoJIWZmZmZm1alAGgkhZmZmZmbVqUAaCSFmZmZmZtWpQCABQg8KDWNoYXB0ZXJfY291bnQa0QYaugYKuAIIq4ICGAEgAS0AAIA/MqQCGhsJAAAAAAAA8D8RAAAAAAAA8D8hZmZmZmbVqUAaGwkAAAAAAADwPxEAAAAAAADwPyFmZmZmZtWpQBobCQAAAAAAAPA/EQAAAAAAAPA/IWZmZmZm1alAGhsJAAAAAAAA8D8RAAAAAAAA8D8hZmZmZmbVqUAaGwkAAAAAAADwPxEAAAAAAADwPyFmZmZmZtWpQBobCQAAAAAAAPA/EQAAAAAAAPA/IWZmZmZm1alAGhsJAAAAAAAA8D8RAAAAAAAA8D8hZmZmZmbVqUAaGwkAAAAAAADwPxEAAAAAAADwPyFmZmZmZtWpQBobCQAAAAAAAPA/EQAAAAAAAPA/IWZmZmZm1alAGhsJAAAAAAAA8D8RAAAAAAAA8D8hZmZmZmbVqUAgAUCrggIRmpEbxaQXBkAZmm4xlb+KIUAgiIYBOQAAAAAAoHNAQpkCGhIRZmZmZmZmP0AhjMzMzIzt30AaGwlmZmZmZmY/QBFmZmZmZmZPQCGamZmZmaFvQBobCWZmZmZmZk9AEczMzMzMjFdAIWqlVmqlRlFAGhsJzMzMzMyMV0ARZmZmZmZmX0AhBrpmUX9RNEAaGwlmZmZmZmZfQBEAAAAAAKBjQCE5IH8D8jcUQBobCQAAAAAAoGNAEczMzMzMjGdAITQgfwPyNxRAGhsJzMzMzMyMZ0ARmZmZmZl5a0AhOSB/A/I3FEAaGwmZmZmZmXlrQBFmZmZmZmZvQCE5IH8D8jcUQBobCWZmZmZmZm9AEZmZmZmZqXFAITQgfwPyNxRAGhsJmZmZmZmpcUARAAAAAACgc0AhPiB/A/I3FEBCwQEaCSEAAAAAANCqQBoJIQAAAAAA0KpAGgkhAAAAAADQqkAaCSEAAAAAANCqQBoJIQAAAAAA0KpAGhIRAAAAAAAA8D8hAAAAAADbskAaGwkAAAAAAADwPxEAAAAAAAAAQCEAAAAAAEKnQBobCQAAAAAAAABAEQAAAAAAAAhAIQAAAAAABJ1AGhsJAAAAAAAACEARAAAAAAAAHEAhAAAAAABOqkAaGwkAAAAAAAAcQBEAAAAAAKBzQCEAAAAAAH6mQCABQhIKEHNlcXVlbnRpYWxfY291bnQaugYaqAYKuAIIq4ICGAEgAS0AAIA/MqQCGhsJAAAAAAAA8D8RAAAAAAAA8D8hZmZmZmbVqUAaGwkAAAAAAADwPxEAAAAAAADwPyFmZmZmZtWpQBobCQAAAAAAAPA/EQAAAAAAAPA/IWZmZmZm1alAGhsJAAAAAAAA8D8RAAAAAAAA8D8hZmZmZmbVqUAaGwkAAAAAAADwPxEAAAAAAADwPyFmZmZmZtWpQBobCQAAAAAAAPA/EQAAAAAAAPA/IWZmZmZm1alAGhsJAAAAAAAA8D8RAAAAAAAA8D8hZmZmZmbVqUAaGwkAAAAAAADwPxEAAAAAAADwPyFmZmZmZtWpQBobCQAAAAAAAPA/EQAAAAAAAPA/IWZmZmZm1alAGhsJAAAAAAAA8D8RAAAAAAAA8D8hZmZmZmbVqUAgAUCrggIRf/rUnpSJ7z8ZL899NVShCEAg4qcBOQAAAAAAAGBAQpkCGhIRmpmZmZmZKUAhBwAAAMAC4EAaGwmamZmZmZkpQBGamZmZmZk5QCGjcD0K16NnQBobCZqZmZmZmTlAETQzMzMzM0NAIWIs+cWSX0pAGhsJNDMzMzMzQ0ARmpmZmZmZSUAhVWEc9LGgGkAaGwmamZmZmZlJQBEAAAAAAABQQCEusbwY+fsSQBobCQAAAAAAAFBAETQzMzMzM1NAITSxvBj5+xJAGhsJNDMzMzMzU0ARZ2ZmZmZmVkAhLrG8GPn7EkAaGwlnZmZmZmZWQBGamZmZmZlZQCEusbwY+fsSQBobCZqZmZmZmVlAEc3MzMzMzFxAIS6xvBj5+xJAGhsJzczMzMzMXEARAAAAAAAAYEAhLrG8GPn7EkBCrwEaCSEAAAAAAParQBoJIQAAAAAA9qtAGgkhAAAAAAD2q0AaCSEAAAAAAParQBoJIQAAAAAA9qtAGgkhAAAAAAD2q0AaEhEAAAAAAADwPyEAAAAAAOinQBobCQAAAAAAAPA/EQAAAAAAAPA/IQAAAAAA6KdAGhsJAAAAAAAA8D8RAAAAAAAAAEAhAAAAAABcoUAaGwkAAAAAAAAAQBEAAAAAAABgQCEAAAAAAGapQCABQg0KC3ZpZGVvX2NvdW50GpgGGoQGCrgCCKuCAhgBIAEtAACAPzKkAhobCQAAAAAAAPA/EQAAAAAAAPA/IWZmZmZm1alAGhsJAAAAAAAA8D8RAAAAAAAA8D8hZmZmZmbVqUAaGwkAAAAAAADwPxEAAAAAAADwPyFmZmZmZtWpQBobCQAAAAAAAPA/EQAAAAAAAPA/IWZmZmZm1alAGhsJAAAAAAAA8D8RAAAAAAAA8D8hZmZmZmbVqUAaGwkAAAAAAADwPxEAAAAAAADwPyFmZmZmZtWpQBobCQAAAAAAAPA/EQAAAAAAAPA/IWZmZmZm1alAGhsJAAAAAAAA8D8RAAAAAAAA8D8hZmZmZmbVqUAaGwkAAAAAAADwPxEAAAAAAADwPyFmZmZmZtWpQBobCQAAAAAAAPA/EQAAAAAAAPA/IWZmZmZm1alAIAFAq4ICEeDzWVdHg/k/GZvvfwL8QyNAIJDhATkAAAAAAJCBQEKZAhoSEZqZmZmZGUxAIY0WbME2FeBAGhsJmpmZmZkZTEARmpmZmZkZXEAhLTU4qNhYWEAaGwmamZmZmRlcQBE0MzMzMxNlQCHpH2n+keYPQBobCTQzMzMzE2VAEZqZmZmZGWxAIeUfaf6R5g9AGhsJmpmZmZkZbEARAAAAAACQcUAh5R9p/pHmD0AaGwkAAAAAAJBxQBE0MzMzMxN1QCHuH2n+keYPQBobCTQzMzMzE3VAEWdmZmZmlnhAIeUfaf6R5g9AGhsJZ2ZmZmaWeEARmpmZmZkZfEAh5R9p/pHmD0AaGwmamZmZmRl8QBHNzMzMzJx/QCHlH2n+keYPQBobCc3MzMzMnH9AEQAAAAAAkIFAIeUfaf6R5g9AQosBGgkhAAAAAAAkrEAaCSEAAAAAACSsQBoJIQAAAAAAJKxAGgkhAAAAAAAkrEAaCSEAAAAAACSsQBoJIQAAAAAAJKxAGgkhAAAAAAAkrEAaCSEAAAAAACSsQBoSEQAAAAAAAAhAIQAAAAAAhJFAGhsJAAAAAAAACEARAAAAAACQgUAhAAAAAAB0qEAgAUIPCg1wcm9ibGVtX2NvdW50GpsGGoQGCrgCCKuCAhgBIAEtAACAPzKkAhobCQAAAAAAAPA/EQAAAAAAAPA/IWZmZmZm1alAGhsJAAAAAAAA8D8RAAAAAAAA8D8hZmZmZmbVqUAaGwkAAAAAAADwPxEAAAAAAADwPyFmZmZmZtWpQBobCQAAAAAAAPA/EQAAAAAAAPA/IWZmZmZm1alAGhsJAAAAAAAA8D8RAAAAAAAA8D8hZmZmZmbVqUAaGwkAAAAAAADwPxEAAAAAAADwPyFmZmZmZtWpQBobCQAAAAAAAPA/EQAAAAAAAPA/IWZmZmZm1alAGhsJAAAAAAAA8D8RAAAAAAAA8D8hZmZmZmbVqUAaGwkAAAAAAADwPxEAAAAAAADwPyFmZmZmZtWpQBobCQAAAAAAAPA/EQAAAAAAAPA/IWZmZmZm1alAIAFAq4ICEbB5znYqOeg/GV6kAle47hBAINHcATkAAAAAABB1QEKZAhoSEZqZmZmZ2UBAId8yMzNLGuBAGhsJmpmZmZnZQEARmpmZmZnZUEAhDxERERHhTEAaGwmamZmZmdlQQBFnZmZmZkZZQCFFREREROQOQBobCWdmZmZmRllAEZqZmZmZ2WBAIUVERERE5A5AGhsJmpmZmZnZYEARAAAAAAAQZUAhQURERETkDkAaGwkAAAAAABBlQBFnZmZmZkZpQCFIREREROQOQBobCWdmZmZmRmlAEc7MzMzMfG1AIUhERERE5A5AGhsJzszMzMx8bUARmpmZmZnZcEAhQURERETkDkAaGwmamZmZmdlwQBHNzMzMzPRyQCFBREREROQOQBobCc3MzMzM9HJAEQAAAAAAEHVAIUFERERE5A5AQosBGgkhAAAAAECUq0AaCSEAAAAAQJSrQBoJIQAAAABAlKtAGgkhAAAAAECUq0AaCSEAAAAAQJSrQBoJIQAAAABAlKtAGgkhAAAAAECUq0AaCSEAAAAAQJSrQBoSEQAAAAAAAPA/IQAAAAAAfJxAGhsJAAAAAAAA8D8RAAAAAAAQdUAhAAAAAAB2p0AgAUISChBkaXNjdXNzaW9uX2NvdW50GtYHGrQHCrgCCKuCAhgBIAEtAACAPzKkAhobCQAAAAAAAPA/EQAAAAAAAPA/IWZmZmZm1alAGhsJAAAAAAAA8D8RAAAAAAAA8D8hZmZmZmbVqUAaGwkAAAAAAADwPxEAAAAAAADwPyFmZmZmZtWpQBobCQAAAAAAAPA/EQAAAAAAAPA/IWZmZmZm1alAGhsJAAAAAAAA8D8RAAAAAAAA8D8hZmZmZmbVqUAaGwkAAAAAAADwPxEAAAAAAADwPyFmZmZmZtWpQBobCQAAAAAAAPA/EQAAAAAAAPA/IWZmZmZm1alAGhsJAAAAAAAA8D8RAAAAAAAA8D8hZmZmZmbVqUAaGwkAAAAAAADwPxEAAAAAAADwPyFmZmZmZtWpQBobCQAAAAAAAPA/EQAAAAAAAPA/IWZmZmZm1alAIAFAq4ICEeHw3waYYSxAGdqqrLGmfAxAKQAAAAAAABxAMQAAAAAAACxAOQAAAAAAADpAQqICGhsJAAAAAAAAHEARzczMzMzMIUAhlpmZmZnuokAaGwnNzMzMzMwhQBGamZmZmZklQCHPzMzMTOaQQBobCZqZmZmZmSVAEWZmZmZmZilAIaoL+7hQJrtAGhsJZmZmZmZmKUARMzMzMzMzLUAhh4gyEFsJwUAaGwkzMzMzMzMtQBEAAAAAAIAwQCG3zvHedwe+QBobCQAAAAAAgDBAEWZmZmZmZjJAIWC+CsDoDaBAGhsJZmZmZmZmMkARzMzMzMxMNEAhXzlJIz3FqEAaGwnMzMzMzEw0QBEzMzMzMzM2QCFBtMh2vp8oQBobCTMzMzMzMzZAEZmZmZmZGThAITS0yHa+nyhAGhsJmZmZmZkZOEARAAAAAAAAOkAh/35qvHS7jUBCpAIaGwkAAAAAAAAcQBEAAAAAAAAkQCEAAAAAACyrQBobCQAAAAAAACRAEQAAAAAAAChAIQAAAAAAKqtAGhsJAAAAAAAAKEARAAAAAAAAKEAhAAAAAAAqq0AaGwkAAAAAAAAoQBEAAAAAAAAqQCEAAAAAABKoQBobCQAAAAAAACpAEQAAAAAAACxAIQAAAAAADbZAGhsJAAAAAAAALEARAAAAAAAALkAhAAAAAAAopkAaGwkAAAAAAAAuQBEAAAAAAAAuQCEAAAAAACimQBobCQAAAAAAAC5AEQAAAAAAADBAIQAAAAAAjJ9AGhsJAAAAAAAAMEARAAAAAAAAM0AhAAAAAAD0r0AaGwkAAAAAAAAzQBEAAAAAAAA6QCEAAAAAAKCgQCABQh0KG3Rha2VkX2NvdXJzZV9jaGFwdGVyX2Ftb3VudBrUBxq0Bwq4AgirggIYASABLQAAgD8ypAIaGwkAAAAAAADwPxEAAAAAAADwPyFmZmZmZtWpQBobCQAAAAAAAPA/EQAAAAAAAPA/IWZmZmZm1alAGhsJAAAAAAAA8D8RAAAAAAAA8D8hZmZmZmbVqUAaGwkAAAAAAADwPxEAAAAAAADwPyFmZmZmZtWpQBobCQAAAAAAAPA/EQAAAAAAAPA/IWZmZmZm1alAGhsJAAAAAAAA8D8RAAAAAAAA8D8hZmZmZmbVqUAaGwkAAAAAAADwPxEAAAAAAADwPyFmZmZmZtWpQBobCQAAAAAAAPA/EQAAAAAAAPA/IWZmZmZm1alAGhsJAAAAAAAA8D8RAAAAAAAA8D8hZmZmZmbVqUAaGwkAAAAAAADwPxEAAAAAAADwPyFmZmZmZtWpQCABQKuCAhErLaKEPOVdQBlnSOIIjBpYQCkAAAAAAABCQDEAAAAAAIBVQDkAAAAAAGB/QEKiAhobCQAAAAAAAEJAEWZmZmZmplRAISIrEEbatc5AGhsJZmZmZmamVEARZmZmZmYmYEAhBU46Ss39wUAaGwlmZmZmZiZgQBGamZmZmfllQCGrPWtAGh+rQBobCZqZmZmZ+WVAEc3MzMzMzGtAIdvp6AM1EIdAGhsJzczMzMzMa0ARAAAAAADQcEAhtYeuGx7WoEAaGwkAAAAAANBwQBGamZmZmblzQCEcb1EQJPF7QBobCZqZmZmZuXNAETMzMzMzo3ZAIZvBbQE6UxpAGhsJMzMzMzOjdkARzczMzMyMeUAhpMFtATpTGkAaGwnNzMzMzIx5QBFnZmZmZnZ8QCGkwW0BOlMaQBobCWdmZmZmdnxAEQAAAAAAYH9AITiTa5H1UJRAQqQCGhsJAAAAAAAAQkARAAAAAAAATEAhAAAAAABmtUAaGwkAAAAAAABMQBEAAAAAAIBMQCEAAAAAAAihQBobCQAAAAAAgExAEQAAAAAAgFBAIQAAAAAAOKlAGhsJAAAAAACAUEARAAAAAACAUEAhAAAAAAA4qUAaGwkAAAAAAIBQQBEAAAAAAIBVQCEAAAAAALqjQBobCQAAAAAAgFVAEQAAAAAAAFxAIQAAAAAAIK5AGhsJAAAAAAAAXEARAAAAAACAXUAhAAAAAADcpEAaGwkAAAAAAIBdQBEAAAAAACBhQCEAAAAAABisQBobCQAAAAAAIGFAEQAAAAAAAHBAIQAAAAAAWbBAGhsJAAAAAAAAcEARAAAAAABgf0AhAAAAAACSoEAgAUIbChl0YWtlZF9jb3Vyc2VfdmlkZW9fYW1vdW50Gt8GGroGCrgCCKuCAhgBIAEtAACAPzKkAhobCQAAAAAAAPA/EQAAAAAAAPA/IWZmZmZm1alAGhsJAAAAAAAA8D8RAAAAAAAA8D8hZmZmZmbVqUAaGwkAAAAAAADwPxEAAAAAAADwPyFmZmZmZtWpQBobCQAAAAAAAPA/EQAAAAAAAPA/IWZmZmZm1alAGhsJAAAAAAAA8D8RAAAAAAAA8D8hZmZmZmbVqUAaGwkAAAAAAADwPxEAAAAAAADwPyFmZmZmZtWpQBobCQAAAAAAAPA/EQAAAAAAAPA/IWZmZmZm1alAGhsJAAAAAAAA8D8RAAAAAAAA8D8hZmZmZmbVqUAaGwkAAAAAAADwPxEAAAAAAADwPyFmZmZmZtWpQBobCQAAAAAAAPA/EQAAAAAAAPA/IWZmZmZm1alAIAFAq4ICEZV9aVLBX0NAGXgERXT401lAIKGWATkAAAAAAJB9QEKZAhoSEWZmZmZmpkdAIdh3Cmo2u9pAGhsJZmZmZmamR0ARZmZmZmamV0AhJjHWInTMnEAaGwlmZmZmZqZXQBHMzMzMzLxhQCG+fN7LV9CXQBobCczMzMzMvGFAEWZmZmZmpmdAIfcoXI/CPShAGhsJZmZmZmamZ0ARAAAAAACQbUAh9yhcj8I9KEAaGwkAAAAAAJBtQBHMzMzMzLxxQCFMSehDBnSAQBobCczMzMzMvHFAEZmZmZmZsXRAIQXB/GWUNX5AGhsJmZmZmZmxdEARZmZmZmamd0Ahj/uTORiOIUAaGwlmZmZmZqZ3QBEzMzMzM5t6QCGP+5M5GI4hQBobCTMzMzMzm3pAEQAAAAAAkH1AIZDBDMo17ZNAQsEBGgkhMzMzMzMNrkAaCSEzMzMzMw2uQBoJITMzMzMzDa5AGgkhMzMzMzMNrkAaCSEzMzMzMw2uQBoSEQAAAAAAAPA/IQAAAAAAHKpAGhsJAAAAAAAA8D8RAAAAAAAAFEAhAAAAAACMkUAaGwkAAAAAAAAUQBEAAAAAAIBCQCEAAAAAAIasQBobCQAAAAAAgEJAEQAAAAAAwFxAIQAAAAAAAKNAGhsJAAAAAADAXEARAAAAAACQfUAhAAAAAACsqUAgAUIgCh50YWtlZF9jb3Vyc2VfZGlzY3Vzc2lvbl9hbW91bnQaqgcanAcKuAIIq4ICGAEgAS0AAIA/MqQCGhsJAAAAAAAA8D8RAAAAAAAA8D8hZmZmZmbVqUAaGwkAAAAAAADwPxEAAAAAAADwPyFmZmZmZtWpQBobCQAAAAAAAPA/EQAAAAAAAPA/IWZmZmZm1alAGhsJAAAAAAAA8D8RAAAAAAAA8D8hZmZmZmbVqUAaGwkAAAAAAADwPxEAAAAAAADwPyFmZmZmZtWpQBobCQAAAAAAAPA/EQAAAAAAAPA/IWZmZmZm1alAGhsJAAAAAAAA8D8RAAAAAAAA8D8hZmZmZmbVqUAaGwkAAAAAAADwPxEAAAAAAADwPyFmZmZmZtWpQBobCQAAAAAAAPA/EQAAAAAAAPA/IWZmZmZm1alAGhsJAAAAAAAA8D8RAAAAAAAA8D8hZmZmZmbVqUAgAUCrggIRE80VAF+z7T8ZirSBExuH0D8gyBIxAAAAAAAA8D85AAAAAAAA8D9CmQIaEhGamZmZmZm5PyG/w015m5aiQBobCZqZmZmZmbk/EZqZmZmZmck/IU/TDjflbQpAGhsJmpmZmZmZyT8RNDMzMzMz0z8hUdMON+VtCkAaGwk0MzMzMzPTPxGamZmZmZnZPyFN0w435W0KQBobCZqZmZmZmdk/EQAAAAAAAOA/IU3TDjflbQpAGhsJAAAAAAAA4D8RNDMzMzMz4z8hVdMON+VtCkAaGwk0MzMzMzPjPxFnZmZmZmbmPyFN0w435W0KQBobCWdmZmZmZuY/EZqZmZmZmek/IU3TDjflbQpAGhsJmpmZmZmZ6T8RzczMzMzM7D8hTdMON+VtCkAaGwnNzMzMzMzsPxEAAAAAAADwPyG6g4gXUfHdQEKbAhoSEQAAAAAAAPA/IZqZmZkZRbVAGhsJAAAAAAAA8D8RAAAAAAAA8D8hMzMzMzP6p0AaGwkAAAAAAADwPxEAAAAAAADwPyEzMzMzM/qnQBobCQAAAAAAAPA/EQAAAAAAAPA/ITMzMzMz+qdAGhsJAAAAAAAA8D8RAAAAAAAA8D8hMzMzMzP6p0AaGwkAAAAAAADwPxEAAAAAAADwPyEzMzMzM/qnQBobCQAAAAAAAPA/EQAAAAAAAPA/ITMzMzMz+qdAGhsJAAAAAAAA8D8RAAAAAAAA8D8hMzMzMzP6p0AaGwkAAAAAAADwPxEAAAAAAADwPyEzMzMzM/qnQBobCQAAAAAAAPA/EQAAAAAAAPA/ITMzMzMz+qdAIAFCCQoHU3VjY2VzcwrjqAEKDEFsbCBFeGFtcGxlcxCExAMaogcamwcKuAIIhMQDGAEgAS0AAIA/MqQCGhsJAAAAAAAA8D8RAAAAAAAA8D8hAAAAAACatkAaGwkAAAAAAADwPxEAAAAAAADwPyEAAAAAAJq2QBobCQAAAAAAAPA/EQAAAAAAAPA/IQAAAAAAmrZAGhsJAAAAAAAA8D8RAAAAAAAA8D8hAAAAAACatkAaGwkAAAAAAADwPxEAAAAAAADwPyEAAAAAAJq2QBobCQAAAAAAAPA/EQAAAAAAAPA/IQAAAAAAmrZAGhsJAAAAAAAA8D8RAAAAAAAA8D8hAAAAAACatkAaGwkAAAAAAADwPxEAAAAAAADwPyEAAAAAAJq2QBobCQAAAAAAAPA/EQAAAAAAAPA/IQAAAAAAmrZAGhsJAAAAAAAA8D8RAAAAAAAA8D8hAAAAAACatkAgAUCExAMRAAAAAGBA3EAZ0ez7ka9P0EAgATEAAAAAgD/cQDkAAAAAYEDsQEKZAhoSEWZmZmbmmbZAIWZmZmbmmrZAGhsJZmZmZuaZtkARZmZmZuaZxkAhZmZmZuaZtkAaGwlmZmZm5pnGQBHMzMzMbPPQQCFkZmZm5pm2QBobCczMzMxs89BAEWZmZmbmmdZAIWhmZmbmmbZAGhsJZmZmZuaZ1kARAAAAAGBA3EAhaGZmZuaZtkAaGwkAAAAAYEDcQBHMzMzMbPPgQCFgZmZm5pm2QBobCczMzMxs8+BAEZmZmZmpxuNAIWhmZmbmmbZAGhsJmZmZmanG40ARZmZmZuaZ5kAhaGZmZuaZtkAaGwlmZmZm5pnmQBEzMzMzI23pQCFoZmZm5pm2QBobCTMzMzMjbelAEQAAAABgQOxAIWhmZmbmmbZAQpsCGhIRAAAAAACetkAhAAAAAACftkAaGwkAAAAAAJ62QBEAAAAAAJfGQCEAAAAAAJC2QBobCQAAAAAAl8ZAEQAAAACA89BAIQAAAAAAoLZAGhsJAAAAAIDz0EARAAAAAICb1kAhAAAAAACgtkAaGwkAAAAAgJvWQBEAAAAAgD/cQCEAAAAAAJC2QBobCQAAAACAP9xAEQAAAADA8+BAIQAAAAAAoLZAGhsJAAAAAMDz4EARAAAAAMDF40AhAAAAAACQtkAaGwkAAAAAwMXjQBEAAAAAAJrmQCEAAAAAAKK2QBobCQAAAAAAmuZAEQAAAABAbelAIQAAAAAAmrZAGhsJAAAAAEBt6UARAAAAAGBA7EAhAAAAAACZtkAgAUICCgAaxwcatAcKuAIIhMQDGAEgAS0AAIA/MqQCGhsJAAAAAAAA8D8RAAAAAAAA8D8hAAAAAACatkAaGwkAAAAAAADwPxEAAAAAAADwPyEAAAAAAJq2QBobCQAAAAAAAPA/EQAAAAAAAPA/IQAAAAAAmrZAGhsJAAAAAAAA8D8RAAAAAAAA8D8hAAAAAACatkAaGwkAAAAAAADwPxEAAAAAAADwPyEAAAAAAJq2QBobCQAAAAAAAPA/EQAAAAAAAPA/IQAAAAAAmrZAGhsJAAAAAAAA8D8RAAAAAAAA8D8hAAAAAACatkAaGwkAAAAAAADwPxEAAAAAAADwPyEAAAAAAJq2QBobCQAAAAAAAPA/EQAAAAAAAPA/IQAAAAAAmrZAGhsJAAAAAAAA8D8RAAAAAAAA8D8hAAAAAACatkAgAUCExAMRg6zsQwKQaEAZBMHlOFoXe0ApAAAAAAAA8D8xAAAAAACASEA5AAAAAIDQwkBCogIaGwkAAAAAAADwPxGamZmZmSGOQCGYIE8JsiPrQBobCZqZmZmZIY5AEZqZmZmZHZ5AIQEfadxWnZlAGhsJmpmZmZkdnkARNDMzMzOVpkAhnCBj1om/eUAaGwk0MzMzM5WmQBGamZmZmRuuQCFDgiUtqjhdQBobCZqZmZmZG65AEQAAAAAA0bJAIcrnvXzey0RAGhsJAAAAAADRskARNDMzMzOUtkAhOCXqmDvzNEAaGwk0MzMzM5S2QBFnZmZmZle6QCEnyMLf39knQBobCWdmZmZmV7pAEZqZmZmZGr5AISfIwt/f2SdAGhsJmpmZmZkavkARZ2ZmZubuwEAhLsjC39/ZJ0AaGwlnZmZm5u7AQBEAAAAAgNDCQCEhyMLf39knQEKkAhobCQAAAAAAAPA/EQAAAAAAAAhAIQAAAAAA8LdAGhsJAAAAAAAACEARAAAAAAAAIkAhAAAAAADjuEAaGwkAAAAAAAAiQBEAAAAAAAAwQCEAAAAAAOizQBobCQAAAAAAADBAEQAAAAAAAD1AIQAAAAAA/7ZAGhsJAAAAAAAAPUARAAAAAACASEAhAAAAAABwtUAaGwkAAAAAAIBIQBEAAAAAAMBVQCEAAAAAAJe2QBobCQAAAAAAwFVAEQAAAAAA4GJAIQAAAAAAh7ZAGhsJAAAAAADgYkARAAAAAACAcEAhAAAAAACitkAaGwkAAAAAAIBwQBEAAAAAAPB/QCEAAAAAAIW2QBobCQAAAAAA8H9AEQAAAACA0MJAIQAAAAAAlbZAIAFCDgoMdXNlcl9sb2dfbnVtGskHGrQHCrgCCITEAxgBIAEtAACAPzKkAhobCQAAAAAAAPA/EQAAAAAAAPA/IQAAAAAAmrZAGhsJAAAAAAAA8D8RAAAAAAAA8D8hAAAAAACatkAaGwkAAAAAAADwPxEAAAAAAADwPyEAAAAAAJq2QBobCQAAAAAAAPA/EQAAAAAAAPA/IQAAAAAAmrZAGhsJAAAAAAAA8D8RAAAAAAAA8D8hAAAAAACatkAaGwkAAAAAAADwPxEAAAAAAADwPyEAAAAAAJq2QBobCQAAAAAAAPA/EQAAAAAAAPA/IQAAAAAAmrZAGhsJAAAAAAAA8D8RAAAAAAAA8D8hAAAAAACatkAaGwkAAAAAAADwPxEAAAAAAADwPyEAAAAAAJq2QBobCQAAAAAAAPA/EQAAAAAAAPA/IQAAAAAAmrZAIAFAhMQDERE/lY+LoRdBGdY75IBuOxFBKQAAAAAAuNRAMQAAAAA8cRRBOQAAAADcritBQqICGhsJAAAAAAC41EARMzMzM+PO+kAhRRcSVfqRwkAaGwkzMzMz4876QBEzMzMz4zcIQSE6GlQSbNnBQBobCTMzMzPjNwhBEWZmZmYqhBFBIR9ef5Gt0cFAGhsJZmZmZiqEEUERMzMzM2PsFkEhRy8hSguGuUAaGwkzMzMzY+wWQREAAAAAnFQcQSH+ql1c8dS3QBobCQAAAACcVBxBEWZmZmZq3iBBISx3OEWSZqFAGhsJZmZmZmreIEERzczMzIaSI0EhkgIs4wYnQUAaGwnNzMzMhpIjQREzMzMzo0YmQSErVOn+/5K2QBobCTMzMzOjRiZBEZmZmZm/+ihBIf7ApSNhojZAGhsJmZmZmb/6KEERAAAAANyuK0EhjTyj69BXwkBCpAIaGwkAAAAAALjUQBEAAAAAoBPyQCEAAAAAAMi3QBobCQAAAACgE/JAEQAAAABQMP9AIQAAAAAABLdAGhsJAAAAAFAw/0ARAAAAANAFB0EhAAAAAAA0tkAaGwkAAAAA0AUHQREAAAAAiJ8OQSEAAAAAAKC4QBobCQAAAACInw5BEQAAAAA8cRRBIQAAAAAAUr1AGhsJAAAAADxxFEERAAAAANBbGEEhAAAAAAArs0AaGwkAAAAA0FsYQREAAAAA4KweQSEAAAAAAFi4QBobCQAAAADgrB5BEQAAAAA66yNBIQAAAAAAtbZAGhsJAAAAADrrI0ERAAAAAE7MKkEhAAAAAABZs0AaGwkAAAAATswqQREAAAAA3K4rQSEAAAAAAIGxQCABQhAKDmNvdXJzZV9sb2dfbnVtGsoHGrQHCrgCCITEAxgBIAEtAACAPzKkAhobCQAAAAAAAPA/EQAAAAAAAPA/IQAAAAAAmrZAGhsJAAAAAAAA8D8RAAAAAAAA8D8hAAAAAACatkAaGwkAAAAAAADwPxEAAAAAAADwPyEAAAAAAJq2QBobCQAAAAAAAPA/EQAAAAAAAPA/IQAAAAAAmrZAGhsJAAAAAAAA8D8RAAAAAAAA8D8hAAAAAACatkAaGwkAAAAAAADwPxEAAAAAAADwPyEAAAAAAJq2QBobCQAAAAAAAPA/EQAAAAAAAPA/IQAAAAAAmrZAGhsJAAAAAAAA8D8RAAAAAAAA8D8hAAAAAACatkAaGwkAAAAAAADwPxEAAAAAAADwPyEAAAAAAJq2QBobCQAAAAAAAPA/EQAAAAAAAPA/IQAAAAAAmrZAIAFAhMQDEeHH4vJkuANAGZ0SCbG4HANAKQAAAAAAAPA/MQAAAAAAAABAOQAAAAAAADtAQqICGhsJAAAAAAAA8D8RzczMzMzMDEAhmyQkJDy+5kAaGwnNzMzMzMwMQBHNzMzMzMwYQCG3ch3IshG/QBobCc3MzMzMzBhAEZqZmZmZmSFAIalCKqRCEppAGhsJmpmZmZmZIUARzczMzMzMJkAhGYZhGIaJjEAaGwnNzMzMzMwmQBEAAAAAAAAsQCGpqqqqqlp5QBobCQAAAAAAACxAEZqZmZmZmTBAIWhmZmZmVmhAGhsJmpmZmZmZMEARMzMzMzMzM0AhYmZmZmYGUUAaGwkzMzMzMzMzQBHNzMzMzMw1QCEkIiIiIqJGQBobCc3MzMzMzDVAEWdmZmZmZjhAIXp3d3d3dzBAGhsJZ2ZmZmZmOEARAAAAAAAAO0Ahc3d3d3d3MEBCpAIaGwkAAAAAAADwPxEAAAAAAADwPyEAAAAAQMC6QBobCQAAAAAAAPA/EQAAAAAAAPA/IQAAAABAwLpAGhsJAAAAAAAA8D8RAAAAAAAA8D8hAAAAAEDAukAaGwkAAAAAAADwPxEAAAAAAADwPyEAAAAAQMC6QBobCQAAAAAAAPA/EQAAAAAAAABAIQAAAAAATLhAGhsJAAAAAAAAAEARAAAAAAAAAEAhAAAAAABMuEAaGwkAAAAAAAAAQBEAAAAAAAAIQCEAAAAAADaqQBobCQAAAAAAAAhAEQAAAAAAAAhAIQAAAAAANqpAGhsJAAAAAAAACEARAAAAAAAAFEAhAAAAAAB6uUAaGwkAAAAAAAAUQBEAAAAAAAA7QCEAAAAAALuyQCABQhEKD3Rha2VfY291cnNlX251bRrIBxq0Bwq4AgiExAMYASABLQAAgD8ypAIaGwkAAAAAAADwPxEAAAAAAADwPyEAAAAAAJq2QBobCQAAAAAAAPA/EQAAAAAAAPA/IQAAAAAAmrZAGhsJAAAAAAAA8D8RAAAAAAAA8D8hAAAAAACatkAaGwkAAAAAAADwPxEAAAAAAADwPyEAAAAAAJq2QBobCQAAAAAAAPA/EQAAAAAAAPA/IQAAAAAAmrZAGhsJAAAAAAAA8D8RAAAAAAAA8D8hAAAAAACatkAaGwkAAAAAAADwPxEAAAAAAADwPyEAAAAAAJq2QBobCQAAAAAAAPA/EQAAAAAAAPA/IQAAAAAAmrZAGhsJAAAAAAAA8D8RAAAAAAAA8D8hAAAAAACatkAaGwkAAAAAAADwPxEAAAAAAADwPyEAAAAAAJq2QCABQITEAxHFlCqaOQq2QBmKE9d5BN2sQCkAAAAAACiEQDEAAAAAAEyyQDkAAAAAAHLHQEKiAhobCQAAAAAAKIRAEZqZmZmZ05tAIZtZiZepRcFAGhsJmpmZmZnTm0ARmpmZmZnJpkAhsxmJ8OFKxEAaGwmamZmZmcmmQBFnZmZmZqmvQCEqKIQeVf+3QBobCWdmZmZmqa9AEZqZmZmZRLRAIaf+3ou8O7pAGhsJmpmZmZlEtEARAAAAAIC0uEAhx/WDERjUpUAaGwkAAAAAgLS4QBFnZmZmZiS9QCHcRXm6HENBQBobCWdmZmZmJL1AEWdmZmYmysBAIYdMIXADH75AGhsJZ2ZmZibKwEARmpmZmRkCw0AhpkX9bbaDsUAaGwmamZmZGQLDQBHNzMzMDDrFQCH5oZ3bOlazQBobCc3MzMwMOsVAEQAAAAAAcsdAIQbRhElQorZAQqQCGhsJAAAAAAAohEARAAAAAADolUAhAAAAAACBt0AaGwkAAAAAAOiVQBEAAAAAAGCfQCEAAAAAAHq5QBobCQAAAAAAYJ9AEQAAAAAAsKJAIQAAAAAAybRAGhsJAAAAAACwokARAAAAAAB6p0AhAAAAAADltUAaGwkAAAAAAHqnQBEAAAAAAEyyQCEAAAAAAFS4QBobCQAAAAAATLJAEQAAAAAAArdAIQAAAAAAPLRAGhsJAAAAAAACt0ARAAAAAIAPwEAhAAAAAAA8vkAaGwkAAAAAgA/AQBEAAAAAAFPCQCEAAAAAAIGxQBobCQAAAAAAU8JAEQAAAAAAcsdAIQAAAAAAB7VAGhsJAAAAAAByx0ARAAAAAAByx0AhAAAAAAAHtUAgAUIPCg10YWtlX3VzZXJfbnVtGsIHGrQHCrgCCITEAxgBIAEtAACAPzKkAhobCQAAAAAAAPA/EQAAAAAAAPA/IQAAAAAAmrZAGhsJAAAAAAAA8D8RAAAAAAAA8D8hAAAAAACatkAaGwkAAAAAAADwPxEAAAAAAADwPyEAAAAAAJq2QBobCQAAAAAAAPA/EQAAAAAAAPA/IQAAAAAAmrZAGhsJAAAAAAAA8D8RAAAAAAAA8D8hAAAAAACatkAaGwkAAAAAAADwPxEAAAAAAADwPyEAAAAAAJq2QBobCQAAAAAAAPA/EQAAAAAAAPA/IQAAAAAAmrZAGhsJAAAAAAAA8D8RAAAAAAAA8D8hAAAAAACatkAaGwkAAAAAAADwPxEAAAAAAADwPyEAAAAAAJq2QBobCQAAAAAAAPA/EQAAAAAAAPA/IQAAAAAAmrZAIAFAhMQDERhJ3vDW71BAGTKKKArTgWFAKQAAAAAAAPA/MQAAAAAAADFAOQAAAAAApLBAQqICGhsJAAAAAAAA8D8RZmZmZmauekAhjpmZmYmM60AaGwlmZmZmZq56QBFmZmZmZqaKQCH58nkvn+WRQBobCWZmZmZmpopAEczMzMzM+pNAIbIrisDTQWpAGhsJzMzMzMz6k0ARZmZmZmaimkAhT6XB9Vu3QEAaGwlmZmZmZqKaQBEAAAAAAKWgQCG6maAhW+8gQBobCQAAAAAApaBAEczMzMzM+KNAIbWZoCFb7yBAGhsJzMzMzMz4o0ARmZmZmZlMp0AhupmgIVvvIEAaGwmZmZmZmUynQBFmZmZmZqCqQCG6maAhW+8gQBobCWZmZmZmoKpAETMzMzMz9K1AIbqZoCFb7yBAGhsJMzMzMzP0rUARAAAAAACksEAhupmgIVvvIEBCpAIaGwkAAAAAAADwPxEAAAAAAADwPyEAAAAAAJbAQBobCQAAAAAAAPA/EQAAAAAAAABAIQAAAAAAHqhAGhsJAAAAAAAAAEARAAAAAAAAGEAhAAAAAAA8t0AaGwkAAAAAAAAYQBEAAAAAAAAmQCEAAAAAAOy5QBobCQAAAAAAACZAEQAAAAAAADFAIQAAAAAATLRAGhsJAAAAAAAAMUARAAAAAAAAPEAhAAAAAAC1tUAaGwkAAAAAAAA8QBEAAAAAAIBIQCEAAAAAAP+1QBobCQAAAAAAgEhAEQAAAAAAgFdAIQAAAAAAtrZAGhsJAAAAAACAV0ARAAAAAAAAaEAhAAAAAABUtkAaGwkAAAAAAABoQBEAAAAAAKSwQCEAAAAAAJe2QCABQgkKB2xvZ19udW0asQcamwcKuAIIhMQDGAEgAS0AAIA/MqQCGhsJAAAAAAAA8D8RAAAAAAAA8D8hAAAAAACatkAaGwkAAAAAAADwPxEAAAAAAADwPyEAAAAAAJq2QBobCQAAAAAAAPA/EQAAAAAAAPA/IQAAAAAAmrZAGhsJAAAAAAAA8D8RAAAAAAAA8D8hAAAAAACatkAaGwkAAAAAAADwPxEAAAAAAADwPyEAAAAAAJq2QBobCQAAAAAAAPA/EQAAAAAAAPA/IQAAAAAAmrZAGhsJAAAAAAAA8D8RAAAAAAAA8D8hAAAAAACatkAaGwkAAAAAAADwPxEAAAAAAADwPyEAAAAAAJq2QBobCQAAAAAAAPA/EQAAAAAAAPA/IQAAAAAAmrZAGhsJAAAAAAAA8D8RAAAAAAAA8D8hAAAAAACatkAgAUCExAMR2ybtqDe3IEAZq0UeW2C1KUAgFTEAAAAAAAAQQDkAAAAAAGCCQEKZAhoSEWZmZmZmZk1AIQMAAADg9etAGhsJZmZmZmZmTUARZmZmZmZmXUAhmpmZmZnJgEAaGwlmZmZmZmZdQBHMzMzMzAxmQCHgi+fftU4lQBobCczMzMzMDGZAEWZmZmZmZm1AIYIoxaJlFRxAGhsJZmZmZmZmbUARAAAAAABgckAhgijFomUVHEAaGwkAAAAAAGByQBHMzMzMzAx2QCF6KMWiZRUcQBobCczMzMzMDHZAEZmZmZmZuXlAIYIoxaJlFRxAGhsJmZmZmZm5eUARZmZmZmZmfUAhgijFomUVHEAaGwlmZmZmZmZ9QBGZmZmZmYmAQCF6KMWiZRUcQBobCZmZmZmZiYBAEQAAAAAAYIJAIYooxaJlFRxAQpsCGhIRAAAAAAAA8D8hAAAAAADNtkAaGwkAAAAAAADwPxEAAAAAAADwPyEAAAAAALi2QBobCQAAAAAAAPA/EQAAAAAAAABAIQAAAACAFcRAGhsJAAAAAAAAAEARAAAAAAAACEAhAAAAAAD5tUAaGwkAAAAAAAAIQBEAAAAAAAAQQCEAAAAAAMmwQBobCQAAAAAAABBAEQAAAAAAABRAIQAAAAAAfKlAGhsJAAAAAAAAFEARAAAAAAAAIEAhAAAAAADxuUAaGwkAAAAAAAAgQBEAAAAAAAAoQCEAAAAAANazQBobCQAAAAAAAChAEQAAAAAAADVAIQAAAAAAm7VAGhsJAAAAAAAANUARAAAAAABggkAhAAAAAABytUAgAUIRCg9zZXJ2ZXJfbmFnaXZhdGUajAca+AYKuAIIhMQDGAEgAS0AAIA/MqQCGhsJAAAAAAAA8D8RAAAAAAAA8D8hAAAAAACatkAaGwkAAAAAAADwPxEAAAAAAADwPyEAAAAAAJq2QBobCQAAAAAAAPA/EQAAAAAAAPA/IQAAAAAAmrZAGhsJAAAAAAAA8D8RAAAAAAAA8D8hAAAAAACatkAaGwkAAAAAAADwPxEAAAAAAADwPyEAAAAAAJq2QBobCQAAAAAAAPA/EQAAAAAAAPA/IQAAAAAAmrZAGhsJAAAAAAAA8D8RAAAAAAAA8D8hAAAAAACatkAaGwkAAAAAAADwPxEAAAAAAADwPyEAAAAAAJq2QBobCQAAAAAAAPA/EQAAAAAAAPA/IQAAAAAAmrZAGhsJAAAAAAAA8D8RAAAAAAAA8D8hAAAAAACatkAgAUCExAMRrwtspwy1M0AZgYtgqGoARUAgtm0xAAAAAAAAFEA5AAAAAAByrEBCmQIaEhGamZmZmcF2QCHAnuNiejnsQBobCZqZmZmZwXZAEZqZmZmZwYZAIbZ5IPOD9xhAGhsJmpmZmZnBhkARNDMzMzMRkUAhuHkg84P3GEAaGwk0MzMzMxGRQBGamZmZmcGWQCG0eSDzg/cYQBobCZqZmZmZwZZAEQAAAAAAcpxAIbR5IPOD9xhAGhsJAAAAAABynEARNDMzMzMRoUAhvXkg84P3GEAaGwk0MzMzMxGhQBFnZmZmZumjQCG0eSDzg/cYQBobCWdmZmZm6aNAEZqZmZmZwaZAIbR5IPOD9xhAGhsJmpmZmZnBpkARzczMzMyZqUAhtHkg84P3GEAaGwnNzMzMzJmpQBEAAAAAAHKsQCG0eSDzg/cYQEL3ARoJIQAAAAAAW7tAGgkhAAAAAABbu0AaEhEAAAAAAAAAQCEAAAAAAJO5QBobCQAAAAAAAABAEQAAAAAAAAhAIQAAAAAAyqpAGhsJAAAAAAAACEARAAAAAAAAFEAhAAAAAACitEAaGwkAAAAAAAAUQBEAAAAAAAAiQCEAAAAAADi4QBobCQAAAAAAACJAEQAAAAAAAC5AIQAAAAAAF7RAGhsJAAAAAAAALkARAAAAAAAAPEAhAAAAAABctkAaGwkAAAAAAAA8QBEAAAAAAABNQCEAAAAAAJO2QBobCQAAAAAAAE1AEQAAAAAAcqxAIQAAAAAAdrZAIAFCDwoNc2VydmVyX2FjY2VzcxqrBhqWBgq4AgiExAMYASABLQAAgD8ypAIaGwkAAAAAAADwPxEAAAAAAADwPyEAAAAAAJq2QBobCQAAAAAAAPA/EQAAAAAAAPA/IQAAAAAAmrZAGhsJAAAAAAAA8D8RAAAAAAAA8D8hAAAAAACatkAaGwkAAAAAAADwPxEAAAAAAADwPyEAAAAAAJq2QBobCQAAAAAAAPA/EQAAAAAAAPA/IQAAAAAAmrZAGhsJAAAAAAAA8D8RAAAAAAAA8D8hAAAAAACatkAaGwkAAAAAAADwPxEAAAAAAADwPyEAAAAAAJq2QBobCQAAAAAAAPA/EQAAAAAAAPA/IQAAAAAAmrZAGhsJAAAAAAAA8D8RAAAAAAAA8D8hAAAAAACatkAaGwkAAAAAAADwPxEAAAAAAADwPyEAAAAAAJq2QCABQITEAxHJcqrhsT32PxmT+1D7XbkUQCClzAI5AAAAAAAAaEBCmQIaEhEzMzMzMzMzQCFPmZmZyezrQBobCTMzMzMzMzNAETMzMzMzM0NAITQzMzMzp3tAGhsJMzMzMzMzQ0ARzMzMzMzMTEAhZ2ZmZmZaYUAaGwnMzMzMzMxMQBEzMzMzMzNTQCEDkX77OkBEQBobCTMzMzMzM1NAEQAAAAAAAFhAId9xio7k8h9AGhsJAAAAAAAAWEARzMzMzMzMXEAh2XGKjuTyH0AaGwnMzMzMzMxcQBHNzMzMzMxgQCHmcYqO5PIfQBobCc3MzMzMzGBAETMzMzMzM2NAIdlxio7k8h9AGhsJMzMzMzMzY0ARmZmZmZmZZUAh2XGKjuTyH0AaGwmZmZmZmZllQBEAAAAAAABoQCHmcYqO5PIfQEKdARoJIZIkSZIkvLdAGgkhkiRJkiS8t0AaCSGSJEmSJLy3QBoJIZIkSZIkvLdAGgkhkiRJkiS8t0AaCSGSJEmSJLy3QBoJIZIkSZIkvLdAGhIRAAAAAAAA8D8hAAAAAAAbskAaGwkAAAAAAADwPxEAAAAAAAAQQCEAAAAAAHq3QBobCQAAAAAAABBAEQAAAAAAAGhAIQAAAAAASrJAIAFCEAoOc2VydmVyX3Byb2JsZW0avQYaqAYKuAIIhMQDGAEgAS0AAIA/MqQCGhsJAAAAAAAA8D8RAAAAAAAA8D8hAAAAAACatkAaGwkAAAAAAADwPxEAAAAAAADwPyEAAAAAAJq2QBobCQAAAAAAAPA/EQAAAAAAAPA/IQAAAAAAmrZAGhsJAAAAAAAA8D8RAAAAAAAA8D8hAAAAAACatkAaGwkAAAAAAADwPxEAAAAAAADwPyEAAAAAAJq2QBobCQAAAAAAAPA/EQAAAAAAAPA/IQAAAAAAmrZAGhsJAAAAAAAA8D8RAAAAAAAA8D8hAAAAAACatkAaGwkAAAAAAADwPxEAAAAAAADwPyEAAAAAAJq2QBobCQAAAAAAAPA/EQAAAAAAAPA/IQAAAAAAmrZAGhsJAAAAAAAA8D8RAAAAAAAA8D8hAAAAAACatkAgAUCExAMRE5m3euq/GEAZcrkdCoETNkAgtJoCOQAAAAAA4IJAQpkCGhIRMzMzMzMzTkAhPDMzMxOg60AaGwkzMzMzMzNOQBEzMzMzMzNeQCG3YAu2YDuJQBobCTMzMzMzM15AEWZmZmZmpmZAIRzHcRzHIXBAGhsJZmZmZmamZkARMzMzMzMzbkAhS/yMEj9DYEAaGwkzMzMzMzNuQBEAAAAAAOByQCHPAIldCWtCQBobCQAAAAAA4HJAEWZmZmZmpnZAISuXwQUhXyRAGhsJZmZmZmamdkARzczMzMxsekAhMJfBBSFfJEAaGwnNzMzMzGx6QBEzMzMzMzN+QCErl8EFIV8kQBobCTMzMzMzM35AEc3MzMzM/IBAITCXwQUhXyRAGhsJzczMzMz8gEARAAAAAADggkAhK5fBBSFfJEBCrwEaCSGrqqqqqoi3QBoJIauqqqqqiLdAGgkhq6qqqqqIt0AaCSGrqqqqqoi3QBoJIauqqqqqiLdAGgkhq6qqqqqIt0AaEhEAAAAAAAAAQCEAAAAAAKe5QBobCQAAAAAAAABAEQAAAAAAABRAIQAAAAAAwrBAGhsJAAAAAAAAFEARAAAAAAAALEAhAAAAAADzs0AaGwkAAAAAAAAsQBEAAAAAAOCCQCEAAAAAAHS2QCABQhAKDmJyb3dzZXJfYWNjZXNzGr4GGqgGCrgCCITEAxgBIAEtAACAPzKkAhobCQAAAAAAAPA/EQAAAAAAAPA/IQAAAAAAmrZAGhsJAAAAAAAA8D8RAAAAAAAA8D8hAAAAAACatkAaGwkAAAAAAADwPxEAAAAAAADwPyEAAAAAAJq2QBobCQAAAAAAAPA/EQAAAAAAAPA/IQAAAAAAmrZAGhsJAAAAAAAA8D8RAAAAAAAA8D8hAAAAAACatkAaGwkAAAAAAADwPxEAAAAAAADwPyEAAAAAAJq2QBobCQAAAAAAAPA/EQAAAAAAAPA/IQAAAAAAmrZAGhsJAAAAAAAA8D8RAAAAAAAA8D8hAAAAAACatkAaGwkAAAAAAADwPxEAAAAAAADwPyEAAAAAAJq2QBobCQAAAAAAAPA/EQAAAAAAAPA/IQAAAAAAmrZAIAFAhMQDEepK9+trLiJAGfUmqJXpNj5AIKapAjkAAAAAAMCJQEKZAhoSEZqZmZmZmVRAIUIRERExpOtAGhsJmpmZmZmZVEARmpmZmZmZZEAhmZmZmZnph0AaGwmamZmZmZlkQBFnZmZmZuZuQCElv1jyi4VxQBobCWdmZmZm5m5AEZqZmZmZmXRAIVfCHOR/02BAGhsJmpmZmZmZdEARAAAAAADAeUAhKrK/vuKKNkAaGwkAAAAAAMB5QBFnZmZmZuZ+QCE0BaF/dBsjQBobCWdmZmZm5n5AEWdmZmZmBoJAITQFoX90GyNAGhsJZ2ZmZmYGgkARmpmZmZmZhEAhMAWhf3QbI0AaGwmamZmZmZmEQBHNzMzMzCyHQCEwBaF/dBsjQBobCc3MzMzMLIdAEQAAAAAAwIlAITAFoX90GyNAQq8BGgkhVVVVVVXGuEAaCSFVVVVVVca4QBoJIVVVVVVVxrhAGgkhVVVVVVXGuEAaCSFVVVVVVca4QBoJIVVVVVVVxrhAGhIRAAAAAAAACEAhAAAAAACwrEAaGwkAAAAAAAAIQBEAAAAAAAAiQCEAAAAAALCzQBobCQAAAAAAACJAEQAAAAAAADhAIQAAAAAAAbVAGhsJAAAAAAAAOEARAAAAAADAiUAhAAAAAABVtkAgAUIRCg9icm93c2VyX3Byb2JsZW0agAca5wYKuAIIhMQDGAEgAS0AAIA/MqQCGhsJAAAAAAAA8D8RAAAAAAAA8D8hAAAAAACatkAaGwkAAAAAAADwPxEAAAAAAADwPyEAAAAAAJq2QBobCQAAAAAAAPA/EQAAAAAAAPA/IQAAAAAAmrZAGhsJAAAAAAAA8D8RAAAAAAAA8D8hAAAAAACatkAaGwkAAAAAAADwPxEAAAAAAADwPyEAAAAAAJq2QBobCQAAAAAAAPA/EQAAAAAAAPA/IQAAAAAAmrZAGhsJAAAAAAAA8D8RAAAAAAAA8D8hAAAAAACatkAaGwkAAAAAAADwPxEAAAAAAADwPyEAAAAAAJq2QBobCQAAAAAAAPA/EQAAAAAAAPA/IQAAAAAAmrZAGhsJAAAAAAAA8D8RAAAAAAAA8D8hAAAAAACatkAgAUCExAMRSBzCKIF+JEAZW1UspvutNEAgrogBMQAAAAAAAABAOQAAAAAA0HlAQpkCGhIRZmZmZmamREAhI2ZmZiZN6kAaGwlmZmZmZqZEQBFmZmZmZqZUQCFmZmZmZg6nQBobCWZmZmZmplRAEZmZmZmZ+V5AIXZQB3VQn4hAGhsJmZmZmZn5XkARZmZmZmamZEAhdp9dQGyKZkAaGwlmZmZmZqZkQBEAAAAAANBpQCHWdGtnDoU6QBobCQAAAAAA0GlAEZmZmZmZ+W5AIdA9idI9iSNAGhsJmZmZmZn5bkARmZmZmZkRckAh0D2J0j2JI0AaGwmZmZmZmRFyQBFmZmZmZqZ0QCHUPYnSPYkjQBobCWZmZmZmpnRAETMzMzMzO3dAIdQ9idI9iSNAGhsJMzMzMzM7d0ARAAAAAADQeUAh1D2J0j2JI0BC5QEaCSEAAAAAALq2QBoJIQAAAAAAurZAGgkhAAAAAAC6tkAaEhEAAAAAAADwPyEAAAAAgO3AQBobCQAAAAAAAPA/EQAAAAAAAABAIQAAAAAAWLFAGhsJAAAAAAAAAEARAAAAAAAAEEAhAAAAAAAVt0AaGwkAAAAAAAAQQBEAAAAAAAAcQCEAAAAAANGyQBobCQAAAAAAABxAEQAAAAAAACxAIQAAAAAAI7VAGhsJAAAAAAAALEARAAAAAAAAP0AhAAAAAABGtUAaGwkAAAAAAAA/QBEAAAAAANB5QCEAAAAAAFS2QCABQhQKEmJyb3dzZXJfcGFnZV9jbG9zZRr7BhrnBgq4AgiExAMYASABLQAAgD8ypAIaGwkAAAAAAADwPxEAAAAAAADwPyEAAAAAAJq2QBobCQAAAAAAAPA/EQAAAAAAAPA/IQAAAAAAmrZAGhsJAAAAAAAA8D8RAAAAAAAA8D8hAAAAAACatkAaGwkAAAAAAADwPxEAAAAAAADwPyEAAAAAAJq2QBobCQAAAAAAAPA/EQAAAAAAAPA/IQAAAAAAmrZAGhsJAAAAAAAA8D8RAAAAAAAA8D8hAAAAAACatkAaGwkAAAAAAADwPxEAAAAAAADwPyEAAAAAAJq2QBobCQAAAAAAAPA/EQAAAAAAAPA/IQAAAAAAmrZAGhsJAAAAAAAA8D8RAAAAAAAA8D8hAAAAAACatkAaGwkAAAAAAADwPxEAAAAAAADwPyEAAAAAAJq2QCABQITEAxFQsV1S0pQaQBnEZDNfCfQtQCDipQExAAAAAAAA8D85AAAAAADAgEBCmQIaEhHNzMzMzMxKQCFZZmZmxrPrQBobCc3MzMzMzEpAEc3MzMzMzFpAIQAAAAAAHI5AGhsJzczMzMzMWkARmpmZmZkZZEAhjd3m2G3uWkAaGwmamZmZmRlkQBHNzMzMzMxqQCEvn/fyeS8fQBobCc3MzMzMzGpAEQAAAAAAwHBAIS+f9/J5Lx9AGhsJAAAAAADAcEARmpmZmZkZdEAhM5/38nkvH0AaGwmamZmZmRl0QBEzMzMzM3N3QCEqn/fyeS8fQBobCTMzMzMzc3dAEc3MzMzMzHpAITOf9/J5Lx9AGhsJzczMzMzMekARZ2ZmZmYmfkAhM5/38nkvH0AaGwlnZmZmZiZ+QBEAAAAAAMCAQCEqn/fyeS8fQELlARoJIauqqqqqoLtAGgkhq6qqqqqgu0AaCSGrqqqqqqC7QBoSEQAAAAAAAPA/IQAAAACAWbJAGhsJAAAAAAAA8D8RAAAAAAAA8D8hAAAAAIBZskAaGwkAAAAAAADwPxEAAAAAAAAAQCEAAAAAAL6zQBobCQAAAAAAAABAEQAAAAAAABBAIQAAAAAAFrVAGhsJAAAAAAAAEEARAAAAAAAAIkAhAAAAAADHt0AaGwkAAAAAAAAiQBEAAAAAAAAzQCEAAAAAALGzQBobCQAAAAAAADNAEQAAAAAAwIBAIQAAAAAAI7ZAIAFCDwoNYnJvd3Nlcl92aWRlbxrABhqoBgq4AgiExAMYASABLQAAgD8ypAIaGwkAAAAAAADwPxEAAAAAAADwPyEAAAAAAJq2QBobCQAAAAAAAPA/EQAAAAAAAPA/IQAAAAAAmrZAGhsJAAAAAAAA8D8RAAAAAAAA8D8hAAAAAACatkAaGwkAAAAAAADwPxEAAAAAAADwPyEAAAAAAJq2QBobCQAAAAAAAPA/EQAAAAAAAPA/IQAAAAAAmrZAGhsJAAAAAAAA8D8RAAAAAAAA8D8hAAAAAACatkAaGwkAAAAAAADwPxEAAAAAAADwPyEAAAAAAJq2QBobCQAAAAAAAPA/EQAAAAAAAPA/IQAAAAAAmrZAGhsJAAAAAAAA8D8RAAAAAAAA8D8hAAAAAACatkAaGwkAAAAAAADwPxEAAAAAAADwPyEAAAAAAJq2QCABQITEAxE4z8PIsHsVQBkH4d6JOI8/QCDFqwI5AAAAAAB0rUBCmQIaEhEAAAAAAJB3QCGTSFoYfTnsQBobCQAAAAAAkHdAEQAAAAAAkIdAIS49N03i7RhAGhsJAAAAAACQh0ARAAAAAACskUAhLj03TeLtGEAaGwkAAAAAAKyRQBEAAAAAAJCXQCEuPTdN4u0YQBobCQAAAAAAkJdAEQAAAAAAdJ1AIS49N03i7RhAGhsJAAAAAAB0nUARAAAAAACsoUAhLj03TeLtGEAaGwkAAAAAAKyhQBEAAAAAAJ6kQCEuPTdN4u0YQBobCQAAAAAAnqRAEQAAAAAAkKdAIS49N03i7RhAGhsJAAAAAACQp0ARAAAAAACCqkAhLj03TeLtGEAaGwkAAAAAAIKqQBEAAAAAAHStQCEuPTdN4u0YQEKvARoJIauqqqoq9rhAGgkhq6qqqir2uEAaCSGrqqqqKva4QBoJIauqqqoq9rhAGgkhq6qqqir2uEAaCSGrqqqqKva4QBoSEQAAAAAAAPA/IQAAAAAAKrFAGhsJAAAAAAAA8D8RAAAAAAAACEAhAAAAAABWsEAaGwkAAAAAAAAIQBEAAAAAAAAmQCEAAAAAAG+1QBobCQAAAAAAACZAEQAAAAAAdK1AIQAAAAAAULVAIAFCEwoRc2VydmVyX2Rpc2N1c3Npb24aqAYalgYKuAIIhMQDGAEgAS0AAIA/MqQCGhsJAAAAAAAA8D8RAAAAAAAA8D8hAAAAAACatkAaGwkAAAAAAADwPxEAAAAAAADwPyEAAAAAAJq2QBobCQAAAAAAAPA/EQAAAAAAAPA/IQAAAAAAmrZAGhsJAAAAAAAA8D8RAAAAAAAA8D8hAAAAAACatkAaGwkAAAAAAADwPxEAAAAAAADwPyEAAAAAAJq2QBobCQAAAAAAAPA/EQAAAAAAAPA/IQAAAAAAmrZAGhsJAAAAAAAA8D8RAAAAAAAA8D8hAAAAAACatkAaGwkAAAAAAADwPxEAAAAAAADwPyEAAAAAAJq2QBobCQAAAAAAAPA/EQAAAAAAAPA/IQAAAAAAmrZAGhsJAAAAAAAA8D8RAAAAAAAA8D8hAAAAAACatkAgAUCExAMR5IIcNccI6D8ZW1N46CLfDUAg9M4COQAAAAAAIHVAQpkCGhIRZmZmZmbmQEAhTVVVVfUy7EAaGwlmZmZmZuZAQBFmZmZmZuZQQCHFI84Hbt1LQBobCWZmZmZm5lBAEZmZmZmZWVlAIeaG3KI8TRpAGhsJmZmZmZlZWUARZmZmZmbmYEAh5obcojxNGkAaGwlmZmZmZuZgQBEAAAAAACBlQCHqhtyiPE0aQBobCQAAAAAAIGVAEZmZmZmZWWlAIeOG3KI8TRpAGhsJmZmZmZlZaUARMjMzMzOTbUAh44bcojxNGkAaGwkyMzMzM5NtQBFmZmZmZuZwQCHqhtyiPE0aQBobCWZmZmZm5nBAETMzMzMzA3NAIeqG3KI8TRpAGhsJMzMzMzMDc0ARAAAAAAAgdUAh6obcojxNGkBCnQEaCSEAAAAAAOy3QBoJIQAAAAAA7LdAGgkhAAAAAADst0AaCSEAAAAAAOy3QBoJIQAAAAAA7LdAGgkhAAAAAADst0AaCSEAAAAAAOy3QBoSEQAAAAAAAPA/IQAAAAAAGcBAGhsJAAAAAAAA8D8RAAAAAAAAAEAhAAAAAAAWpkAaGwkAAAAAAAAAQBEAAAAAACB1QCEAAAAAAKauQCABQg0KC3NlcnZlcl93aWtpGs4GGroGCrgCCITEAxgBIAEtAACAPzKkAhobCQAAAAAAAPA/EQAAAAAAAPA/IQAAAAAAmrZAGhsJAAAAAAAA8D8RAAAAAAAA8D8hAAAAAACatkAaGwkAAAAAAADwPxEAAAAAAADwPyEAAAAAAJq2QBobCQAAAAAAAPA/EQAAAAAAAPA/IQAAAAAAmrZAGhsJAAAAAAAA8D8RAAAAAAAA8D8hAAAAAACatkAaGwkAAAAAAADwPxEAAAAAAADwPyEAAAAAAJq2QBobCQAAAAAAAPA/EQAAAAAAAPA/IQAAAAAAmrZAGhsJAAAAAAAA8D8RAAAAAAAA8D8hAAAAAACatkAaGwkAAAAAAADwPxEAAAAAAADwPyEAAAAAAJq2QBobCQAAAAAAAPA/EQAAAAAAAPA/IQAAAAAAmrZAIAFAhMQDEXuwDLP7cgVAGZu0XqdwsBhAIKuCAjkAAAAAAEBpQEKZAhoSETMzMzMzMzRAIaWZmZlpketAGhsJMzMzMzMzNEARMzMzMzMzREAh3t3d3d3jkkAaGwkzMzMzMzNEQBHMzMzMzExOQCGj5R+PwARhQBobCczMzMzMTE5AETMzMzMzM1RAIaqaIiZEwx9AGhsJMzMzMzMzVEARAAAAAABAWUAhqpoiJkTDH0AaGwkAAAAAAEBZQBHMzMzMzExeQCGlmiImRMMfQBobCczMzMzMTF5AEc3MzMzMrGFAIbGaIiZEwx9AGhsJzczMzMysYUARMzMzMzMzZEAhpZoiJkTDH0AaGwkzMzMzMzNkQBGZmZmZmblmQCGlmiImRMMfQBobCZmZmZmZuWZAEQAAAAAAQGlAIbGaIiZEwx9AQsEBGgkhZmZmZmbVuUAaCSFmZmZmZtW5QBoJIWZmZmZm1blAGgkhZmZmZmbVuUAaCSFmZmZmZtW5QBoSEQAAAAAAAPA/IQAAAAAABrpAGhsJAAAAAAAA8D8RAAAAAAAAAEAhAAAAAADirUAaGwkAAAAAAAAAQBEAAAAAAAAQQCEAAAAAAD+xQBobCQAAAAAAABBAEQAAAAAAACBAIQAAAAAAeLBAGhsJAAAAAAAAIEARAAAAAABAaUAhAAAAAAArtkAgAUIPCg1jaGFwdGVyX2NvdW50GpAHGvkGCrgCCITEAxgBIAEtAACAPzKkAhobCQAAAAAAAPA/EQAAAAAAAPA/IQAAAAAAmrZAGhsJAAAAAAAA8D8RAAAAAAAA8D8hAAAAAACatkAaGwkAAAAAAADwPxEAAAAAAADwPyEAAAAAAJq2QBobCQAAAAAAAPA/EQAAAAAAAPA/IQAAAAAAmrZAGhsJAAAAAAAA8D8RAAAAAAAA8D8hAAAAAACatkAaGwkAAAAAAADwPxEAAAAAAADwPyEAAAAAAJq2QBobCQAAAAAAAPA/EQAAAAAAAPA/IQAAAAAAmrZAGhsJAAAAAAAA8D8RAAAAAAAA8D8hAAAAAACatkAaGwkAAAAAAADwPxEAAAAAAADwPyEAAAAAAJq2QBobCQAAAAAAAPA/EQAAAAAAAPA/IQAAAAAAmrZAIAFAhMQDEZcPDy0OnzJAGbJzPHH7oUdAIOyGATEAAAAAAAAIQDkAAAAAAGqsQEKZAhoSETMzMzMzu3ZAIbrMzMx8MuxAGhsJMzMzMzO7dkARMzMzMzO7hkAhPhsoHSApTkAaGwkzMzMzM7uGQBFmZmZmZgyRQCGPsaSvrOMZQBobCWZmZmZmDJFAETMzMzMzu5ZAIZGxpK+s4xlAGhsJMzMzMzO7lkARAAAAAABqnEAhkbGkr6zjGUAaGwkAAAAAAGqcQBFmZmZmZgyhQCGMsaSvrOMZQBobCWZmZmZmDKFAEc3MzMzM46NAIZWxpK+s4xlAGhsJzczMzMzjo0ARMzMzMzO7pkAhjLGkr6zjGUAaGwkzMzMzM7umQBGZmZmZmZKpQCGMsaSvrOMZQBobCZmZmZmZkqlAEQAAAAAAaqxAIZWxpK+s4xlAQvcBGgkhAAAAAADbwEAaCSEAAAAAANvAQBoSEQAAAAAAAPA/IQAAAAAAc7VAGhsJAAAAAAAA8D8RAAAAAAAAAEAhAAAAAADor0AaGwkAAAAAAAAAQBEAAAAAAAAIQCEAAAAAAPCmQBobCQAAAAAAAAhAEQAAAAAAABhAIQAAAAAAs7VAGhsJAAAAAAAAGEARAAAAAAAAKEAhAAAAAAD+tUAaGwkAAAAAAAAoQBEAAAAAAAA4QCEAAAAAAIG1QBobCQAAAAAAADhAEQAAAAAAAEtAIQAAAAAAPrZAGhsJAAAAAAAAS0ARAAAAAABqrEAhAAAAAABJtkAgAUISChBzZXF1ZW50aWFsX2NvdW50GucGGtUGCrgCCITEAxgBIAEtAACAPzKkAhobCQAAAAAAAPA/EQAAAAAAAPA/IQAAAAAAmrZAGhsJAAAAAAAA8D8RAAAAAAAA8D8hAAAAAACatkAaGwkAAAAAAADwPxEAAAAAAADwPyEAAAAAAJq2QBobCQAAAAAAAPA/EQAAAAAAAPA/IQAAAAAAmrZAGhsJAAAAAAAA8D8RAAAAAAAA8D8hAAAAAACatkAaGwkAAAAAAADwPxEAAAAAAADwPyEAAAAAAJq2QBobCQAAAAAAAPA/EQAAAAAAAPA/IQAAAAAAmrZAGhsJAAAAAAAA8D8RAAAAAAAA8D8hAAAAAACatkAaGwkAAAAAAADwPxEAAAAAAADwPyEAAAAAAJq2QBobCQAAAAAAAPA/EQAAAAAAAPA/IQAAAAAAmrZAIAFAhMQDEbM9YtFJNRVAGWlzCWp4gSdAIKHAATEAAAAAAADwPzkAAAAAABB3QEKZAhoSETMzMzMzc0JAIdb///9vaetAGhsJMzMzMzNzQkARMzMzMzNzUkAhMzMzMzNRl0AaGwkzMzMzM3NSQBHMzMzMzKxbQCH7Yvgnrs1lQBobCczMzMzMrFtAETMzMzMzc2JAIYbGra8luh5AGhsJMzMzMzNzYkARAAAAAAAQZ0AhhsatryW6HkAaGwkAAAAAABBnQBHMzMzMzKxrQCF/xq2vJboeQBobCczMzMzMrGtAEc3MzMzMJHBAIY3Gra8luh5AGhsJzczMzMwkcEARMzMzMzNzckAhf8atryW6HkAaGwkzMzMzM3NyQBGZmZmZmcF0QCF/xq2vJboeQBobCZmZmZmZwXRAEQAAAAAAEHdAIY3Gra8luh5AQtMBGgkhAAAAAEAIuEAaCSEAAAAAQAi4QBoJIQAAAABACLhAGgkhAAAAAEAIuEAaEhEAAAAAAADwPyEAAAAAgNbBQBobCQAAAAAAAPA/EQAAAAAAAABAIQAAAAAAbLJAGhsJAAAAAAAAAEARAAAAAAAACEAhAAAAAAB0pkAaGwkAAAAAAAAIQBEAAAAAAAAcQCEAAAAAAJG2QBobCQAAAAAAABxAEQAAAAAAADBAIQAAAAAATrRAGhsJAAAAAAAAMEARAAAAAAAQd0AhAAAAAACxtUAgAUINCgt2aWRlb19jb3VudBq8BhqoBgq4AgiExAMYASABLQAAgD8ypAIaGwkAAAAAAADwPxEAAAAAAADwPyEAAAAAAJq2QBobCQAAAAAAAPA/EQAAAAAAAPA/IQAAAAAAmrZAGhsJAAAAAAAA8D8RAAAAAAAA8D8hAAAAAACatkAaGwkAAAAAAADwPxEAAAAAAADwPyEAAAAAAJq2QBobCQAAAAAAAPA/EQAAAAAAAPA/IQAAAAAAmrZAGhsJAAAAAAAA8D8RAAAAAAAA8D8hAAAAAACatkAaGwkAAAAAAADwPxEAAAAAAADwPyEAAAAAAJq2QBobCQAAAAAAAPA/EQAAAAAAAPA/IQAAAAAAmrZAGhsJAAAAAAAA8D8RAAAAAAAA8D8hAAAAAACatkAaGwkAAAAAAADwPxEAAAAAAADwPyEAAAAAAJq2QCABQITEAxFDmSwoIvYkQBmD9wGpWFVBQCCmqQI5AAAAAACwj0BCmQIaEhGamZmZmVlZQCHLmZmZ+bHrQBobCZqZmZmZWVlAEZqZmZmZWWlAIZIkSZIk/YVAGhsJmpmZmZlZaUARNDMzMzMDc0AhJayMZQtVcUAaGwk0MzMzMwNzQBGamZmZmVl5QCFaMavBKvBZQBobCZqZmZmZWXlAEQAAAAAAsH9AIbldMi4VfyJAGhsJAAAAAACwf0ARNDMzMzMDg0Ahv10yLhV/IkAaGwk0MzMzMwODQBFnZmZmZi6GQCG5XTIuFX8iQBobCWdmZmZmLoZAEZqZmZmZWYlAIbldMi4VfyJAGhsJmpmZmZlZiUARzczMzMyEjEAhuV0yLhV/IkAaGwnNzMzMzISMQBEAAAAAALCPQCG5XTIuFX8iQEKvARoJIVVVVVVVxrhAGgkhVVVVVVXGuEAaCSFVVVVVVca4QBoJIVVVVVVVxrhAGgkhVVVVVVXGuEAaCSFVVVVVVca4QBoSEQAAAAAAAAhAIQAAAAAAtKNAGhsJAAAAAAAACEARAAAAAAAAJEAhAAAAAADGtkAaGwkAAAAAAAAkQBEAAAAAAAA8QCEAAAAAAMW2QBobCQAAAAAAADxAEQAAAAAAsI9AIQAAAAAA+bVAIAFCDwoNcHJvYmxlbV9jb3VudBq/BhqoBgq4AgiExAMYASABLQAAgD8ypAIaGwkAAAAAAADwPxEAAAAAAADwPyEAAAAAAJq2QBobCQAAAAAAAPA/EQAAAAAAAPA/IQAAAAAAmrZAGhsJAAAAAAAA8D8RAAAAAAAA8D8hAAAAAACatkAaGwkAAAAAAADwPxEAAAAAAADwPyEAAAAAAJq2QBobCQAAAAAAAPA/EQAAAAAAAPA/IQAAAAAAmrZAGhsJAAAAAAAA8D8RAAAAAAAA8D8hAAAAAACatkAaGwkAAAAAAADwPxEAAAAAAADwPyEAAAAAAJq2QBobCQAAAAAAAPA/EQAAAAAAAPA/IQAAAAAAmrZAGhsJAAAAAAAA8D8RAAAAAAAA8D8hAAAAAACatkAaGwkAAAAAAADwPxEAAAAAAADwPyEAAAAAAJq2QCABQITEAxE4z8PIsHsVQBkH4d6JOI8/QCDFqwI5AAAAAAB0rUBCmQIaEhEAAAAAAJB3QCGTSFoYfTnsQBobCQAAAAAAkHdAEQAAAAAAkIdAIS49N03i7RhAGhsJAAAAAACQh0ARAAAAAACskUAhLj03TeLtGEAaGwkAAAAAAKyRQBEAAAAAAJCXQCEuPTdN4u0YQBobCQAAAAAAkJdAEQAAAAAAdJ1AIS49N03i7RhAGhsJAAAAAAB0nUARAAAAAACsoUAhLj03TeLtGEAaGwkAAAAAAKyhQBEAAAAAAJ6kQCEuPTdN4u0YQBobCQAAAAAAnqRAEQAAAAAAkKdAIS49N03i7RhAGhsJAAAAAACQp0ARAAAAAACCqkAhLj03TeLtGEAaGwkAAAAAAIKqQBEAAAAAAHStQCEuPTdN4u0YQEKvARoJIauqqqoq9rhAGgkhq6qqqir2uEAaCSGrqqqqKva4QBoJIauqqqoq9rhAGgkhq6qqqir2uEAaCSGrqqqqKva4QBoSEQAAAAAAAPA/IQAAAAAAKrFAGhsJAAAAAAAA8D8RAAAAAAAACEAhAAAAAABWsEAaGwkAAAAAAAAIQBEAAAAAAAAmQCEAAAAAAG+1QBobCQAAAAAAACZAEQAAAAAAdK1AIQAAAAAAULVAIAFCEgoQZGlzY3Vzc2lvbl9jb3VudBrWBxq0Bwq4AgiExAMYASABLQAAgD8ypAIaGwkAAAAAAADwPxEAAAAAAADwPyEAAAAAAJq2QBobCQAAAAAAAPA/EQAAAAAAAPA/IQAAAAAAmrZAGhsJAAAAAAAA8D8RAAAAAAAA8D8hAAAAAACatkAaGwkAAAAAAADwPxEAAAAAAADwPyEAAAAAAJq2QBobCQAAAAAAAPA/EQAAAAAAAPA/IQAAAAAAmrZAGhsJAAAAAAAA8D8RAAAAAAAA8D8hAAAAAACatkAaGwkAAAAAAADwPxEAAAAAAADwPyEAAAAAAJq2QBobCQAAAAAAAPA/EQAAAAAAAPA/IQAAAAAAmrZAGhsJAAAAAAAA8D8RAAAAAAAA8D8hAAAAAACatkAaGwkAAAAAAADwPxEAAAAAAADwPyEAAAAAAJq2QCABQITEAxG/VltXuFAsQBlFiVHap+gLQCkAAAAAAAAcQDEAAAAAAAAsQDkAAAAAAAA6QEKiAhobCQAAAAAAABxAEc3MzMzMzCFAIZOZmZmZvKtAGhsJzczMzMzMIUARmpmZmZmZJUAhNDMzMzPNmUAaGwmamZmZmZklQBFmZmZmZmYpQCGwPY2w7JbLQBobCWZmZmZmZilAETMzMzMzMy1AIe72NmQlxc5AGhsJMzMzMzMzLUARAAAAAACAMEAhVsjaRhCuxkAaGwkAAAAAAIAwQBFmZmZmZmYyQCF6wv48LlyvQBobCWZmZmZmZjJAEczMzMzMTDRAIRxZxHi/e7VAGhsJzMzMzMxMNEARMzMzMzMzNkAh14pGAr55N0AaGwkzMzMzMzM2QBGZmZmZmRk4QCHKikYCvnk3QBobCZmZmZmZGThAEQAAAAAAADpAIaORgG9eFZlAQqQCGhsJAAAAAAAAHEARAAAAAAAAJkAhAAAAAABUvEAaGwkAAAAAAAAmQBEAAAAAAAAoQCEAAAAAgIG3QBobCQAAAAAAAChAEQAAAAAAAChAIQAAAACAgbdAGhsJAAAAAAAAKEARAAAAAAAAKkAhAAAAAAAvukAaGwkAAAAAAAAqQBEAAAAAAAAsQCEAAAAAgLCxQBobCQAAAAAAACxAEQAAAAAAACxAIQAAAACAsLFAGhsJAAAAAAAALEARAAAAAAAALkAhAAAAAAAswEAaGwkAAAAAAAAuQBEAAAAAAAAwQCEAAAAAABSqQBobCQAAAAAAADBAEQAAAAAAADNAIQAAAAAA1L1AGhsJAAAAAAAAM0ARAAAAAAAAOkAhAAAAAADOq0AgAUIdCht0YWtlZF9jb3Vyc2VfY2hhcHRlcl9hbW91bnQa1AcatAcKuAIIhMQDGAEgAS0AAIA/MqQCGhsJAAAAAAAA8D8RAAAAAAAA8D8hAAAAAACatkAaGwkAAAAAAADwPxEAAAAAAADwPyEAAAAAAJq2QBobCQAAAAAAAPA/EQAAAAAAAPA/IQAAAAAAmrZAGhsJAAAAAAAA8D8RAAAAAAAA8D8hAAAAAACatkAaGwkAAAAAAADwPxEAAAAAAADwPyEAAAAAAJq2QBobCQAAAAAAAPA/EQAAAAAAAPA/IQAAAAAAmrZAGhsJAAAAAAAA8D8RAAAAAAAA8D8hAAAAAACatkAaGwkAAAAAAADwPxEAAAAAAADwPyEAAAAAAJq2QBobCQAAAAAAAPA/EQAAAAAAAPA/IQAAAAAAmrZAGhsJAAAAAAAA8D8RAAAAAAAA8D8hAAAAAACatkAgAUCExAMREoEDOjL6XEAZgnlpRNCBV0ApAAAAAAAAQkAxAAAAAACAVEA5AAAAAABgf0BCogIaGwkAAAAAAABCQBFmZmZmZqZUQCHLm970JmLcQBobCWZmZmZmplRAEWZmZmZmJmBAIWok0tgnws5AGhsJZmZmZmYmYEARmpmZmZn5ZUAh9oslv1gntEAaGwmamZmZmfllQBHNzMzMzMxrQCFwPQrXIwSWQBobCc3MzMzMzGtAEQAAAAAA0HBAIacdQXiKY6tAGhsJAAAAAADQcEARmpmZmZm5c0AhnJ0kQ0BUi0AaGwmamZmZmblzQBEzMzMzM6N2QCEw6wS6wDInQBobCTMzMzMzo3ZAEc3MzMzMjHlAITjrBLrAMidAGhsJzczMzMyMeUARZ2ZmZmZ2fEAhOOsEusAyJ0AaGwlnZmZmZnZ8QBEAAAAAAGB/QCHrBLrAMh+gQEKkAhobCQAAAAAAAEJAEQAAAAAAAExAIQAAAACAFrpAGhsJAAAAAAAATEARAAAAAAAATEAhAAAAAIATtkAaGwkAAAAAAABMQBEAAAAAAEBQQCEAAAAAADy+QBobCQAAAAAAQFBAEQAAAAAAgFBAIQAAAAAAtbZAGhsJAAAAAACAUEARAAAAAACAVEAhAAAAAADEqEAaGwkAAAAAAIBUQBEAAAAAAIBbQCEAAAAAAIW7QBobCQAAAAAAgFtAEQAAAAAAgFxAIQAAAAAAFrNAGhsJAAAAAACAXEARAAAAAAAAYUAhAAAAAADQtkAaGwkAAAAAAABhQBEAAAAAAABwQCEAAAAAAAW9QBobCQAAAAAAAHBAEQAAAAAAYH9AIQAAAAAALqxAIAFCGwoZdGFrZWRfY291cnNlX3ZpZGVvX2Ftb3VudBrNBhqoBgq4AgiExAMYASABLQAAgD8ypAIaGwkAAAAAAADwPxEAAAAAAADwPyEAAAAAAJq2QBobCQAAAAAAAPA/EQAAAAAAAPA/IQAAAAAAmrZAGhsJAAAAAAAA8D8RAAAAAAAA8D8hAAAAAACatkAaGwkAAAAAAADwPxEAAAAAAADwPyEAAAAAAJq2QBobCQAAAAAAAPA/EQAAAAAAAPA/IQAAAAAAmrZAGhsJAAAAAAAA8D8RAAAAAAAA8D8hAAAAAACatkAaGwkAAAAAAADwPxEAAAAAAADwPyEAAAAAAJq2QBobCQAAAAAAAPA/EQAAAAAAAPA/IQAAAAAAmrZAGhsJAAAAAAAA8D8RAAAAAAAA8D8hAAAAAACatkAaGwkAAAAAAADwPxEAAAAAAADwPyEAAAAAAJq2QCABQITEAxH2QwBxjzdCQBkp9L/HvF5ZQCC0kQI5AAAAAACQfUBCmQIaEhFmZmZmZqZHQCEAxbOiTdTnQBobCWZmZmZmpkdAEWZmZmZmpldAIQRispfd3qVAGhsJZmZmZmamV0ARzMzMzMy8YUAhpOjEqV6vokAaGwnMzMzMzLxhQBFmZmZmZqZnQCG5q+4dEgk2QBobCWZmZmZmpmdAEQAAAAAAkG1AIbmr7h0SCTZAGhsJAAAAAACQbUARzMzMzMy8cUAhSeBice/ZjUAaGwnMzMzMzLxxQBGZmZmZmbF0QCGzkdv6H6+EQBobCZmZmZmZsXRAEWZmZmZmpndAIbxMPAIuty5AGhsJZmZmZmamd0ARMzMzMzObekAhvEw8Ai63LkAaGwkzMzMzM5t6QBEAAAAAAJB9QCEtmMATE/2gQEKvARoJIauqqqqqyLZAGgkhq6qqqqrItkAaCSGrqqqqqsi2QBoJIauqqqqqyLZAGgkhq6qqqqrItkAaCSGrqqqqqsi2QBoSEQAAAAAAAPA/IQAAAAAAxrZAGhsJAAAAAAAA8D8RAAAAAAAANUAhAAAAAACSt0AaGwkAAAAAAAA1QBEAAAAAAMBcQCEAAAAAAHK1QBobCQAAAAAAwFxAEQAAAAAAkH1AIQAAAAAAhrVAIAFCIAoedGFrZWRfY291cnNlX2Rpc2N1c3Npb25fYW1vdW50GoYHGvgGCrgCCITEAxgBIAEtAACAPzKkAhobCQAAAAAAAPA/EQAAAAAAAPA/IQAAAAAAmrZAGhsJAAAAAAAA8D8RAAAAAAAA8D8hAAAAAACatkAaGwkAAAAAAADwPxEAAAAAAADwPyEAAAAAAJq2QBobCQAAAAAAAPA/EQAAAAAAAPA/IQAAAAAAmrZAGhsJAAAAAAAA8D8RAAAAAAAA8D8hAAAAAACatkAaGwkAAAAAAADwPxEAAAAAAADwPyEAAAAAAJq2QBobCQAAAAAAAPA/EQAAAAAAAPA/IQAAAAAAmrZAGhsJAAAAAAAA8D8RAAAAAAAA8D8hAAAAAACatkAaGwkAAAAAAADwPxEAAAAAAADwPyEAAAAAAJq2QBobCQAAAAAAAPA/EQAAAAAAAPA/IQAAAAAAmrZAIAFAhMQDEaT2kIHnZ+k/GUazBqL64tk/IJNdMQAAAAAAAPA/OQAAAAAAAPA/QpkCGhIRmpmZmZmZuT8hwO3Mi2RMx0AaGwmamZmZmZm5PxGamZmZmZnJPyFjhm5nXiQXQBobCZqZmZmZmck/ETQzMzMzM9M/IWWGbmdeJBdAGhsJNDMzMzMz0z8RmpmZmZmZ2T8hYYZuZ14kF0AaGwmamZmZmZnZPxEAAAAAAADgPyFhhm5nXiQXQBobCQAAAAAAAOA/ETQzMzMzM+M/IWiGbmdeJBdAGhsJNDMzMzMz4z8RZ2ZmZmZm5j8hYYZuZ14kF0AaGwlnZmZmZmbmPxGamZmZmZnpPyFhhm5nXiQXQBobCZqZmZmZmek/Ec3MzMzMzOw/IWGGbmdeJBdAGhsJzczMzMzM7D8RAAAAAAAA8D8h7uhyxZ1n5kBC9wEaCSEAAAAAgEm3QBoJIQAAAACASbdAGhIRAAAAAAAA8D8hAAAAACButkAaGwkAAAAAAADwPxEAAAAAAADwPyEAAAAAIG62QBobCQAAAAAAAPA/EQAAAAAAAPA/IQAAAAAgbrZAGhsJAAAAAAAA8D8RAAAAAAAA8D8hAAAAACButkAaGwkAAAAAAADwPxEAAAAAAADwPyEAAAAAIG62QBobCQAAAAAAAPA/EQAAAAAAAPA/IQAAAAAgbrZAGhsJAAAAAAAA8D8RAAAAAAAA8D8hAAAAACButkAaGwkAAAAAAADwPxEAAAAAAADwPyEAAAAAIG62QCABQgkKB1N1Y2Nlc3M=\"></facets-overview>';\n",
              "        facets_iframe.srcdoc = facets_html;\n",
              "         facets_iframe.id = \"\";\n",
              "         setTimeout(() => {\n",
              "           facets_iframe.setAttribute('height', facets_iframe.contentWindow.document.body.offsetHeight + 'px')\n",
              "         }, 1500)\n",
              "         </script>"
            ]
          },
          "metadata": {}
        }
      ]
    },
    {
      "cell_type": "code",
      "source": [
        "from tensorflow_data_validation.utils import slicing_util\n",
        "from tensorflow_metadata.proto.v0.statistics_pb2 import DatasetFeatureStatisticsList, DatasetFeatureStatistics\n",
        "\n",
        "\n",
        "# Generate slice function for the `medical_speciality` feature\n",
        "slice_fn = slicing_util.get_feature_value_slicer(features={'chapter_count': None})\n",
        "\n",
        "# Generate stats for the sliced dataset\n",
        "slice_datasets = sliced_stats_for_slice_fn(slice_fn, approved_cols, dataframe=train_data, schema=train_schema)\n",
        "\n",
        "# Print name of slices for reference\n",
        "print(f'Statistics generated for:\\n')\n",
        "print('\\n'.join([sliced.datasets[0].name for sliced in slice_datasets]))"
      ],
      "metadata": {
        "colab": {
          "base_uri": "https://localhost:8080/"
        },
        "id": "WqqEKAQ2N9Ep",
        "outputId": "bbb9dd95-b3f3-48f7-90e9-20a755f2e64e"
      },
      "execution_count": null,
      "outputs": [
        {
          "output_type": "stream",
          "name": "stdout",
          "text": [
            "Statistics generated for:\n",
            "\n",
            "All Examples\n",
            "chapter_count_0\n",
            "chapter_count_1\n",
            "chapter_count_24\n",
            "chapter_count_2\n",
            "chapter_count_26\n",
            "chapter_count_12\n",
            "chapter_count_3\n",
            "chapter_count_13\n",
            "chapter_count_16\n",
            "chapter_count_8\n",
            "chapter_count_11\n",
            "chapter_count_7\n",
            "chapter_count_4\n",
            "chapter_count_9\n",
            "chapter_count_18\n",
            "chapter_count_6\n",
            "chapter_count_5\n",
            "chapter_count_10\n",
            "chapter_count_19\n",
            "chapter_count_22\n",
            "chapter_count_36\n",
            "chapter_count_15\n",
            "chapter_count_14\n",
            "chapter_count_27\n",
            "chapter_count_23\n",
            "chapter_count_43\n",
            "chapter_count_30\n",
            "chapter_count_28\n",
            "chapter_count_17\n",
            "chapter_count_47\n",
            "chapter_count_35\n",
            "chapter_count_25\n",
            "chapter_count_21\n",
            "chapter_count_44\n",
            "chapter_count_20\n",
            "chapter_count_37\n",
            "chapter_count_32\n",
            "chapter_count_34\n",
            "chapter_count_58\n",
            "chapter_count_33\n",
            "chapter_count_29\n",
            "chapter_count_104\n",
            "chapter_count_132\n",
            "chapter_count_41\n",
            "chapter_count_38\n",
            "chapter_count_62\n",
            "chapter_count_53\n",
            "chapter_count_42\n",
            "chapter_count_31\n",
            "chapter_count_40\n",
            "chapter_count_54\n",
            "chapter_count_48\n",
            "chapter_count_78\n",
            "chapter_count_52\n",
            "chapter_count_71\n",
            "chapter_count_56\n",
            "chapter_count_49\n",
            "chapter_count_39\n",
            "chapter_count_45\n",
            "chapter_count_64\n",
            "chapter_count_100\n",
            "chapter_count_65\n",
            "chapter_count_75\n",
            "chapter_count_63\n",
            "chapter_count_73\n",
            "chapter_count_60\n",
            "chapter_count_55\n",
            "chapter_count_46\n",
            "chapter_count_61\n",
            "chapter_count_51\n",
            "chapter_count_50\n",
            "chapter_count_59\n",
            "chapter_count_57\n",
            "chapter_count_91\n",
            "chapter_count_98\n",
            "chapter_count_83\n",
            "chapter_count_74\n",
            "chapter_count_137\n",
            "chapter_count_123\n",
            "chapter_count_202\n",
            "chapter_count_85\n",
            "chapter_count_67\n",
            "chapter_count_80\n",
            "chapter_count_72\n",
            "chapter_count_76\n",
            "chapter_count_96\n",
            "chapter_count_86\n"
          ]
        }
      ]
    },
    {
      "cell_type": "code",
      "source": [
        "# Display at index 0, which corresponds to the slice named `chapter_count_0`\n",
        "display_stats_at_index(20, slice_datasets) "
      ],
      "metadata": {
        "colab": {
          "base_uri": "https://localhost:8080/",
          "height": 1000
        },
        "id": "vY1g81M_Dxh2",
        "outputId": "bb22738d-789d-4ade-d275-74a20d06a3fc"
      },
      "execution_count": null,
      "outputs": [
        {
          "output_type": "stream",
          "name": "stdout",
          "text": [
            "chapter_count_22\n"
          ]
        },
        {
          "output_type": "display_data",
          "data": {
            "text/plain": [
              "<IPython.core.display.HTML object>"
            ],
            "text/html": [
              "<iframe id='facets-iframe' width=\"100%\" height=\"500px\"></iframe>\n",
              "        <script>\n",
              "        facets_iframe = document.getElementById('facets-iframe');\n",
              "        facets_html = '<script src=\"https://cdnjs.cloudflare.com/ajax/libs/webcomponentsjs/1.3.3/webcomponents-lite.js\"><\\/script><link rel=\"import\" href=\"https://raw.githubusercontent.com/PAIR-code/facets/master/facets-dist/facets-jupyter.html\"><facets-overview proto-input=\"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\"></facets-overview>';\n",
              "        facets_iframe.srcdoc = facets_html;\n",
              "         facets_iframe.id = \"\";\n",
              "         setTimeout(() => {\n",
              "           facets_iframe.setAttribute('height', facets_iframe.contentWindow.document.body.offsetHeight + 'px')\n",
              "         }, 1500)\n",
              "         </script>"
            ]
          },
          "metadata": {}
        }
      ]
    },
    {
      "cell_type": "code",
      "source": [],
      "metadata": {
        "id": "JMf0E1olLhiT"
      },
      "execution_count": null,
      "outputs": []
    }
  ]
}